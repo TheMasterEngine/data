{
  "nbformat": 4,
  "nbformat_minor": 0,
  "metadata": {
    "colab": {
      "name": "Tarea 2 2020.ipynb",
      "provenance": [],
      "collapsed_sections": [
        "lC5yFNDdwQS4",
        "uxQfDf73wQS5",
        "aVWswZ3WwQS5",
        "FR1XBz4YwQS5",
        "a4jScrf7wQS5",
        "84vwZQaYwQS5",
        "PbHf7cvHwQS5",
        "zTRHBBBXwQS5",
        "mi_F0IeFwQS5",
        "yW76HuWewQS5",
        "Q4VUkhPNwQS5",
        "gzkvS_cNwQS5",
        "WHPRuvykwQS5",
        "QuNt5BIGwQS5",
        "4wptHBNYwQS5"
      ],
      "toc_visible": true,
      "include_colab_link": true
    },
    "kernelspec": {
      "display_name": "Python 3",
      "language": "python",
      "name": "python3"
    },
    "language_info": {
      "codemirror_mode": {
        "name": "ipython",
        "version": 3
      },
      "file_extension": ".py",
      "mimetype": "text/x-python",
      "name": "python",
      "nbconvert_exporter": "python",
      "pygments_lexer": "ipython3",
      "version": "3.8.3"
    }
  },
  "cells": [
    {
      "cell_type": "markdown",
      "metadata": {
        "id": "view-in-github",
        "colab_type": "text"
      },
      "source": [
        "<a href=\"https://colab.research.google.com/github/TheMasterEngine/data/blob/master/Tarea_2_2020.ipynb\" target=\"_parent\"><img src=\"https://colab.research.google.com/assets/colab-badge.svg\" alt=\"Open In Colab\"/></a>"
      ]
    },
    {
      "cell_type": "markdown",
      "metadata": {
        "id": "K3s9err5wQS4"
      },
      "source": [
        "<img src=\"https://www.upla.cl/normasgraficas/wp-content/uploads/2016/01/logo_upla.png\" title=\"Title text\" width=\"35%\" height=\"20%\" />\n",
        "\n",
        "\n",
        "<hr style=\"height:2px;border:none\"/>\n",
        "<h1 align='center'> CIF 8458 Ingeniería del Conocimiento II-2020 </h1>\n",
        "\n",
        "<H3 align='center'> Tarea 2 - Redes Neuronales y Aprendizaje No supervisado </H3>\n",
        "<hr style=\"height:2px;border:none\"/>\n",
        "\n",
        "**Temas**  \n",
        "* Redes Densas Feed Forward\n",
        "* Regularización y Dropout\n",
        "* Vanishing Gradient y Skip Connections\n",
        "* Learn Rate Decay\n",
        "* Optimizadores\n",
        "* Aprendizaje No Supervisado\n",
        "\n",
        "\n",
        "** Formalidades **  \n",
        "* Se debe realizar un jupyter notebook con los pasos, descripciones, análisis y conclusiones.\n",
        "* La tarea es individual, la copia parcial o total será penalizada con nota 1.\n",
        "* La entrega de la tarea se realizará en el sistema <em>eaula </em> (se debe adjuntar el archivo .ipynb).\n",
        "* Fecha de Entrega: Domingo 6 de Diciembre, 23:00 horas. \n",
        "* El sistema no aceptarán tareas con retraso.\n",
        "* Debe estar preparad@ para presentar su tarea en horario a determinar. \n",
        "* La Nota del informe se calcula: $\\left(\\frac{\\mbox{suma de puntos obtenidos}*6}{50}\\right)+1$\n",
        "\n",
        "<hr style=\"height:2px;border:none\"/>\n",
        "\n",
        "**Uso de google colab**\n",
        "Se recomienda el uso de google colab para evitar usar los recursos de su computador local.\n",
        "\n",
        "**Paquetes instalación**\n",
        "Para poder trabajar en el curso se necesitará instalar librerías para Python, por lo que se recomienda instalarlas a través de anaconda (para Windows y sistemas Unix) en un entorno virtual, donde podrán elegir su versión de Python. Se instalarán librerías como sklearn, una librería simple y de facil acceso para data science, keras en su versión con GPU (para cálculo acelerado a través de la tarjeta gráfica), además de que ésta utiliza como backend TensorFlow o Theano, por lo que habrá que instalar alguno de éstos, además de las librerías básicas de computer science como numpy, matplotlib, pandas, además de claramente jupyter.\n",
        "\n",
        "Descargar anaconda\n",
        "\n",
        "Luego de instalar Anaconda y tenerla en el path de su computador crear un entorno virtual:\n",
        "\n",
        "conda create -n redesneuronales python=version\n",
        "con version, la version de Python que desea utilizar. Si está en Windows, se recomienda Python 3 (es decir, python = 3) debido a dependencias con una de las librerías a utilizar.\n",
        "\n",
        "Acceder al ambiente creado\n",
        "\n",
        "source activate redesneuronales\n",
        "Instalar los paquetes a utilizar\n",
        "\n",
        "conda install jupyter sklearn numpy pandas matplotlib keras-gpu tensorflow-gpu\n",
        "(Si no tienen gpu instalan los paquetes keras y tensorflow en luegar de keras-gpu y tensorflow-gpu)\n",
        "\n",
        "Para salir del entorno\n",
        "source deactivate redesneuronales\n",
        "\n",
        "\n",
        "**Observaciones**\n",
        "La tarea tiene ejemplos de códigos con los cuales pueden guiarse en gran parte, sin embargo, solo son guias y pueden ser creativos al momento de resolver la tarea. Soluciones creativas o elegantes serán valoradas. También en algunas ocaciones se hacen elecciones arbitrarias, ustedes pueden realizar otras elecciones con tal de que haya una pequeña justificación de por qué su elección es mejor o equivalente.\n",
        "Recuerden intercalar su código con *comentarios* en celdas _Markdown_, con los comentarios de la pregunta y con cualquier analisis, fórmula (en $ \\LaTeX $) o explicación que les parezca relevante para justificar sus procedimientos. *No respondan las preguntas en comentarios en el código*.\n",
        "Noten que en general cuando se les pide elegir algo o proponer algo no se evaluará tanto la elección en si. En cambio la argumentación detrás de la elección será lo más ponderado.\n",
        "Si algun modelo se demora demasiado en correr en su maquina, no olvide que puede correr _Jupyter Notebooks_ en _Collab_ de Google, incluso con la opción de aceleración con GPU (particularmente útil para los modelos más grandes), esto puede ser relevante para las maquinas más lentas al momento de realizar exploraciones con _K-folds_ o las redes más grandes. "
      ]
    },
    {
      "cell_type": "markdown",
      "metadata": {
        "id": "n7BvE3E_wQS4"
      },
      "source": [
        "# 1 - Redes Feed Forward para predecir la resistencia a la compresión del hormigón\n",
        "\n",
        "De las redes neuronales artificiales más simples se encuentran las redes densas o _Feed Forward_, donde todas las neuronas de una capa estan conectadas a todos los inputs y envian su señal de activación a todas las neuronas de la siguiente capa. Estas redes, si bien son las más simples, suelen tener desempeños bastante buenos, y en muchas aplicaciones reales son utilizadas, ya sea por si solas o en combinación con otros modelos. Además, son las redes donde más facil se pueden observar muchos de los fenómenos que se han descubierto a lo largo de los años de desarrollo de esta area del conocimiento, tanto por ser de las redes vigentes más antiguas y por su estructura relativamente simple. En esta primera parte de la tarea exploraremos las redes densas y algunos de sus hiperparámetros más relevantes como la profundidad, el número de unidades; estudiaremos también algunos métodos de regularización y evidenciaremos el problema del _vanishing gradient_ y el _exploding gradient_, viendo también algunos optimizadores existentes. \n",
        "\n",
        "Para realizar esto, utilizaremos una base de datos con información para determinar la resistencia a la compresión del hormigón (material muy importante para la construcciones, más para nosotros que vivimos en una zona sísmica), la cual se encuentra en el repositorio de datos de la Universidad de California, Irvine, en la siguiente URL: https://archive.ics.uci.edu/ml/datasets/Concrete+Compressive+Strength. El dataset cuenta con 1030 registros, donde podemos encontrar la edad del hormigón y la información de sus ingredientes. \n",
        "Nuesta tarea durante esta pregunta será predecir la resistencia a la compresión del hormigón.\n",
        "\n",
        "<img src=\"https://civildigital.com/wp-content/uploads/2016/07/Compressive-Strength-test-for-M25-Concrete.jpg\" title=\"Title text\" width=\"35%\" height=\"20%\" />"
      ]
    },
    {
      "cell_type": "markdown",
      "metadata": {
        "id": "lC5yFNDdwQS4"
      },
      "source": [
        "### 1.a Carga de datos y primeros analisis\n",
        "(1 pto) Cargue los datos en un _dataframe_ como muestra el código. Explore superficialmente los datos utilizando los metodos `.head`, `.describe` o `.info` del _DataFrame_ y comente."
      ]
    },
    {
      "cell_type": "code",
      "metadata": {
        "id": "ubNzXC2bwQS4"
      },
      "source": [
        "import pandas as pd\n",
        "\n",
        "df_tr = pd.read_excel(\"/Concrete_Data.xls\")"
      ],
      "execution_count": 1,
      "outputs": []
    },
    {
      "cell_type": "code",
      "metadata": {
        "colab": {
          "base_uri": "https://localhost:8080/",
          "height": 238
        },
        "id": "59KpFw9aDK5C",
        "outputId": "ddf6fbdd-e759-4f45-8b05-0e70d2d5caa5"
      },
      "source": [
        "df_tr.head()"
      ],
      "execution_count": 2,
      "outputs": [
        {
          "output_type": "execute_result",
          "data": {
            "text/html": [
              "<div>\n",
              "<style scoped>\n",
              "    .dataframe tbody tr th:only-of-type {\n",
              "        vertical-align: middle;\n",
              "    }\n",
              "\n",
              "    .dataframe tbody tr th {\n",
              "        vertical-align: top;\n",
              "    }\n",
              "\n",
              "    .dataframe thead th {\n",
              "        text-align: right;\n",
              "    }\n",
              "</style>\n",
              "<table border=\"1\" class=\"dataframe\">\n",
              "  <thead>\n",
              "    <tr style=\"text-align: right;\">\n",
              "      <th></th>\n",
              "      <th>Cement (component 1)(kg in a m^3 mixture)</th>\n",
              "      <th>Blast Furnace Slag (component 2)(kg in a m^3 mixture)</th>\n",
              "      <th>Fly Ash (component 3)(kg in a m^3 mixture)</th>\n",
              "      <th>Water  (component 4)(kg in a m^3 mixture)</th>\n",
              "      <th>Superplasticizer (component 5)(kg in a m^3 mixture)</th>\n",
              "      <th>Coarse Aggregate  (component 6)(kg in a m^3 mixture)</th>\n",
              "      <th>Fine Aggregate (component 7)(kg in a m^3 mixture)</th>\n",
              "      <th>Age (day)</th>\n",
              "      <th>Concrete compressive strength(MPa, megapascals)</th>\n",
              "    </tr>\n",
              "  </thead>\n",
              "  <tbody>\n",
              "    <tr>\n",
              "      <th>0</th>\n",
              "      <td>540.0</td>\n",
              "      <td>0.0</td>\n",
              "      <td>0.0</td>\n",
              "      <td>162.0</td>\n",
              "      <td>2.5</td>\n",
              "      <td>1040.0</td>\n",
              "      <td>676.0</td>\n",
              "      <td>28</td>\n",
              "      <td>79.986111</td>\n",
              "    </tr>\n",
              "    <tr>\n",
              "      <th>1</th>\n",
              "      <td>540.0</td>\n",
              "      <td>0.0</td>\n",
              "      <td>0.0</td>\n",
              "      <td>162.0</td>\n",
              "      <td>2.5</td>\n",
              "      <td>1055.0</td>\n",
              "      <td>676.0</td>\n",
              "      <td>28</td>\n",
              "      <td>61.887366</td>\n",
              "    </tr>\n",
              "    <tr>\n",
              "      <th>2</th>\n",
              "      <td>332.5</td>\n",
              "      <td>142.5</td>\n",
              "      <td>0.0</td>\n",
              "      <td>228.0</td>\n",
              "      <td>0.0</td>\n",
              "      <td>932.0</td>\n",
              "      <td>594.0</td>\n",
              "      <td>270</td>\n",
              "      <td>40.269535</td>\n",
              "    </tr>\n",
              "    <tr>\n",
              "      <th>3</th>\n",
              "      <td>332.5</td>\n",
              "      <td>142.5</td>\n",
              "      <td>0.0</td>\n",
              "      <td>228.0</td>\n",
              "      <td>0.0</td>\n",
              "      <td>932.0</td>\n",
              "      <td>594.0</td>\n",
              "      <td>365</td>\n",
              "      <td>41.052780</td>\n",
              "    </tr>\n",
              "    <tr>\n",
              "      <th>4</th>\n",
              "      <td>198.6</td>\n",
              "      <td>132.4</td>\n",
              "      <td>0.0</td>\n",
              "      <td>192.0</td>\n",
              "      <td>0.0</td>\n",
              "      <td>978.4</td>\n",
              "      <td>825.5</td>\n",
              "      <td>360</td>\n",
              "      <td>44.296075</td>\n",
              "    </tr>\n",
              "  </tbody>\n",
              "</table>\n",
              "</div>"
            ],
            "text/plain": [
              "   Cement (component 1)(kg in a m^3 mixture)  ...  Concrete compressive strength(MPa, megapascals) \n",
              "0                                      540.0  ...                                         79.986111\n",
              "1                                      540.0  ...                                         61.887366\n",
              "2                                      332.5  ...                                         40.269535\n",
              "3                                      332.5  ...                                         41.052780\n",
              "4                                      198.6  ...                                         44.296075\n",
              "\n",
              "[5 rows x 9 columns]"
            ]
          },
          "metadata": {
            "tags": []
          },
          "execution_count": 2
        }
      ]
    },
    {
      "cell_type": "code",
      "metadata": {
        "colab": {
          "base_uri": "https://localhost:8080/",
          "height": 348
        },
        "id": "C78dWssPDK5C",
        "outputId": "9ddee9d2-3365-405b-d668-76878c30fd6c"
      },
      "source": [
        "df_tr.describe()"
      ],
      "execution_count": 3,
      "outputs": [
        {
          "output_type": "execute_result",
          "data": {
            "text/html": [
              "<div>\n",
              "<style scoped>\n",
              "    .dataframe tbody tr th:only-of-type {\n",
              "        vertical-align: middle;\n",
              "    }\n",
              "\n",
              "    .dataframe tbody tr th {\n",
              "        vertical-align: top;\n",
              "    }\n",
              "\n",
              "    .dataframe thead th {\n",
              "        text-align: right;\n",
              "    }\n",
              "</style>\n",
              "<table border=\"1\" class=\"dataframe\">\n",
              "  <thead>\n",
              "    <tr style=\"text-align: right;\">\n",
              "      <th></th>\n",
              "      <th>Cement (component 1)(kg in a m^3 mixture)</th>\n",
              "      <th>Blast Furnace Slag (component 2)(kg in a m^3 mixture)</th>\n",
              "      <th>Fly Ash (component 3)(kg in a m^3 mixture)</th>\n",
              "      <th>Water  (component 4)(kg in a m^3 mixture)</th>\n",
              "      <th>Superplasticizer (component 5)(kg in a m^3 mixture)</th>\n",
              "      <th>Coarse Aggregate  (component 6)(kg in a m^3 mixture)</th>\n",
              "      <th>Fine Aggregate (component 7)(kg in a m^3 mixture)</th>\n",
              "      <th>Age (day)</th>\n",
              "      <th>Concrete compressive strength(MPa, megapascals)</th>\n",
              "    </tr>\n",
              "  </thead>\n",
              "  <tbody>\n",
              "    <tr>\n",
              "      <th>count</th>\n",
              "      <td>1030.000000</td>\n",
              "      <td>1030.000000</td>\n",
              "      <td>1030.000000</td>\n",
              "      <td>1030.000000</td>\n",
              "      <td>1030.000000</td>\n",
              "      <td>1030.000000</td>\n",
              "      <td>1030.000000</td>\n",
              "      <td>1030.000000</td>\n",
              "      <td>1030.000000</td>\n",
              "    </tr>\n",
              "    <tr>\n",
              "      <th>mean</th>\n",
              "      <td>281.165631</td>\n",
              "      <td>73.895485</td>\n",
              "      <td>54.187136</td>\n",
              "      <td>181.566359</td>\n",
              "      <td>6.203112</td>\n",
              "      <td>972.918592</td>\n",
              "      <td>773.578883</td>\n",
              "      <td>45.662136</td>\n",
              "      <td>35.817836</td>\n",
              "    </tr>\n",
              "    <tr>\n",
              "      <th>std</th>\n",
              "      <td>104.507142</td>\n",
              "      <td>86.279104</td>\n",
              "      <td>63.996469</td>\n",
              "      <td>21.355567</td>\n",
              "      <td>5.973492</td>\n",
              "      <td>77.753818</td>\n",
              "      <td>80.175427</td>\n",
              "      <td>63.169912</td>\n",
              "      <td>16.705679</td>\n",
              "    </tr>\n",
              "    <tr>\n",
              "      <th>min</th>\n",
              "      <td>102.000000</td>\n",
              "      <td>0.000000</td>\n",
              "      <td>0.000000</td>\n",
              "      <td>121.750000</td>\n",
              "      <td>0.000000</td>\n",
              "      <td>801.000000</td>\n",
              "      <td>594.000000</td>\n",
              "      <td>1.000000</td>\n",
              "      <td>2.331808</td>\n",
              "    </tr>\n",
              "    <tr>\n",
              "      <th>25%</th>\n",
              "      <td>192.375000</td>\n",
              "      <td>0.000000</td>\n",
              "      <td>0.000000</td>\n",
              "      <td>164.900000</td>\n",
              "      <td>0.000000</td>\n",
              "      <td>932.000000</td>\n",
              "      <td>730.950000</td>\n",
              "      <td>7.000000</td>\n",
              "      <td>23.707115</td>\n",
              "    </tr>\n",
              "    <tr>\n",
              "      <th>50%</th>\n",
              "      <td>272.900000</td>\n",
              "      <td>22.000000</td>\n",
              "      <td>0.000000</td>\n",
              "      <td>185.000000</td>\n",
              "      <td>6.350000</td>\n",
              "      <td>968.000000</td>\n",
              "      <td>779.510000</td>\n",
              "      <td>28.000000</td>\n",
              "      <td>34.442774</td>\n",
              "    </tr>\n",
              "    <tr>\n",
              "      <th>75%</th>\n",
              "      <td>350.000000</td>\n",
              "      <td>142.950000</td>\n",
              "      <td>118.270000</td>\n",
              "      <td>192.000000</td>\n",
              "      <td>10.160000</td>\n",
              "      <td>1029.400000</td>\n",
              "      <td>824.000000</td>\n",
              "      <td>56.000000</td>\n",
              "      <td>46.136287</td>\n",
              "    </tr>\n",
              "    <tr>\n",
              "      <th>max</th>\n",
              "      <td>540.000000</td>\n",
              "      <td>359.400000</td>\n",
              "      <td>200.100000</td>\n",
              "      <td>247.000000</td>\n",
              "      <td>32.200000</td>\n",
              "      <td>1145.000000</td>\n",
              "      <td>992.600000</td>\n",
              "      <td>365.000000</td>\n",
              "      <td>82.599225</td>\n",
              "    </tr>\n",
              "  </tbody>\n",
              "</table>\n",
              "</div>"
            ],
            "text/plain": [
              "       Cement (component 1)(kg in a m^3 mixture)  ...  Concrete compressive strength(MPa, megapascals) \n",
              "count                                1030.000000  ...                                       1030.000000\n",
              "mean                                  281.165631  ...                                         35.817836\n",
              "std                                   104.507142  ...                                         16.705679\n",
              "min                                   102.000000  ...                                          2.331808\n",
              "25%                                   192.375000  ...                                         23.707115\n",
              "50%                                   272.900000  ...                                         34.442774\n",
              "75%                                   350.000000  ...                                         46.136287\n",
              "max                                   540.000000  ...                                         82.599225\n",
              "\n",
              "[8 rows x 9 columns]"
            ]
          },
          "metadata": {
            "tags": []
          },
          "execution_count": 3
        }
      ]
    },
    {
      "cell_type": "code",
      "metadata": {
        "colab": {
          "base_uri": "https://localhost:8080/"
        },
        "id": "v1rR7Y1cDK5C",
        "outputId": "3e99688c-ea64-4665-c17c-02b1a4725ae1"
      },
      "source": [
        "df_tr.info()"
      ],
      "execution_count": 4,
      "outputs": [
        {
          "output_type": "stream",
          "text": [
            "<class 'pandas.core.frame.DataFrame'>\n",
            "RangeIndex: 1030 entries, 0 to 1029\n",
            "Data columns (total 9 columns):\n",
            " #   Column                                                 Non-Null Count  Dtype  \n",
            "---  ------                                                 --------------  -----  \n",
            " 0   Cement (component 1)(kg in a m^3 mixture)              1030 non-null   float64\n",
            " 1   Blast Furnace Slag (component 2)(kg in a m^3 mixture)  1030 non-null   float64\n",
            " 2   Fly Ash (component 3)(kg in a m^3 mixture)             1030 non-null   float64\n",
            " 3   Water  (component 4)(kg in a m^3 mixture)              1030 non-null   float64\n",
            " 4   Superplasticizer (component 5)(kg in a m^3 mixture)    1030 non-null   float64\n",
            " 5   Coarse Aggregate  (component 6)(kg in a m^3 mixture)   1030 non-null   float64\n",
            " 6   Fine Aggregate (component 7)(kg in a m^3 mixture)      1030 non-null   float64\n",
            " 7   Age (day)                                              1030 non-null   int64  \n",
            " 8   Concrete compressive strength(MPa, megapascals)        1030 non-null   float64\n",
            "dtypes: float64(8), int64(1)\n",
            "memory usage: 72.5 KB\n"
          ],
          "name": "stdout"
        }
      ]
    },
    {
      "cell_type": "markdown",
      "metadata": {
        "id": "uxQfDf73wQS5"
      },
      "source": [
        "### 1.b Estandarización y Train Test Split\n",
        "(2 pts) En esta pregunta nos ocuparemos de separar el _dataset_ en los conjuntos de entrenamiento, validación y test y estandarizar los datos. Para esto puede utilizar la librería sklearn, en particular las funciones `StandarScaler` y `train_test_split`.\n",
        "\n",
        "Para esto separe primero el dataset en $X$ e $Y$. Luego separe los datos considerando un $70\\%$ de ellos para entrenamiento, un $20\\%$ para validación y un $10\\%$ para test. Finalmente ajuste los _scalers_ con los datos de entrenamiento y transforme los datos. \n",
        "\n",
        "- ¿Qué operación matemática realiza `StandarScaler` al momento de tranformar los datos? \n",
        "- ¿Por qué debemos transformar los datos de validación y de test con el _scaler_ ajustado a los datos de entrenamiento? \n",
        "- ¿Qué estamos tratando de representar en esta separación en conjuntos de entrenamiento, validación y test?"
      ]
    },
    {
      "cell_type": "code",
      "metadata": {
        "id": "iED6WZIywQS5"
      },
      "source": [
        "from sklearn.model_selection import train_test_split\n",
        "from sklearn.preprocessing import StandardScaler\n",
        "\n",
        "X = df_tr.iloc[:,:8]\n",
        "Y = df_tr.iloc[:,8:]\n",
        "x_train, x_test, y_train, y_test = train_test_split(X, Y, test_size=0.1, random_state=42)\n",
        "x_train, x_val, y_train, y_val = train_test_split(x_train, y_train, test_size=0.2, random_state=42)\n",
        "\n",
        "scaler_x = StandardScaler()\n",
        "scaler_x.fit(x_train)\n",
        "x_tr = scaler_x.transform(x_train)\n",
        "x_val = scaler_x.transform(x_val)"
      ],
      "execution_count": 11,
      "outputs": []
    },
    {
      "cell_type": "code",
      "metadata": {
        "colab": {
          "base_uri": "https://localhost:8080/"
        },
        "id": "LCfVLjtMNmpf",
        "outputId": "378c531d-2274-473c-e234-9efdd501f81b"
      },
      "source": [
        "x_tr"
      ],
      "execution_count": 12,
      "outputs": [
        {
          "output_type": "execute_result",
          "data": {
            "text/plain": [
              "array([[ 0.45140328, -0.83668212, -0.83402418, ...,  0.07193045,\n",
              "         0.59771934, -0.70412355],\n",
              "       [-0.0570179 ,  0.30014216, -0.45199409, ...,  1.13174551,\n",
              "         0.07672177, -0.51430013],\n",
              "       [ 1.36317885, -0.28465643, -0.83402418, ..., -0.51052465,\n",
              "        -2.231393  , -0.63509685],\n",
              "       ...,\n",
              "       [-0.3139213 , -0.83668212,  0.66051626, ..., -0.29653571,\n",
              "         0.99208045,  0.21048019],\n",
              "       [ 0.62147541, -0.83668212, -0.83402418, ...,  0.94561312,\n",
              "         0.36502178, -0.27270669],\n",
              "       [ 0.52699089, -0.83668212, -0.83402418, ..., -0.05469022,\n",
              "         0.0588408 ,  0.79720712]])"
            ]
          },
          "metadata": {
            "tags": []
          },
          "execution_count": 12
        }
      ]
    },
    {
      "cell_type": "markdown",
      "metadata": {
        "id": "aVWswZ3WwQS5"
      },
      "source": [
        "### 1.c Primera Red\n",
        "(6 pts) En esta pregunta construiremos y entrenaremos una primera red neuronal. Para esto utilizaremos la librería keras que se ocupa de crear, compilar y entrenar los modelos de manera simple. Keras se encargará por lo tanto de crear los modelos y al momento de compilarlos se instanciaran estos en una sesión de TensorFlow. \n",
        "\n",
        "Esta primera red será una red de una capa oculta con $256$ neuronas, activación ReLu. Para esta red y todas las demas utilizaremos la función de pérdida _Mean Square Error_ para obtener resultados comparables entre distintos modelos. Para entrenar esta red utilizaremos Gradiente Descendente Estocástico con un _Learn Rate_ de 0.002. Finalmente entrenaremos esta red por unas 20 _epochs_. \n",
        "\n",
        "* Construya la red basandose en el código y la documentación de keras. "
      ]
    },
    {
      "cell_type": "code",
      "metadata": {
        "id": "M16DmOgowQS5"
      },
      "source": [
        "from keras.optimizers import SGD\n",
        "from keras.models import Sequential\n",
        "from keras.layers import Dense\n",
        "\n",
        "ANN = Sequential()\n",
        "\n",
        "# Hidden Layer\n",
        "ANN.add(\n",
        "    Dense(\n",
        "        units = 256, \n",
        "        activation = 'relu',\n",
        "        input_dim=8\n",
        "    )\n",
        ")\n",
        "\n",
        "# Output Layer\n",
        "ANN.add(\n",
        "    Dense(\n",
        "       units = 1 # dimension of Output... ,\n",
        "        # no need for activation (i.e. linear activation) considering the range of the output... \n",
        "       )\n",
        ")\n",
        "ANN.compile(\n",
        "    optimizer=SGD(learning_rate = 0.002),\n",
        "    loss='mse')"
      ],
      "execution_count": 13,
      "outputs": []
    },
    {
      "cell_type": "markdown",
      "metadata": {
        "id": "DAG6qrVAwQS5"
      },
      "source": [
        "Una forma fácil de instanciar la red es la propuesta en el codigo abajo, es decir entrenar la red por 0 _epochs_. Una red instanciada nos permite utilizar el método `.summary` para ver su número de parametros y los tamaños de cada capa. \n",
        "\n",
        "* Explique el número de parámetros presentes en esta red, es decir: ¿Cómo a partir de la dimensión del _Input_ y el número de neuronas obtenemos ese número de parámetros?"
      ]
    },
    {
      "cell_type": "code",
      "metadata": {
        "id": "6NTYs_FbwQS5",
        "colab": {
          "base_uri": "https://localhost:8080/"
        },
        "outputId": "a6803c01-38d5-4728-d79b-e2f6fbc1acf2"
      },
      "source": [
        "ANN.fit(x_tr, y_train, epochs=0)\n",
        "ANN.summary()"
      ],
      "execution_count": 14,
      "outputs": [
        {
          "output_type": "stream",
          "text": [
            "Model: \"sequential_1\"\n",
            "_________________________________________________________________\n",
            "Layer (type)                 Output Shape              Param #   \n",
            "=================================================================\n",
            "dense_2 (Dense)              (None, 256)               2304      \n",
            "_________________________________________________________________\n",
            "dense_3 (Dense)              (None, 1)                 257       \n",
            "=================================================================\n",
            "Total params: 2,561\n",
            "Trainable params: 2,561\n",
            "Non-trainable params: 0\n",
            "_________________________________________________________________\n"
          ],
          "name": "stdout"
        }
      ]
    },
    {
      "cell_type": "markdown",
      "metadata": {
        "id": "dH-FRcmRwQS5"
      },
      "source": [
        "* Entrene la red por 20 _epochs_, guardando el `history` que retorna el metodo `.fit`.\n",
        "\n",
        "* Grafique como varian los errores de validación y de entrenamiento a lo largo de las _epochs_. Comente."
      ]
    },
    {
      "cell_type": "code",
      "metadata": {
        "id": "Gw7tnYk8wQS5",
        "colab": {
          "base_uri": "https://localhost:8080/"
        },
        "outputId": "7d02a586-734e-4b12-b5a9-c79e330b6332"
      },
      "source": [
        "history = ANN.fit(x_tr, y_train, epochs=20, validation_data=(x_val,y_val))"
      ],
      "execution_count": 15,
      "outputs": [
        {
          "output_type": "stream",
          "text": [
            "Epoch 1/20\n",
            "24/24 [==============================] - 0s 7ms/step - loss: 857.0161 - val_loss: 162.7132\n",
            "Epoch 2/20\n",
            "24/24 [==============================] - 0s 2ms/step - loss: 155.2067 - val_loss: 135.8682\n",
            "Epoch 3/20\n",
            "24/24 [==============================] - 0s 2ms/step - loss: 137.1997 - val_loss: 122.7175\n",
            "Epoch 4/20\n",
            "24/24 [==============================] - 0s 2ms/step - loss: 123.6087 - val_loss: 130.1542\n",
            "Epoch 5/20\n",
            "24/24 [==============================] - 0s 2ms/step - loss: 122.5641 - val_loss: 125.3424\n",
            "Epoch 6/20\n",
            "24/24 [==============================] - 0s 2ms/step - loss: 117.7532 - val_loss: 103.6297\n",
            "Epoch 7/20\n",
            "24/24 [==============================] - 0s 2ms/step - loss: 114.4449 - val_loss: 111.5675\n",
            "Epoch 8/20\n",
            "24/24 [==============================] - 0s 2ms/step - loss: 113.0274 - val_loss: 110.2456\n",
            "Epoch 9/20\n",
            "24/24 [==============================] - 0s 2ms/step - loss: 110.5923 - val_loss: 122.7270\n",
            "Epoch 10/20\n",
            "24/24 [==============================] - 0s 2ms/step - loss: 111.4833 - val_loss: 121.1400\n",
            "Epoch 11/20\n",
            "24/24 [==============================] - 0s 2ms/step - loss: 109.8522 - val_loss: 113.4344\n",
            "Epoch 12/20\n",
            "24/24 [==============================] - 0s 2ms/step - loss: 108.5545 - val_loss: 103.6132\n",
            "Epoch 13/20\n",
            "24/24 [==============================] - 0s 3ms/step - loss: 103.6077 - val_loss: 102.9159\n",
            "Epoch 14/20\n",
            "24/24 [==============================] - 0s 2ms/step - loss: 104.1062 - val_loss: 91.6826\n",
            "Epoch 15/20\n",
            "24/24 [==============================] - 0s 2ms/step - loss: 99.7902 - val_loss: 93.2703\n",
            "Epoch 16/20\n",
            "24/24 [==============================] - 0s 2ms/step - loss: 96.7969 - val_loss: 94.1188\n",
            "Epoch 17/20\n",
            "24/24 [==============================] - 0s 2ms/step - loss: 91.0752 - val_loss: 79.7506\n",
            "Epoch 18/20\n",
            "24/24 [==============================] - 0s 2ms/step - loss: 89.0409 - val_loss: 94.8487\n",
            "Epoch 19/20\n",
            "24/24 [==============================] - 0s 2ms/step - loss: 85.0244 - val_loss: 73.6690\n",
            "Epoch 20/20\n",
            "24/24 [==============================] - 0s 2ms/step - loss: 79.9631 - val_loss: 72.0639\n"
          ],
          "name": "stdout"
        }
      ]
    },
    {
      "cell_type": "code",
      "metadata": {
        "colab": {
          "base_uri": "https://localhost:8080/"
        },
        "id": "_DuiBUnlLG5I",
        "outputId": "c8695a98-cecb-4eb5-90a2-45c71fd33f99"
      },
      "source": [
        "print(history.history.keys())"
      ],
      "execution_count": 16,
      "outputs": [
        {
          "output_type": "stream",
          "text": [
            "dict_keys(['loss', 'val_loss'])\n"
          ],
          "name": "stdout"
        }
      ]
    },
    {
      "cell_type": "code",
      "metadata": {
        "colab": {
          "base_uri": "https://localhost:8080/",
          "height": 295
        },
        "id": "EtPQdV8NMA2W",
        "outputId": "0864a002-99f5-47e0-954b-13822255cd30"
      },
      "source": [
        "import matplotlib.pyplot as plt\n",
        "\n",
        "plt.plot(history.history['loss'])\n",
        "plt.plot(history.history['val_loss'])\n",
        "plt.title('Perdidas del modelo')\n",
        "plt.ylabel('perdidas')\n",
        "plt.xlabel('epocas')\n",
        "plt.legend(['Entrenamiento', 'test'], loc='upper left')\n",
        "plt.show()"
      ],
      "execution_count": 17,
      "outputs": [
        {
          "output_type": "display_data",
          "data": {
            "image/png": "[encoded data removed]",
            "text/plain": [
              "<Figure size 432x288 with 1 Axes>"
            ]
          },
          "metadata": {
            "tags": [],
            "needs_background": "light"
          }
        }
      ]
    },
    {
      "cell_type": "markdown",
      "metadata": {
        "id": "0hbTs1c6wQS5"
      },
      "source": [
        "* Cree y entrene nuevamente la red, esta vez cambiando el _learn rate_ utilizado para el SGD. Pruebe a lo menos dos valores mayores y dos valores menores al elegido anteriormente. Note que para valores mayores al propuesto puede comenzar a observar fenómeno de divergencia, por lo cual es recomendable agregarle a la red un _calback_, es decir una función que verifica estados y comportamientos de la red mientras se entrena, en particular `TerminateOnNaN`, el cual interrumpirá el proceso de entrenamiento si encuentra un valor NaN. \n",
        "\n",
        "* Grafique el comportamiento de los errores de validación y entrenamiento para a lo menos un valor mayor y uno menor al original y comente."
      ]
    },
    {
      "cell_type": "code",
      "metadata": {
        "id": "7t7raY3ZwQS5"
      },
      "source": [
        "import matplotlib.pyplot as plt\n",
        "from keras.callbacks import TerminateOnNaN\n",
        "terminate = TerminateOnNaN()\n",
        "\n",
        "def neurona(lr):\n",
        "  ANN = Sequential()\n",
        "\n",
        "  # Hidden Layer\n",
        "  ANN.add(\n",
        "      Dense(\n",
        "          units = 256, \n",
        "          activation = 'relu',\n",
        "          input_dim=8\n",
        "      )\n",
        "  )\n",
        "\n",
        "  # Output Layer\n",
        "  ANN.add(\n",
        "      Dense(\n",
        "        units = 1 # dimension of Output... ,\n",
        "          # no need for activation (i.e. linear activation) considering the range of the output... \n",
        "        )\n",
        "  )\n",
        "  ANN.compile(\n",
        "    optimizer=SGD(learning_rate = lr),\n",
        "    loss='mse')\n",
        "  \n",
        "  history = ANN.fit(x_tr, \n",
        "                  y_train, \n",
        "                  epochs=20, \n",
        "                  validation_data=(x_val,y_val),\n",
        "                  callbacks=[terminate]\n",
        "    )\n",
        "  \n",
        "  plt.plot(history.history['loss'])\n",
        "  plt.plot(history.history['val_loss'])\n",
        "  plt.title('Perdidas del modelo')\n",
        "  plt.ylabel('perdidas')\n",
        "  plt.xlabel('epocas')\n",
        "  plt.legend(['Entrenamiento', 'test'], loc='upper left')\n",
        "  plt.show()"
      ],
      "execution_count": 18,
      "outputs": []
    },
    {
      "cell_type": "code",
      "metadata": {
        "colab": {
          "base_uri": "https://localhost:8080/",
          "height": 975
        },
        "id": "4FFHedVeUHIM",
        "outputId": "f20bf12f-fa7f-4927-bcc6-7d8ccc1b097e"
      },
      "source": [
        "neurona(0.02)"
      ],
      "execution_count": 19,
      "outputs": [
        {
          "output_type": "stream",
          "text": [
            "Epoch 1/20\n",
            "24/24 [==============================] - 0s 5ms/step - loss: 565.2225 - val_loss: 345.1927\n",
            "Epoch 2/20\n",
            "24/24 [==============================] - 0s 2ms/step - loss: 466.6522 - val_loss: 977.8174\n",
            "Epoch 3/20\n",
            "24/24 [==============================] - 0s 2ms/step - loss: 279.6370 - val_loss: 125.8269\n",
            "Epoch 4/20\n",
            "24/24 [==============================] - 0s 2ms/step - loss: 213.4050 - val_loss: 568.5204\n",
            "Epoch 5/20\n",
            "24/24 [==============================] - 0s 2ms/step - loss: 261.2356 - val_loss: 182.4987\n",
            "Epoch 6/20\n",
            "24/24 [==============================] - 0s 2ms/step - loss: 119.7189 - val_loss: 147.9872\n",
            "Epoch 7/20\n",
            "24/24 [==============================] - 0s 3ms/step - loss: 152.6342 - val_loss: 1071.7594\n",
            "Epoch 8/20\n",
            "24/24 [==============================] - 0s 2ms/step - loss: 250.0751 - val_loss: 141.8958\n",
            "Epoch 9/20\n",
            "24/24 [==============================] - 0s 2ms/step - loss: 103.4532 - val_loss: 716.7553\n",
            "Epoch 10/20\n",
            "24/24 [==============================] - 0s 3ms/step - loss: 320.6548 - val_loss: 136.9214\n",
            "Epoch 11/20\n",
            "24/24 [==============================] - 0s 3ms/step - loss: 143.6278 - val_loss: 128.2190\n",
            "Epoch 12/20\n",
            "24/24 [==============================] - 0s 2ms/step - loss: 87.7328 - val_loss: 83.9136\n",
            "Epoch 13/20\n",
            "24/24 [==============================] - 0s 2ms/step - loss: 73.8318 - val_loss: 203.6553\n",
            "Epoch 14/20\n",
            "24/24 [==============================] - 0s 2ms/step - loss: 75.3745 - val_loss: 123.3482\n",
            "Epoch 15/20\n",
            "24/24 [==============================] - 0s 3ms/step - loss: 69.1306 - val_loss: 57.6499\n",
            "Epoch 16/20\n",
            "24/24 [==============================] - 0s 2ms/step - loss: 63.9345 - val_loss: 103.2998\n",
            "Epoch 17/20\n",
            "24/24 [==============================] - 0s 2ms/step - loss: 62.3839 - val_loss: 92.8755\n",
            "Epoch 18/20\n",
            "24/24 [==============================] - 0s 2ms/step - loss: 91.6907 - val_loss: 261.7226\n",
            "Epoch 19/20\n",
            "24/24 [==============================] - 0s 2ms/step - loss: 63.2882 - val_loss: 53.3008\n",
            "Epoch 20/20\n",
            "24/24 [==============================] - 0s 2ms/step - loss: 57.0052 - val_loss: 46.6185\n"
          ],
          "name": "stdout"
        },
        {
          "output_type": "display_data",
          "data": {
            "image/png": "[encoded data removed]",
            "text/plain": [
              "<Figure size 432x288 with 1 Axes>"
            ]
          },
          "metadata": {
            "tags": [],
            "needs_background": "light"
          }
        }
      ]
    },
    {
      "cell_type": "code",
      "metadata": {
        "colab": {
          "base_uri": "https://localhost:8080/",
          "height": 975
        },
        "id": "Fzi5yctxWuaN",
        "outputId": "15b87478-e958-49ee-85f0-a2cd11cd59e9"
      },
      "source": [
        "neurona(0.01)"
      ],
      "execution_count": 20,
      "outputs": [
        {
          "output_type": "stream",
          "text": [
            "Epoch 1/20\n",
            "24/24 [==============================] - 0s 5ms/step - loss: 332.4125 - val_loss: 277.1974\n",
            "Epoch 2/20\n",
            "24/24 [==============================] - 0s 2ms/step - loss: 156.3080 - val_loss: 125.0866\n",
            "Epoch 3/20\n",
            "24/24 [==============================] - 0s 2ms/step - loss: 134.4553 - val_loss: 130.5004\n",
            "Epoch 4/20\n",
            "24/24 [==============================] - 0s 2ms/step - loss: 150.1013 - val_loss: 161.1263\n",
            "Epoch 5/20\n",
            "24/24 [==============================] - 0s 2ms/step - loss: 132.0886 - val_loss: 102.5820\n",
            "Epoch 6/20\n",
            "24/24 [==============================] - 0s 2ms/step - loss: 150.2171 - val_loss: 108.1321\n",
            "Epoch 7/20\n",
            "24/24 [==============================] - 0s 2ms/step - loss: 116.2119 - val_loss: 68.5636\n",
            "Epoch 8/20\n",
            "24/24 [==============================] - 0s 2ms/step - loss: 79.7524 - val_loss: 189.4115\n",
            "Epoch 9/20\n",
            "24/24 [==============================] - 0s 2ms/step - loss: 114.1360 - val_loss: 70.2358\n",
            "Epoch 10/20\n",
            "24/24 [==============================] - 0s 2ms/step - loss: 109.0472 - val_loss: 112.1990\n",
            "Epoch 11/20\n",
            "24/24 [==============================] - 0s 3ms/step - loss: 184.9492 - val_loss: 258.7007\n",
            "Epoch 12/20\n",
            "24/24 [==============================] - 0s 3ms/step - loss: 80.2146 - val_loss: 63.0781\n",
            "Epoch 13/20\n",
            "24/24 [==============================] - 0s 2ms/step - loss: 62.8525 - val_loss: 611.5986\n",
            "Epoch 14/20\n",
            "24/24 [==============================] - 0s 2ms/step - loss: 123.4442 - val_loss: 640.3792\n",
            "Epoch 15/20\n",
            "24/24 [==============================] - 0s 2ms/step - loss: 107.5898 - val_loss: 840.2326\n",
            "Epoch 16/20\n",
            "24/24 [==============================] - 0s 2ms/step - loss: 91.3235 - val_loss: 54.3105\n",
            "Epoch 17/20\n",
            "24/24 [==============================] - 0s 2ms/step - loss: 85.4427 - val_loss: 344.5913\n",
            "Epoch 18/20\n",
            "24/24 [==============================] - 0s 2ms/step - loss: 99.2809 - val_loss: 149.4857\n",
            "Epoch 19/20\n",
            "24/24 [==============================] - 0s 2ms/step - loss: 67.2524 - val_loss: 370.8929\n",
            "Epoch 20/20\n",
            "24/24 [==============================] - 0s 2ms/step - loss: 87.6580 - val_loss: 95.9240\n"
          ],
          "name": "stdout"
        },
        {
          "output_type": "display_data",
          "data": {
            "image/png": "[encoded data removed]",
            "text/plain": [
              "<Figure size 432x288 with 1 Axes>"
            ]
          },
          "metadata": {
            "tags": [],
            "needs_background": "light"
          }
        }
      ]
    },
    {
      "cell_type": "code",
      "metadata": {
        "colab": {
          "base_uri": "https://localhost:8080/",
          "height": 975
        },
        "id": "6f0nnoB0PMnu",
        "outputId": "b140135c-3240-4b11-add2-a863875bc7fb"
      },
      "source": [
        "neurona(0.00000001)"
      ],
      "execution_count": 21,
      "outputs": [
        {
          "output_type": "stream",
          "text": [
            "Epoch 1/20\n",
            "24/24 [==============================] - 0s 6ms/step - loss: 1584.2466 - val_loss: 1599.1459\n",
            "Epoch 2/20\n",
            "24/24 [==============================] - 0s 3ms/step - loss: 1584.2404 - val_loss: 1599.1393\n",
            "Epoch 3/20\n",
            "24/24 [==============================] - 0s 2ms/step - loss: 1584.2340 - val_loss: 1599.1329\n",
            "Epoch 4/20\n",
            "24/24 [==============================] - 0s 2ms/step - loss: 1584.2283 - val_loss: 1599.1262\n",
            "Epoch 5/20\n",
            "24/24 [==============================] - 0s 2ms/step - loss: 1584.2214 - val_loss: 1599.1196\n",
            "Epoch 6/20\n",
            "24/24 [==============================] - 0s 2ms/step - loss: 1584.2152 - val_loss: 1599.1133\n",
            "Epoch 7/20\n",
            "24/24 [==============================] - 0s 2ms/step - loss: 1584.2089 - val_loss: 1599.1066\n",
            "Epoch 8/20\n",
            "24/24 [==============================] - 0s 2ms/step - loss: 1584.2024 - val_loss: 1599.1000\n",
            "Epoch 9/20\n",
            "24/24 [==============================] - 0s 2ms/step - loss: 1584.1964 - val_loss: 1599.0933\n",
            "Epoch 10/20\n",
            "24/24 [==============================] - 0s 2ms/step - loss: 1584.1899 - val_loss: 1599.0867\n",
            "Epoch 11/20\n",
            "24/24 [==============================] - 0s 2ms/step - loss: 1584.1836 - val_loss: 1599.0802\n",
            "Epoch 12/20\n",
            "24/24 [==============================] - 0s 2ms/step - loss: 1584.1772 - val_loss: 1599.0734\n",
            "Epoch 13/20\n",
            "24/24 [==============================] - 0s 2ms/step - loss: 1584.1707 - val_loss: 1599.0669\n",
            "Epoch 14/20\n",
            "24/24 [==============================] - 0s 3ms/step - loss: 1584.1644 - val_loss: 1599.0603\n",
            "Epoch 15/20\n",
            "24/24 [==============================] - 0s 2ms/step - loss: 1584.1581 - val_loss: 1599.0537\n",
            "Epoch 16/20\n",
            "24/24 [==============================] - 0s 2ms/step - loss: 1584.1519 - val_loss: 1599.0474\n",
            "Epoch 17/20\n",
            "24/24 [==============================] - 0s 2ms/step - loss: 1584.1458 - val_loss: 1599.0408\n",
            "Epoch 18/20\n",
            "24/24 [==============================] - 0s 2ms/step - loss: 1584.1395 - val_loss: 1599.0343\n",
            "Epoch 19/20\n",
            "24/24 [==============================] - 0s 3ms/step - loss: 1584.1333 - val_loss: 1599.0278\n",
            "Epoch 20/20\n",
            "24/24 [==============================] - 0s 2ms/step - loss: 1584.1268 - val_loss: 1599.0211\n"
          ],
          "name": "stdout"
        },
        {
          "output_type": "display_data",
          "data": {
            "image/png": "[encoded data removed]",
            "text/plain": [
              "<Figure size 432x288 with 1 Axes>"
            ]
          },
          "metadata": {
            "tags": [],
            "needs_background": "light"
          }
        }
      ]
    },
    {
      "cell_type": "code",
      "metadata": {
        "colab": {
          "base_uri": "https://localhost:8080/",
          "height": 975
        },
        "id": "Co49e4DrW4p1",
        "outputId": "fca30740-9068-4232-c3e4-bc5299fbd15b"
      },
      "source": [
        "neurona(0.000009)"
      ],
      "execution_count": 22,
      "outputs": [
        {
          "output_type": "stream",
          "text": [
            "Epoch 1/20\n",
            "24/24 [==============================] - 0s 5ms/step - loss: 1562.9171 - val_loss: 1573.8557\n",
            "Epoch 2/20\n",
            "24/24 [==============================] - 0s 2ms/step - loss: 1557.6481 - val_loss: 1568.4191\n",
            "Epoch 3/20\n",
            "24/24 [==============================] - 0s 2ms/step - loss: 1552.4214 - val_loss: 1562.9961\n",
            "Epoch 4/20\n",
            "24/24 [==============================] - 0s 2ms/step - loss: 1547.2086 - val_loss: 1557.4724\n",
            "Epoch 5/20\n",
            "24/24 [==============================] - 0s 2ms/step - loss: 1541.8994 - val_loss: 1551.9634\n",
            "Epoch 6/20\n",
            "24/24 [==============================] - 0s 2ms/step - loss: 1536.6050 - val_loss: 1546.5433\n",
            "Epoch 7/20\n",
            "24/24 [==============================] - 0s 2ms/step - loss: 1531.3921 - val_loss: 1541.0549\n",
            "Epoch 8/20\n",
            "24/24 [==============================] - 0s 2ms/step - loss: 1526.1169 - val_loss: 1535.6545\n",
            "Epoch 9/20\n",
            "24/24 [==============================] - 0s 2ms/step - loss: 1520.9188 - val_loss: 1530.1741\n",
            "Epoch 10/20\n",
            "24/24 [==============================] - 0s 2ms/step - loss: 1515.6527 - val_loss: 1524.7562\n",
            "Epoch 11/20\n",
            "24/24 [==============================] - 0s 2ms/step - loss: 1510.4423 - val_loss: 1519.2490\n",
            "Epoch 12/20\n",
            "24/24 [==============================] - 0s 2ms/step - loss: 1505.1399 - val_loss: 1513.8280\n",
            "Epoch 13/20\n",
            "24/24 [==============================] - 0s 2ms/step - loss: 1499.9249 - val_loss: 1508.3450\n",
            "Epoch 14/20\n",
            "24/24 [==============================] - 0s 2ms/step - loss: 1494.6436 - val_loss: 1502.8932\n",
            "Epoch 15/20\n",
            "24/24 [==============================] - 0s 2ms/step - loss: 1489.3843 - val_loss: 1497.3955\n",
            "Epoch 16/20\n",
            "24/24 [==============================] - 0s 2ms/step - loss: 1484.0793 - val_loss: 1491.8132\n",
            "Epoch 17/20\n",
            "24/24 [==============================] - 0s 2ms/step - loss: 1478.7231 - val_loss: 1486.3107\n",
            "Epoch 18/20\n",
            "24/24 [==============================] - 0s 2ms/step - loss: 1473.4178 - val_loss: 1480.6282\n",
            "Epoch 19/20\n",
            "24/24 [==============================] - 0s 2ms/step - loss: 1467.9290 - val_loss: 1475.0175\n",
            "Epoch 20/20\n",
            "24/24 [==============================] - 0s 2ms/step - loss: 1462.5040 - val_loss: 1469.4197\n"
          ],
          "name": "stdout"
        },
        {
          "output_type": "display_data",
          "data": {
            "image/png": "[encoded data removed]",
            "text/plain": [
              "<Figure size 432x288 with 1 Axes>"
            ]
          },
          "metadata": {
            "tags": [],
            "needs_background": "light"
          }
        }
      ]
    },
    {
      "cell_type": "markdown",
      "metadata": {
        "id": "Azy7J95uwQS5"
      },
      "source": [
        "### 1.d Activación y regularizadores $l$1 $l$2\n",
        "(4 pts) En esta pregunta se les propone explorar distintas funciones de activación o de regularización usual. Por lo extenso de la tarea se les propone elegir una de las dos exploraciones. En ambos casos deben entrenar la misma red entrenada anteriormente utilizando gradiente descendente con algun _learn rate_ que les parezca adecuado luego de la exploración en la pregunta anterior. \n",
        "\n",
        "* En caso de elegir explorar distintas funciones de activación, cambie la activación de la capa oculta sucesivamente por: tangente hiperbólica, _Leaky ReLu_, _softmax_, sigmoidea y lineal. Para esto puede basarse en el código presentado abajo y la documentación de keras. Para la activación _Leaky ReLu_ pruebe cambiar el parámetro de la red. Describa sus resultados y si observa diferencias entre las redes. \n",
        "\n",
        "* En caso de elegir explorar las funciones de regularización usual, agregue regularización $l$1 o $l$2 a la capa oculta y pruebe cambiar la tasa de regularización, reportando sus resultados. ¿Qué ocurre si la regularización es muy alta o muy baja? Una vez satisfecho con una tasa de regularización, aplique la regularización a la capa de salida y luego a ambas capas. \n",
        "\n",
        "**Independiente de la opción elegida**, comente sobre los siguientes temas:\n",
        "\n",
        "* ¿Cual es el interés de tener activaciones no lineales? ¿Le parece buena opción la activación sigmoidea para la capa oculta? ¿Qué pasaría si usaramos esta activación en la capa de salida? \n",
        "\n",
        "* ¿Cual es la intención de la regularización en general? En particular, ¿Que restricción implicita imponen las regularizaciones $l$1 o $l$2 sobre los pesos de la capa en la cual se aplican? Apoyese de ecuaciones. "
      ]
    },
    {
      "cell_type": "code",
      "metadata": {
        "id": "FMyXxvKjwQS5"
      },
      "source": [
        "# activations\n",
        "from keras.layers import LeakyReLU\n",
        "model.add(Dense( # . . . ))\n",
        "model.add(LeakyReLU())\n",
        "    \n",
        "# regularizer\n",
        "from keras.regularizers import l1, l2\n",
        "model.add(\n",
        "    Dense( # . . .\n",
        "          activity_regularizer=l2(0.001)\n",
        "         )\n",
        ")"
      ],
      "execution_count": null,
      "outputs": []
    },
    {
      "cell_type": "code",
      "metadata": {
        "id": "lkYN83izGIZ2"
      },
      "source": [
        "from keras.layers import LeakyReLU\n",
        "\n",
        "def leakyRelu(alfa):\n",
        "  ANN = Sequential()\n",
        "\n",
        "  # Hidden Layer\n",
        "  ANN.add(\n",
        "      Dense(\n",
        "          units = 256,\n",
        "          input_dim=8\n",
        "      )\n",
        "  )\n",
        "  ANN.add(\n",
        "      LeakyReLU(alpha=alfa)\n",
        "  )\n",
        "  # Output Layer\n",
        "  ANN.add(\n",
        "      Dense(\n",
        "        units = 1 # dimension of Output... ,\n",
        "          # no need for activation (i.e. linear activation) considering the range of the output... \n",
        "        )\n",
        "  )\n",
        "  ANN.compile(\n",
        "      optimizer=SGD(learning_rate = 0.0008),\n",
        "      loss='mse')\n",
        "\n",
        "  history = ANN.fit(x_tr, y_train, epochs=20, validation_data=(x_val,y_val))\n",
        "\n",
        "  plt.plot(history.history['loss'])\n",
        "  plt.plot(history.history['val_loss'])\n",
        "  plt.title('Perdidas del modelo')\n",
        "  plt.ylabel('perdidas')\n",
        "  plt.xlabel('epocas')\n",
        "  plt.legend(['Entrenamiento', 'test'], loc='upper left')\n",
        "  plt.show()"
      ],
      "execution_count": 29,
      "outputs": []
    },
    {
      "cell_type": "code",
      "metadata": {
        "id": "l6TR9s5HaibW"
      },
      "source": [
        "def activation(tipo): \n",
        "  ANN = Sequential()\n",
        "\n",
        "  # Hidden Layer\n",
        "  ANN.add(\n",
        "      Dense(\n",
        "          units = 256, \n",
        "          activation = tipo,\n",
        "          input_dim=8\n",
        "      )\n",
        "  )\n",
        "\n",
        "  # Output Layer\n",
        "  ANN.add(\n",
        "      Dense(\n",
        "        units = 1 # dimension of Output... ,\n",
        "          # no need for activation (i.e. linear activation) considering the range of the output... \n",
        "        )\n",
        "  )\n",
        "  ANN.compile(\n",
        "      optimizer=SGD(learning_rate = 0.0008),\n",
        "      loss='mse')\n",
        "\n",
        "  history = ANN.fit(x_tr, y_train, epochs=20, validation_data=(x_val,y_val))\n",
        "\n",
        "  plt.plot(history.history['loss'])\n",
        "  plt.plot(history.history['val_loss'])\n",
        "  plt.title('Perdidas del modelo')\n",
        "  plt.ylabel('perdidas')\n",
        "  plt.xlabel('epocas')\n",
        "  plt.legend(['Entrenamiento', 'test'], loc='upper left')\n",
        "  plt.show()"
      ],
      "execution_count": 30,
      "outputs": []
    },
    {
      "cell_type": "code",
      "metadata": {
        "colab": {
          "base_uri": "https://localhost:8080/",
          "height": 975
        },
        "id": "h0PxOqnIK2_4",
        "outputId": "963288b2-fa58-4896-997f-0e1086251f82"
      },
      "source": [
        "leakyRelu(0.0005)"
      ],
      "execution_count": 31,
      "outputs": [
        {
          "output_type": "stream",
          "text": [
            "Epoch 1/20\n",
            "24/24 [==============================] - 0s 6ms/step - loss: 1356.1388 - val_loss: 995.1264\n",
            "Epoch 2/20\n",
            "24/24 [==============================] - 0s 2ms/step - loss: 601.2105 - val_loss: 225.0538\n",
            "Epoch 3/20\n",
            "24/24 [==============================] - 0s 2ms/step - loss: 183.1985 - val_loss: 136.3881\n",
            "Epoch 4/20\n",
            "24/24 [==============================] - 0s 2ms/step - loss: 146.1773 - val_loss: 126.4929\n",
            "Epoch 5/20\n",
            "24/24 [==============================] - 0s 2ms/step - loss: 136.2177 - val_loss: 123.4036\n",
            "Epoch 6/20\n",
            "24/24 [==============================] - 0s 2ms/step - loss: 131.2257 - val_loss: 121.2749\n",
            "Epoch 7/20\n",
            "24/24 [==============================] - 0s 2ms/step - loss: 127.3784 - val_loss: 114.5560\n",
            "Epoch 8/20\n",
            "24/24 [==============================] - 0s 2ms/step - loss: 123.6962 - val_loss: 112.1233\n",
            "Epoch 9/20\n",
            "24/24 [==============================] - 0s 2ms/step - loss: 121.3078 - val_loss: 111.7962\n",
            "Epoch 10/20\n",
            "24/24 [==============================] - 0s 2ms/step - loss: 119.1448 - val_loss: 109.8669\n",
            "Epoch 11/20\n",
            "24/24 [==============================] - 0s 2ms/step - loss: 117.8848 - val_loss: 108.9731\n",
            "Epoch 12/20\n",
            "24/24 [==============================] - 0s 2ms/step - loss: 116.6235 - val_loss: 108.1196\n",
            "Epoch 13/20\n",
            "24/24 [==============================] - 0s 2ms/step - loss: 115.6609 - val_loss: 106.4775\n",
            "Epoch 14/20\n",
            "24/24 [==============================] - 0s 2ms/step - loss: 114.5664 - val_loss: 105.1574\n",
            "Epoch 15/20\n",
            "24/24 [==============================] - 0s 2ms/step - loss: 113.0491 - val_loss: 104.9413\n",
            "Epoch 16/20\n",
            "24/24 [==============================] - 0s 2ms/step - loss: 112.7633 - val_loss: 104.6946\n",
            "Epoch 17/20\n",
            "24/24 [==============================] - 0s 2ms/step - loss: 111.6291 - val_loss: 102.5342\n",
            "Epoch 18/20\n",
            "24/24 [==============================] - 0s 2ms/step - loss: 110.0811 - val_loss: 102.1163\n",
            "Epoch 19/20\n",
            "24/24 [==============================] - 0s 2ms/step - loss: 109.7699 - val_loss: 102.9905\n",
            "Epoch 20/20\n",
            "24/24 [==============================] - 0s 2ms/step - loss: 108.4678 - val_loss: 101.3147\n"
          ],
          "name": "stdout"
        },
        {
          "output_type": "display_data",
          "data": {
            "image/png": "[encoded data removed]",
            "text/plain": [
              "<Figure size 432x288 with 1 Axes>"
            ]
          },
          "metadata": {
            "tags": [],
            "needs_background": "light"
          }
        }
      ]
    },
    {
      "cell_type": "code",
      "metadata": {
        "colab": {
          "base_uri": "https://localhost:8080/",
          "height": 975
        },
        "id": "IqWz-qdqblm4",
        "outputId": "f41bcb3b-a61c-4e56-ef60-05b1a724df1b"
      },
      "source": [
        "activation('softmax')"
      ],
      "execution_count": 32,
      "outputs": [
        {
          "output_type": "stream",
          "text": [
            "Epoch 1/20\n",
            "24/24 [==============================] - 0s 6ms/step - loss: 1526.0477 - val_loss: 1488.2334\n",
            "Epoch 2/20\n",
            "24/24 [==============================] - 0s 2ms/step - loss: 1432.9342 - val_loss: 1398.0441\n",
            "Epoch 3/20\n",
            "24/24 [==============================] - 0s 2ms/step - loss: 1346.3250 - val_loss: 1315.2255\n",
            "Epoch 4/20\n",
            "24/24 [==============================] - 0s 2ms/step - loss: 1266.8424 - val_loss: 1239.0441\n",
            "Epoch 5/20\n",
            "24/24 [==============================] - 0s 2ms/step - loss: 1193.7400 - val_loss: 1168.6769\n",
            "Epoch 6/20\n",
            "24/24 [==============================] - 0s 2ms/step - loss: 1126.2360 - val_loss: 1103.9355\n",
            "Epoch 7/20\n",
            "24/24 [==============================] - 0s 2ms/step - loss: 1064.1093 - val_loss: 1043.8613\n",
            "Epoch 8/20\n",
            "24/24 [==============================] - 0s 2ms/step - loss: 1006.5053 - val_loss: 988.2016\n",
            "Epoch 9/20\n",
            "24/24 [==============================] - 0s 2ms/step - loss: 953.1398 - val_loss: 935.4850\n",
            "Epoch 10/20\n",
            "24/24 [==============================] - 0s 2ms/step - loss: 902.6151 - val_loss: 886.7219\n",
            "Epoch 11/20\n",
            "24/24 [==============================] - 0s 2ms/step - loss: 855.8701 - val_loss: 841.7848\n",
            "Epoch 12/20\n",
            "24/24 [==============================] - 0s 3ms/step - loss: 812.8398 - val_loss: 800.6835\n",
            "Epoch 13/20\n",
            "24/24 [==============================] - 0s 2ms/step - loss: 773.4587 - val_loss: 762.2435\n",
            "Epoch 14/20\n",
            "24/24 [==============================] - 0s 2ms/step - loss: 736.6694 - val_loss: 727.2051\n",
            "Epoch 15/20\n",
            "24/24 [==============================] - 0s 2ms/step - loss: 703.1407 - val_loss: 694.0970\n",
            "Epoch 16/20\n",
            "24/24 [==============================] - 0s 2ms/step - loss: 671.4520 - val_loss: 663.2199\n",
            "Epoch 17/20\n",
            "24/24 [==============================] - 0s 2ms/step - loss: 641.9209 - val_loss: 635.2747\n",
            "Epoch 18/20\n",
            "24/24 [==============================] - 0s 2ms/step - loss: 615.2039 - val_loss: 609.6591\n",
            "Epoch 19/20\n",
            "24/24 [==============================] - 0s 2ms/step - loss: 590.7128 - val_loss: 585.4809\n",
            "Epoch 20/20\n",
            "24/24 [==============================] - 0s 2ms/step - loss: 567.6127 - val_loss: 562.6365\n"
          ],
          "name": "stdout"
        },
        {
          "output_type": "display_data",
          "data": {
            "image/png": "[encoded data removed]",
            "text/plain": [
              "<Figure size 432x288 with 1 Axes>"
            ]
          },
          "metadata": {
            "tags": [],
            "needs_background": "light"
          }
        }
      ]
    },
    {
      "cell_type": "code",
      "metadata": {
        "colab": {
          "base_uri": "https://localhost:8080/",
          "height": 975
        },
        "id": "5kykx39RclDr",
        "outputId": "422ec6ab-8456-4766-ac64-932044fd966c"
      },
      "source": [
        "activation('tanh')"
      ],
      "execution_count": 33,
      "outputs": [
        {
          "output_type": "stream",
          "text": [
            "Epoch 1/20\n",
            "24/24 [==============================] - 0s 5ms/step - loss: 1395.5410 - val_loss: 1087.3346\n",
            "Epoch 2/20\n",
            "24/24 [==============================] - 0s 2ms/step - loss: 655.0380 - val_loss: 238.5208\n",
            "Epoch 3/20\n",
            "24/24 [==============================] - 0s 2ms/step - loss: 158.3671 - val_loss: 107.1375\n",
            "Epoch 4/20\n",
            "24/24 [==============================] - 0s 2ms/step - loss: 111.6366 - val_loss: 95.7741\n",
            "Epoch 5/20\n",
            "24/24 [==============================] - 0s 2ms/step - loss: 104.2579 - val_loss: 89.8795\n",
            "Epoch 6/20\n",
            "24/24 [==============================] - 0s 2ms/step - loss: 100.5890 - val_loss: 85.8793\n",
            "Epoch 7/20\n",
            "24/24 [==============================] - 0s 2ms/step - loss: 97.7863 - val_loss: 83.2270\n",
            "Epoch 8/20\n",
            "24/24 [==============================] - 0s 2ms/step - loss: 94.5978 - val_loss: 79.2764\n",
            "Epoch 9/20\n",
            "24/24 [==============================] - 0s 2ms/step - loss: 91.3896 - val_loss: 75.4188\n",
            "Epoch 10/20\n",
            "24/24 [==============================] - 0s 2ms/step - loss: 88.5607 - val_loss: 72.3386\n",
            "Epoch 11/20\n",
            "24/24 [==============================] - 0s 2ms/step - loss: 84.8759 - val_loss: 71.0280\n",
            "Epoch 12/20\n",
            "24/24 [==============================] - 0s 2ms/step - loss: 82.2123 - val_loss: 64.8414\n",
            "Epoch 13/20\n",
            "24/24 [==============================] - 0s 2ms/step - loss: 79.6236 - val_loss: 62.0001\n",
            "Epoch 14/20\n",
            "24/24 [==============================] - 0s 2ms/step - loss: 76.9002 - val_loss: 59.7236\n",
            "Epoch 15/20\n",
            "24/24 [==============================] - 0s 2ms/step - loss: 74.9397 - val_loss: 58.1975\n",
            "Epoch 16/20\n",
            "24/24 [==============================] - 0s 2ms/step - loss: 72.6483 - val_loss: 56.3595\n",
            "Epoch 17/20\n",
            "24/24 [==============================] - 0s 2ms/step - loss: 70.5922 - val_loss: 53.9900\n",
            "Epoch 18/20\n",
            "24/24 [==============================] - 0s 2ms/step - loss: 69.1650 - val_loss: 53.5305\n",
            "Epoch 19/20\n",
            "24/24 [==============================] - 0s 2ms/step - loss: 67.7498 - val_loss: 52.0440\n",
            "Epoch 20/20\n",
            "24/24 [==============================] - 0s 2ms/step - loss: 66.7128 - val_loss: 53.2377\n"
          ],
          "name": "stdout"
        },
        {
          "output_type": "display_data",
          "data": {
            "image/png": "[encoded data removed]",
            "text/plain": [
              "<Figure size 432x288 with 1 Axes>"
            ]
          },
          "metadata": {
            "tags": [],
            "needs_background": "light"
          }
        }
      ]
    },
    {
      "cell_type": "code",
      "metadata": {
        "colab": {
          "base_uri": "https://localhost:8080/",
          "height": 975
        },
        "id": "JhycS9gYdF40",
        "outputId": "1ce5c516-2a46-46de-f0fa-649731865b92"
      },
      "source": [
        "activation('sigmoid')"
      ],
      "execution_count": 34,
      "outputs": [
        {
          "output_type": "stream",
          "text": [
            "Epoch 1/20\n",
            "24/24 [==============================] - 0s 5ms/step - loss: 538.1899 - val_loss: 279.1792\n",
            "Epoch 2/20\n",
            "24/24 [==============================] - 0s 2ms/step - loss: 264.3839 - val_loss: 250.9672\n",
            "Epoch 3/20\n",
            "24/24 [==============================] - 0s 2ms/step - loss: 245.9203 - val_loss: 235.3932\n",
            "Epoch 4/20\n",
            "24/24 [==============================] - 0s 2ms/step - loss: 231.2834 - val_loss: 220.2862\n",
            "Epoch 5/20\n",
            "24/24 [==============================] - 0s 2ms/step - loss: 217.0151 - val_loss: 207.6129\n",
            "Epoch 6/20\n",
            "24/24 [==============================] - 0s 2ms/step - loss: 206.0330 - val_loss: 197.2578\n",
            "Epoch 7/20\n",
            "24/24 [==============================] - 0s 2ms/step - loss: 195.6469 - val_loss: 187.5260\n",
            "Epoch 8/20\n",
            "24/24 [==============================] - 0s 2ms/step - loss: 186.6379 - val_loss: 176.1878\n",
            "Epoch 9/20\n",
            "24/24 [==============================] - 0s 2ms/step - loss: 177.6514 - val_loss: 167.7269\n",
            "Epoch 10/20\n",
            "24/24 [==============================] - 0s 2ms/step - loss: 170.0753 - val_loss: 159.6620\n",
            "Epoch 11/20\n",
            "24/24 [==============================] - 0s 2ms/step - loss: 163.0059 - val_loss: 155.1857\n",
            "Epoch 12/20\n",
            "24/24 [==============================] - 0s 2ms/step - loss: 156.5079 - val_loss: 146.6664\n",
            "Epoch 13/20\n",
            "24/24 [==============================] - 0s 2ms/step - loss: 150.6231 - val_loss: 140.9998\n",
            "Epoch 14/20\n",
            "24/24 [==============================] - 0s 2ms/step - loss: 145.6921 - val_loss: 136.9153\n",
            "Epoch 15/20\n",
            "24/24 [==============================] - 0s 2ms/step - loss: 141.4737 - val_loss: 131.8212\n",
            "Epoch 16/20\n",
            "24/24 [==============================] - 0s 2ms/step - loss: 137.6714 - val_loss: 127.9293\n",
            "Epoch 17/20\n",
            "24/24 [==============================] - 0s 2ms/step - loss: 133.7793 - val_loss: 125.1174\n",
            "Epoch 18/20\n",
            "24/24 [==============================] - 0s 2ms/step - loss: 131.5487 - val_loss: 122.0600\n",
            "Epoch 19/20\n",
            "24/24 [==============================] - 0s 2ms/step - loss: 128.5526 - val_loss: 119.8982\n",
            "Epoch 20/20\n",
            "24/24 [==============================] - 0s 2ms/step - loss: 126.4491 - val_loss: 118.7133\n"
          ],
          "name": "stdout"
        },
        {
          "output_type": "display_data",
          "data": {
            "image/png": "[encoded data removed]",
            "text/plain": [
              "<Figure size 432x288 with 1 Axes>"
            ]
          },
          "metadata": {
            "tags": [],
            "needs_background": "light"
          }
        }
      ]
    },
    {
      "cell_type": "code",
      "metadata": {
        "colab": {
          "base_uri": "https://localhost:8080/",
          "height": 975
        },
        "id": "2o21WNuOdkxa",
        "outputId": "74a53e9d-80c0-4403-d631-ccb0915bf60c"
      },
      "source": [
        "activation('linear')"
      ],
      "execution_count": 35,
      "outputs": [
        {
          "output_type": "stream",
          "text": [
            "Epoch 1/20\n",
            "24/24 [==============================] - 0s 5ms/step - loss: 1353.1494 - val_loss: 939.3147\n",
            "Epoch 2/20\n",
            "24/24 [==============================] - 0s 2ms/step - loss: 488.9006 - val_loss: 136.3072\n",
            "Epoch 3/20\n",
            "24/24 [==============================] - 0s 2ms/step - loss: 127.7954 - val_loss: 113.6845\n",
            "Epoch 4/20\n",
            "24/24 [==============================] - 0s 2ms/step - loss: 118.1444 - val_loss: 109.4399\n",
            "Epoch 5/20\n",
            "24/24 [==============================] - 0s 2ms/step - loss: 116.8528 - val_loss: 108.5534\n",
            "Epoch 6/20\n",
            "24/24 [==============================] - 0s 2ms/step - loss: 116.1117 - val_loss: 108.0749\n",
            "Epoch 7/20\n",
            "24/24 [==============================] - 0s 2ms/step - loss: 115.3680 - val_loss: 105.2273\n",
            "Epoch 8/20\n",
            "24/24 [==============================] - 0s 2ms/step - loss: 114.0129 - val_loss: 109.4520\n",
            "Epoch 9/20\n",
            "24/24 [==============================] - 0s 2ms/step - loss: 113.9099 - val_loss: 107.3463\n",
            "Epoch 10/20\n",
            "24/24 [==============================] - 0s 2ms/step - loss: 114.6519 - val_loss: 105.4755\n",
            "Epoch 11/20\n",
            "24/24 [==============================] - 0s 2ms/step - loss: 113.7732 - val_loss: 105.9865\n",
            "Epoch 12/20\n",
            "24/24 [==============================] - 0s 2ms/step - loss: 112.9959 - val_loss: 104.9270\n",
            "Epoch 13/20\n",
            "24/24 [==============================] - 0s 2ms/step - loss: 113.7742 - val_loss: 104.0823\n",
            "Epoch 14/20\n",
            "24/24 [==============================] - 0s 2ms/step - loss: 113.9386 - val_loss: 105.3072\n",
            "Epoch 15/20\n",
            "24/24 [==============================] - 0s 2ms/step - loss: 112.9408 - val_loss: 107.3693\n",
            "Epoch 16/20\n",
            "24/24 [==============================] - 0s 2ms/step - loss: 112.4113 - val_loss: 104.8129\n",
            "Epoch 17/20\n",
            "24/24 [==============================] - 0s 2ms/step - loss: 113.1439 - val_loss: 104.9957\n",
            "Epoch 18/20\n",
            "24/24 [==============================] - 0s 2ms/step - loss: 112.5709 - val_loss: 103.9436\n",
            "Epoch 19/20\n",
            "24/24 [==============================] - 0s 2ms/step - loss: 112.4413 - val_loss: 105.6084\n",
            "Epoch 20/20\n",
            "24/24 [==============================] - 0s 2ms/step - loss: 113.8520 - val_loss: 108.6046\n"
          ],
          "name": "stdout"
        },
        {
          "output_type": "display_data",
          "data": {
            "image/png": "[encoded data removed]",
            "text/plain": [
              "<Figure size 432x288 with 1 Axes>"
            ]
          },
          "metadata": {
            "tags": [],
            "needs_background": "light"
          }
        }
      ]
    },
    {
      "cell_type": "markdown",
      "metadata": {
        "id": "FR1XBz4YwQS5"
      },
      "source": [
        "### 1.e Exploración del Número de neuronas\n",
        "\n",
        "(3 pts) Ahora probaremos cambiando el número de neuronas en la capa oculta. Para esto, entrenen la red que estimen conveniente luego de la pregunta anterior, variando el numero de nuronas. Deben explorar a lo menos 10 número de neuronas distintos. Una recomendación sería por ejemplo explorar numero de neuronas en potencias de 2. \n",
        "\n",
        "Para cada red entrenada, recuperen el mejor error de validación y el error de entrenamiento en la _epoch_ donde se obtuvo tal error de validación. Grafique como se comportan ambos errores a medida crece el número de neuronas y comente. "
      ]
    },
    {
      "cell_type": "code",
      "metadata": {
        "id": "_Fohgx48wQS5",
        "colab": {
          "base_uri": "https://localhost:8080/"
        },
        "outputId": "a7969b93-b183-4e5d-b056-8919f0c0c03f"
      },
      "source": [
        "import numpy as np\n",
        "\n",
        "train_error, val_error = [], []\n",
        "\n",
        "for n_units in range(1,11):# . . . \n",
        "    \n",
        "  # do model\n",
        "  ANN = Sequential()\n",
        "\n",
        "  ANN.add(\n",
        "      Dense(\n",
        "          units = pow(n_units, 2), \n",
        "          activation = 'relu',\n",
        "          input_dim=8\n",
        "      )\n",
        "  )\n",
        "  ANN.add(\n",
        "      Dense(\n",
        "        units = 1 # dimension of Output... ,\n",
        "          # no need for activation (i.e. linear activation) considering the range of the output... \n",
        "        )\n",
        "  )\n",
        "  ANN.compile(\n",
        "      optimizer=SGD(learning_rate = 0.001),\n",
        "      loss='mse')\n",
        "  # train model \n",
        "  history = ANN.fit(x_tr, y_train, epochs=20, validation_data=(x_val,y_val))\n",
        "\n",
        "  val_error = val_error+[min(history.history['val_loss'])]\n",
        "  train_error = train_error+[history.history['loss'][np.argmin(history.history['val_loss'])]]\n",
        "  # for instance\n",
        "    \n",
        "# . . . ."
      ],
      "execution_count": 36,
      "outputs": [
        {
          "output_type": "stream",
          "text": [
            "Epoch 1/20\n",
            "24/24 [==============================] - 0s 5ms/step - loss: 1529.1674 - val_loss: 1468.0677\n",
            "Epoch 2/20\n",
            "24/24 [==============================] - 0s 2ms/step - loss: 1403.4719 - val_loss: 1359.8535\n",
            "Epoch 3/20\n",
            "24/24 [==============================] - 0s 2ms/step - loss: 1300.8331 - val_loss: 1261.1677\n",
            "Epoch 4/20\n",
            "24/24 [==============================] - 0s 2ms/step - loss: 1206.9498 - val_loss: 1171.8754\n",
            "Epoch 5/20\n",
            "24/24 [==============================] - 0s 2ms/step - loss: 1122.0007 - val_loss: 1090.4861\n",
            "Epoch 6/20\n",
            "24/24 [==============================] - 0s 2ms/step - loss: 1044.6149 - val_loss: 1017.6007\n",
            "Epoch 7/20\n",
            "24/24 [==============================] - 0s 2ms/step - loss: 975.2966 - val_loss: 950.6256\n",
            "Epoch 8/20\n",
            "24/24 [==============================] - 0s 2ms/step - loss: 911.6447 - val_loss: 888.5825\n",
            "Epoch 9/20\n",
            "24/24 [==============================] - 0s 2ms/step - loss: 852.6870 - val_loss: 833.1984\n",
            "Epoch 10/20\n",
            "24/24 [==============================] - 0s 2ms/step - loss: 800.1151 - val_loss: 783.4860\n",
            "Epoch 11/20\n",
            "24/24 [==============================] - 0s 2ms/step - loss: 752.9091 - val_loss: 738.3980\n",
            "Epoch 12/20\n",
            "24/24 [==============================] - 0s 2ms/step - loss: 710.1088 - val_loss: 697.2745\n",
            "Epoch 13/20\n",
            "24/24 [==============================] - 0s 2ms/step - loss: 671.1392 - val_loss: 660.2516\n",
            "Epoch 14/20\n",
            "24/24 [==============================] - 0s 2ms/step - loss: 636.0037 - val_loss: 626.0763\n",
            "Epoch 15/20\n",
            "24/24 [==============================] - 0s 2ms/step - loss: 603.6006 - val_loss: 594.7103\n",
            "Epoch 16/20\n",
            "24/24 [==============================] - 0s 2ms/step - loss: 573.8959 - val_loss: 566.7707\n",
            "Epoch 17/20\n",
            "24/24 [==============================] - 0s 2ms/step - loss: 547.4239 - val_loss: 540.2106\n",
            "Epoch 18/20\n",
            "24/24 [==============================] - 0s 2ms/step - loss: 522.3065 - val_loss: 516.5489\n",
            "Epoch 19/20\n",
            "24/24 [==============================] - 0s 2ms/step - loss: 499.9319 - val_loss: 495.2424\n",
            "Epoch 20/20\n",
            "24/24 [==============================] - 0s 2ms/step - loss: 479.7638 - val_loss: 475.4451\n",
            "Epoch 1/20\n",
            "24/24 [==============================] - 0s 5ms/step - loss: 1466.5887 - val_loss: 1314.9285\n",
            "Epoch 2/20\n",
            "24/24 [==============================] - 0s 2ms/step - loss: 990.1346 - val_loss: 509.3574\n",
            "Epoch 3/20\n",
            "24/24 [==============================] - 0s 2ms/step - loss: 267.4871 - val_loss: 126.6799\n",
            "Epoch 4/20\n",
            "24/24 [==============================] - 0s 2ms/step - loss: 132.8747 - val_loss: 113.8371\n",
            "Epoch 5/20\n",
            "24/24 [==============================] - 0s 2ms/step - loss: 123.8595 - val_loss: 110.9807\n",
            "Epoch 6/20\n",
            "24/24 [==============================] - 0s 2ms/step - loss: 120.5841 - val_loss: 107.8715\n",
            "Epoch 7/20\n",
            "24/24 [==============================] - 0s 2ms/step - loss: 117.2049 - val_loss: 108.9016\n",
            "Epoch 8/20\n",
            "24/24 [==============================] - 0s 2ms/step - loss: 115.9267 - val_loss: 108.5888\n",
            "Epoch 9/20\n",
            "24/24 [==============================] - 0s 2ms/step - loss: 115.7498 - val_loss: 105.2592\n",
            "Epoch 10/20\n",
            "24/24 [==============================] - 0s 2ms/step - loss: 113.4614 - val_loss: 102.6600\n",
            "Epoch 11/20\n",
            "24/24 [==============================] - 0s 2ms/step - loss: 113.1356 - val_loss: 103.2276\n",
            "Epoch 12/20\n",
            "24/24 [==============================] - 0s 2ms/step - loss: 112.0332 - val_loss: 106.2591\n",
            "Epoch 13/20\n",
            "24/24 [==============================] - 0s 2ms/step - loss: 111.8606 - val_loss: 105.0488\n",
            "Epoch 14/20\n",
            "24/24 [==============================] - 0s 2ms/step - loss: 111.6308 - val_loss: 105.0171\n",
            "Epoch 15/20\n",
            "24/24 [==============================] - 0s 2ms/step - loss: 110.6025 - val_loss: 107.0235\n",
            "Epoch 16/20\n",
            "24/24 [==============================] - 0s 2ms/step - loss: 112.1441 - val_loss: 101.9245\n",
            "Epoch 17/20\n",
            "24/24 [==============================] - 0s 2ms/step - loss: 109.7737 - val_loss: 102.5107\n",
            "Epoch 18/20\n",
            "24/24 [==============================] - 0s 2ms/step - loss: 109.0039 - val_loss: 100.7233\n",
            "Epoch 19/20\n",
            "24/24 [==============================] - 0s 2ms/step - loss: 108.7304 - val_loss: 99.9151\n",
            "Epoch 20/20\n",
            "24/24 [==============================] - 0s 2ms/step - loss: 108.5247 - val_loss: 105.7945\n",
            "Epoch 1/20\n",
            "24/24 [==============================] - 0s 5ms/step - loss: 1341.2598 - val_loss: 1004.3738\n",
            "Epoch 2/20\n",
            "24/24 [==============================] - 0s 2ms/step - loss: 560.0589 - val_loss: 219.6620\n",
            "Epoch 3/20\n",
            "24/24 [==============================] - 0s 2ms/step - loss: 170.2460 - val_loss: 121.9761\n",
            "Epoch 4/20\n",
            "24/24 [==============================] - 0s 2ms/step - loss: 132.5454 - val_loss: 125.0618\n",
            "Epoch 5/20\n",
            "24/24 [==============================] - 0s 2ms/step - loss: 126.0042 - val_loss: 113.9861\n",
            "Epoch 6/20\n",
            "24/24 [==============================] - 0s 2ms/step - loss: 122.6160 - val_loss: 112.3467\n",
            "Epoch 7/20\n",
            "24/24 [==============================] - 0s 2ms/step - loss: 118.4732 - val_loss: 110.4057\n",
            "Epoch 8/20\n",
            "24/24 [==============================] - 0s 2ms/step - loss: 116.5937 - val_loss: 106.7531\n",
            "Epoch 9/20\n",
            "24/24 [==============================] - 0s 2ms/step - loss: 114.5746 - val_loss: 105.9729\n",
            "Epoch 10/20\n",
            "24/24 [==============================] - 0s 2ms/step - loss: 113.0935 - val_loss: 105.5961\n",
            "Epoch 11/20\n",
            "24/24 [==============================] - 0s 2ms/step - loss: 112.5406 - val_loss: 107.3001\n",
            "Epoch 12/20\n",
            "24/24 [==============================] - 0s 2ms/step - loss: 110.7383 - val_loss: 102.5567\n",
            "Epoch 13/20\n",
            "24/24 [==============================] - 0s 2ms/step - loss: 110.3452 - val_loss: 106.4101\n",
            "Epoch 14/20\n",
            "24/24 [==============================] - 0s 2ms/step - loss: 111.1101 - val_loss: 101.3758\n",
            "Epoch 15/20\n",
            "24/24 [==============================] - 0s 2ms/step - loss: 109.0981 - val_loss: 100.5658\n",
            "Epoch 16/20\n",
            "24/24 [==============================] - 0s 2ms/step - loss: 108.3650 - val_loss: 104.6106\n",
            "Epoch 17/20\n",
            "24/24 [==============================] - 0s 2ms/step - loss: 107.6484 - val_loss: 107.8763\n",
            "Epoch 18/20\n",
            "24/24 [==============================] - 0s 2ms/step - loss: 108.5898 - val_loss: 100.3925\n",
            "Epoch 19/20\n",
            "24/24 [==============================] - 0s 2ms/step - loss: 107.0100 - val_loss: 105.0540\n",
            "Epoch 20/20\n",
            "24/24 [==============================] - 0s 2ms/step - loss: 107.4881 - val_loss: 99.4592\n",
            "Epoch 1/20\n",
            "24/24 [==============================] - 0s 5ms/step - loss: 1367.3307 - val_loss: 890.9132\n",
            "Epoch 2/20\n",
            "24/24 [==============================] - 0s 2ms/step - loss: 466.1912 - val_loss: 154.0499\n",
            "Epoch 3/20\n",
            "24/24 [==============================] - 0s 2ms/step - loss: 147.0370 - val_loss: 132.1222\n",
            "Epoch 4/20\n",
            "24/24 [==============================] - 0s 2ms/step - loss: 132.5840 - val_loss: 120.6569\n",
            "Epoch 5/20\n",
            "24/24 [==============================] - 0s 2ms/step - loss: 126.0500 - val_loss: 115.9913\n",
            "Epoch 6/20\n",
            "24/24 [==============================] - 0s 2ms/step - loss: 123.2934 - val_loss: 113.7597\n",
            "Epoch 7/20\n",
            "24/24 [==============================] - 0s 2ms/step - loss: 120.4075 - val_loss: 113.4940\n",
            "Epoch 8/20\n",
            "24/24 [==============================] - 0s 2ms/step - loss: 118.7022 - val_loss: 111.6009\n",
            "Epoch 9/20\n",
            "24/24 [==============================] - 0s 2ms/step - loss: 117.2189 - val_loss: 106.5556\n",
            "Epoch 10/20\n",
            "24/24 [==============================] - 0s 2ms/step - loss: 116.3630 - val_loss: 107.3680\n",
            "Epoch 11/20\n",
            "24/24 [==============================] - 0s 2ms/step - loss: 115.5068 - val_loss: 120.0093\n",
            "Epoch 12/20\n",
            "24/24 [==============================] - 0s 2ms/step - loss: 116.2190 - val_loss: 105.0446\n",
            "Epoch 13/20\n",
            "24/24 [==============================] - 0s 2ms/step - loss: 113.2154 - val_loss: 109.5671\n",
            "Epoch 14/20\n",
            "24/24 [==============================] - 0s 2ms/step - loss: 112.8329 - val_loss: 103.4598\n",
            "Epoch 15/20\n",
            "24/24 [==============================] - 0s 2ms/step - loss: 111.3979 - val_loss: 105.1207\n",
            "Epoch 16/20\n",
            "24/24 [==============================] - 0s 2ms/step - loss: 110.9557 - val_loss: 107.0709\n",
            "Epoch 17/20\n",
            "24/24 [==============================] - 0s 2ms/step - loss: 110.6243 - val_loss: 103.6462\n",
            "Epoch 18/20\n",
            "24/24 [==============================] - 0s 2ms/step - loss: 109.7880 - val_loss: 99.5958\n",
            "Epoch 19/20\n",
            "24/24 [==============================] - 0s 2ms/step - loss: 108.6325 - val_loss: 104.5320\n",
            "Epoch 20/20\n",
            "24/24 [==============================] - 0s 2ms/step - loss: 107.9277 - val_loss: 102.4879\n",
            "Epoch 1/20\n",
            "24/24 [==============================] - 0s 15ms/step - loss: 1293.5537 - val_loss: 804.5267\n",
            "Epoch 2/20\n",
            "24/24 [==============================] - 0s 2ms/step - loss: 408.1170 - val_loss: 158.0770\n",
            "Epoch 3/20\n",
            "24/24 [==============================] - 0s 2ms/step - loss: 154.9102 - val_loss: 132.4058\n",
            "Epoch 4/20\n",
            "24/24 [==============================] - 0s 2ms/step - loss: 133.8420 - val_loss: 120.9230\n",
            "Epoch 5/20\n",
            "24/24 [==============================] - 0s 2ms/step - loss: 127.5467 - val_loss: 113.7720\n",
            "Epoch 6/20\n",
            "24/24 [==============================] - 0s 2ms/step - loss: 121.5317 - val_loss: 112.1889\n",
            "Epoch 7/20\n",
            "24/24 [==============================] - 0s 2ms/step - loss: 118.0814 - val_loss: 109.0296\n",
            "Epoch 8/20\n",
            "24/24 [==============================] - 0s 2ms/step - loss: 116.4604 - val_loss: 107.8844\n",
            "Epoch 9/20\n",
            "24/24 [==============================] - 0s 2ms/step - loss: 114.5317 - val_loss: 108.3826\n",
            "Epoch 10/20\n",
            "24/24 [==============================] - 0s 2ms/step - loss: 112.6735 - val_loss: 107.8570\n",
            "Epoch 11/20\n",
            "24/24 [==============================] - 0s 2ms/step - loss: 113.0490 - val_loss: 107.1370\n",
            "Epoch 12/20\n",
            "24/24 [==============================] - 0s 2ms/step - loss: 111.5836 - val_loss: 104.4696\n",
            "Epoch 13/20\n",
            "24/24 [==============================] - 0s 2ms/step - loss: 112.4067 - val_loss: 105.4124\n",
            "Epoch 14/20\n",
            "24/24 [==============================] - 0s 2ms/step - loss: 111.3159 - val_loss: 102.9124\n",
            "Epoch 15/20\n",
            "24/24 [==============================] - 0s 2ms/step - loss: 109.3564 - val_loss: 104.6364\n",
            "Epoch 16/20\n",
            "24/24 [==============================] - 0s 2ms/step - loss: 109.9972 - val_loss: 104.8366\n",
            "Epoch 17/20\n",
            "24/24 [==============================] - 0s 2ms/step - loss: 108.7639 - val_loss: 100.6142\n",
            "Epoch 18/20\n",
            "24/24 [==============================] - 0s 2ms/step - loss: 107.4546 - val_loss: 101.1385\n",
            "Epoch 19/20\n",
            "24/24 [==============================] - 0s 2ms/step - loss: 107.1082 - val_loss: 104.2251\n",
            "Epoch 20/20\n",
            "24/24 [==============================] - 0s 2ms/step - loss: 106.7309 - val_loss: 109.3222\n",
            "Epoch 1/20\n",
            "24/24 [==============================] - 0s 6ms/step - loss: 1324.3250 - val_loss: 821.3244\n",
            "Epoch 2/20\n",
            "24/24 [==============================] - 0s 2ms/step - loss: 422.1894 - val_loss: 155.0932\n",
            "Epoch 3/20\n",
            "24/24 [==============================] - 0s 2ms/step - loss: 148.3226 - val_loss: 124.7295\n",
            "Epoch 4/20\n",
            "24/24 [==============================] - 0s 2ms/step - loss: 130.8473 - val_loss: 118.7191\n",
            "Epoch 5/20\n",
            "24/24 [==============================] - 0s 2ms/step - loss: 125.1400 - val_loss: 112.4567\n",
            "Epoch 6/20\n",
            "24/24 [==============================] - 0s 2ms/step - loss: 121.7976 - val_loss: 109.5297\n",
            "Epoch 7/20\n",
            "24/24 [==============================] - 0s 2ms/step - loss: 119.8931 - val_loss: 108.8468\n",
            "Epoch 8/20\n",
            "24/24 [==============================] - 0s 2ms/step - loss: 117.7587 - val_loss: 110.0056\n",
            "Epoch 9/20\n",
            "24/24 [==============================] - 0s 2ms/step - loss: 116.2907 - val_loss: 108.9631\n",
            "Epoch 10/20\n",
            "24/24 [==============================] - 0s 2ms/step - loss: 115.1040 - val_loss: 107.2587\n",
            "Epoch 11/20\n",
            "24/24 [==============================] - 0s 2ms/step - loss: 113.2204 - val_loss: 102.0573\n",
            "Epoch 12/20\n",
            "24/24 [==============================] - 0s 2ms/step - loss: 111.6751 - val_loss: 101.0715\n",
            "Epoch 13/20\n",
            "24/24 [==============================] - 0s 2ms/step - loss: 110.7605 - val_loss: 108.1358\n",
            "Epoch 14/20\n",
            "24/24 [==============================] - 0s 2ms/step - loss: 111.2615 - val_loss: 102.1314\n",
            "Epoch 15/20\n",
            "24/24 [==============================] - 0s 2ms/step - loss: 109.7989 - val_loss: 99.9150\n",
            "Epoch 16/20\n",
            "24/24 [==============================] - 0s 2ms/step - loss: 108.5083 - val_loss: 102.4749\n",
            "Epoch 17/20\n",
            "24/24 [==============================] - 0s 2ms/step - loss: 107.6876 - val_loss: 99.7130\n",
            "Epoch 18/20\n",
            "24/24 [==============================] - 0s 2ms/step - loss: 106.0807 - val_loss: 96.2302\n",
            "Epoch 19/20\n",
            "24/24 [==============================] - 0s 2ms/step - loss: 105.3251 - val_loss: 108.3473\n",
            "Epoch 20/20\n",
            "24/24 [==============================] - 0s 2ms/step - loss: 106.0539 - val_loss: 98.2635\n",
            "Epoch 1/20\n",
            "24/24 [==============================] - 0s 5ms/step - loss: 1283.6350 - val_loss: 777.2712\n",
            "Epoch 2/20\n",
            "24/24 [==============================] - 0s 2ms/step - loss: 397.2673 - val_loss: 158.2832\n",
            "Epoch 3/20\n",
            "24/24 [==============================] - 0s 2ms/step - loss: 154.7600 - val_loss: 128.5193\n",
            "Epoch 4/20\n",
            "24/24 [==============================] - 0s 2ms/step - loss: 137.1514 - val_loss: 126.6191\n",
            "Epoch 5/20\n",
            "24/24 [==============================] - 0s 2ms/step - loss: 129.5136 - val_loss: 116.1127\n",
            "Epoch 6/20\n",
            "24/24 [==============================] - 0s 2ms/step - loss: 123.8100 - val_loss: 109.7947\n",
            "Epoch 7/20\n",
            "24/24 [==============================] - 0s 2ms/step - loss: 119.2571 - val_loss: 112.6985\n",
            "Epoch 8/20\n",
            "24/24 [==============================] - 0s 2ms/step - loss: 117.9623 - val_loss: 105.5870\n",
            "Epoch 9/20\n",
            "24/24 [==============================] - 0s 2ms/step - loss: 114.6916 - val_loss: 104.3671\n",
            "Epoch 10/20\n",
            "24/24 [==============================] - 0s 2ms/step - loss: 112.7849 - val_loss: 110.9217\n",
            "Epoch 11/20\n",
            "24/24 [==============================] - 0s 2ms/step - loss: 112.6035 - val_loss: 108.7795\n",
            "Epoch 12/20\n",
            "24/24 [==============================] - 0s 2ms/step - loss: 111.7842 - val_loss: 103.4433\n",
            "Epoch 13/20\n",
            "24/24 [==============================] - 0s 2ms/step - loss: 109.4326 - val_loss: 104.1985\n",
            "Epoch 14/20\n",
            "24/24 [==============================] - 0s 2ms/step - loss: 109.2931 - val_loss: 102.3205\n",
            "Epoch 15/20\n",
            "24/24 [==============================] - 0s 2ms/step - loss: 107.7564 - val_loss: 104.5792\n",
            "Epoch 16/20\n",
            "24/24 [==============================] - 0s 2ms/step - loss: 108.0115 - val_loss: 101.3362\n",
            "Epoch 17/20\n",
            "24/24 [==============================] - 0s 2ms/step - loss: 106.6668 - val_loss: 100.6542\n",
            "Epoch 18/20\n",
            "24/24 [==============================] - 0s 2ms/step - loss: 106.8978 - val_loss: 101.1514\n",
            "Epoch 19/20\n",
            "24/24 [==============================] - 0s 2ms/step - loss: 106.2258 - val_loss: 98.3830\n",
            "Epoch 20/20\n",
            "24/24 [==============================] - 0s 2ms/step - loss: 105.1784 - val_loss: 96.8926\n",
            "Epoch 1/20\n",
            "24/24 [==============================] - 0s 5ms/step - loss: 1300.5382 - val_loss: 813.1297\n",
            "Epoch 2/20\n",
            "24/24 [==============================] - 0s 2ms/step - loss: 399.0772 - val_loss: 149.4469\n",
            "Epoch 3/20\n",
            "24/24 [==============================] - 0s 2ms/step - loss: 151.7262 - val_loss: 135.1467\n",
            "Epoch 4/20\n",
            "24/24 [==============================] - 0s 2ms/step - loss: 137.9217 - val_loss: 120.5388\n",
            "Epoch 5/20\n",
            "24/24 [==============================] - 0s 2ms/step - loss: 128.3243 - val_loss: 116.4889\n",
            "Epoch 6/20\n",
            "24/24 [==============================] - 0s 2ms/step - loss: 124.3562 - val_loss: 116.2854\n",
            "Epoch 7/20\n",
            "24/24 [==============================] - 0s 2ms/step - loss: 121.1982 - val_loss: 112.0478\n",
            "Epoch 8/20\n",
            "24/24 [==============================] - 0s 2ms/step - loss: 119.3764 - val_loss: 108.1215\n",
            "Epoch 9/20\n",
            "24/24 [==============================] - 0s 2ms/step - loss: 116.0328 - val_loss: 110.3940\n",
            "Epoch 10/20\n",
            "24/24 [==============================] - 0s 2ms/step - loss: 114.9174 - val_loss: 106.4011\n",
            "Epoch 11/20\n",
            "24/24 [==============================] - 0s 2ms/step - loss: 113.3015 - val_loss: 108.1082\n",
            "Epoch 12/20\n",
            "24/24 [==============================] - 0s 2ms/step - loss: 114.0152 - val_loss: 106.8479\n",
            "Epoch 13/20\n",
            "24/24 [==============================] - 0s 2ms/step - loss: 112.4947 - val_loss: 103.8256\n",
            "Epoch 14/20\n",
            "24/24 [==============================] - 0s 2ms/step - loss: 111.0970 - val_loss: 103.1628\n",
            "Epoch 15/20\n",
            "24/24 [==============================] - 0s 2ms/step - loss: 111.1302 - val_loss: 100.7970\n",
            "Epoch 16/20\n",
            "24/24 [==============================] - 0s 2ms/step - loss: 108.4065 - val_loss: 106.5695\n",
            "Epoch 17/20\n",
            "24/24 [==============================] - 0s 2ms/step - loss: 108.4585 - val_loss: 102.2480\n",
            "Epoch 18/20\n",
            "24/24 [==============================] - 0s 2ms/step - loss: 107.8821 - val_loss: 102.9433\n",
            "Epoch 19/20\n",
            "24/24 [==============================] - 0s 2ms/step - loss: 108.2418 - val_loss: 108.5401\n",
            "Epoch 20/20\n",
            "24/24 [==============================] - 0s 2ms/step - loss: 107.3011 - val_loss: 100.1235\n",
            "Epoch 1/20\n",
            "24/24 [==============================] - 0s 5ms/step - loss: 1244.8695 - val_loss: 706.2386\n",
            "Epoch 2/20\n",
            "24/24 [==============================] - 0s 2ms/step - loss: 354.8014 - val_loss: 152.0989\n",
            "Epoch 3/20\n",
            "24/24 [==============================] - 0s 2ms/step - loss: 149.0633 - val_loss: 131.2028\n",
            "Epoch 4/20\n",
            "24/24 [==============================] - 0s 2ms/step - loss: 137.3847 - val_loss: 122.9282\n",
            "Epoch 5/20\n",
            "24/24 [==============================] - 0s 2ms/step - loss: 129.9544 - val_loss: 118.2729\n",
            "Epoch 6/20\n",
            "24/24 [==============================] - 0s 2ms/step - loss: 124.3436 - val_loss: 121.8463\n",
            "Epoch 7/20\n",
            "24/24 [==============================] - 0s 2ms/step - loss: 121.3081 - val_loss: 109.8812\n",
            "Epoch 8/20\n",
            "24/24 [==============================] - 0s 2ms/step - loss: 118.1335 - val_loss: 106.9836\n",
            "Epoch 9/20\n",
            "24/24 [==============================] - 0s 2ms/step - loss: 115.3001 - val_loss: 109.0756\n",
            "Epoch 10/20\n",
            "24/24 [==============================] - 0s 2ms/step - loss: 115.5427 - val_loss: 110.2754\n",
            "Epoch 11/20\n",
            "24/24 [==============================] - 0s 2ms/step - loss: 112.5385 - val_loss: 107.6874\n",
            "Epoch 12/20\n",
            "24/24 [==============================] - 0s 2ms/step - loss: 112.6632 - val_loss: 105.2282\n",
            "Epoch 13/20\n",
            "24/24 [==============================] - 0s 2ms/step - loss: 110.2455 - val_loss: 104.3427\n",
            "Epoch 14/20\n",
            "24/24 [==============================] - 0s 2ms/step - loss: 110.8294 - val_loss: 114.5607\n",
            "Epoch 15/20\n",
            "24/24 [==============================] - 0s 2ms/step - loss: 111.0605 - val_loss: 102.5842\n",
            "Epoch 16/20\n",
            "24/24 [==============================] - 0s 2ms/step - loss: 109.0297 - val_loss: 103.7975\n",
            "Epoch 17/20\n",
            "24/24 [==============================] - 0s 2ms/step - loss: 107.6518 - val_loss: 99.2191\n",
            "Epoch 18/20\n",
            "24/24 [==============================] - 0s 2ms/step - loss: 106.9222 - val_loss: 104.5244\n",
            "Epoch 19/20\n",
            "24/24 [==============================] - 0s 2ms/step - loss: 106.4357 - val_loss: 101.3216\n",
            "Epoch 20/20\n",
            "24/24 [==============================] - 0s 2ms/step - loss: 105.5295 - val_loss: 100.4796\n",
            "Epoch 1/20\n",
            "24/24 [==============================] - 0s 5ms/step - loss: 1229.7179 - val_loss: 685.5974\n",
            "Epoch 2/20\n",
            "24/24 [==============================] - 0s 2ms/step - loss: 349.4446 - val_loss: 167.3235\n",
            "Epoch 3/20\n",
            "24/24 [==============================] - 0s 2ms/step - loss: 154.4177 - val_loss: 127.8708\n",
            "Epoch 4/20\n",
            "24/24 [==============================] - 0s 2ms/step - loss: 135.6375 - val_loss: 122.3312\n",
            "Epoch 5/20\n",
            "24/24 [==============================] - 0s 2ms/step - loss: 128.1747 - val_loss: 114.6856\n",
            "Epoch 6/20\n",
            "24/24 [==============================] - 0s 2ms/step - loss: 123.0231 - val_loss: 112.2334\n",
            "Epoch 7/20\n",
            "24/24 [==============================] - 0s 2ms/step - loss: 120.1934 - val_loss: 112.7916\n",
            "Epoch 8/20\n",
            "24/24 [==============================] - 0s 2ms/step - loss: 118.7697 - val_loss: 110.5563\n",
            "Epoch 9/20\n",
            "24/24 [==============================] - 0s 2ms/step - loss: 116.2380 - val_loss: 108.5009\n",
            "Epoch 10/20\n",
            "24/24 [==============================] - 0s 2ms/step - loss: 114.1492 - val_loss: 106.4113\n",
            "Epoch 11/20\n",
            "24/24 [==============================] - 0s 2ms/step - loss: 113.5010 - val_loss: 106.9949\n",
            "Epoch 12/20\n",
            "24/24 [==============================] - 0s 2ms/step - loss: 113.4937 - val_loss: 108.1553\n",
            "Epoch 13/20\n",
            "24/24 [==============================] - 0s 2ms/step - loss: 111.2212 - val_loss: 110.6221\n",
            "Epoch 14/20\n",
            "24/24 [==============================] - 0s 2ms/step - loss: 112.1744 - val_loss: 102.4173\n",
            "Epoch 15/20\n",
            "24/24 [==============================] - 0s 2ms/step - loss: 109.9046 - val_loss: 102.4882\n",
            "Epoch 16/20\n",
            "24/24 [==============================] - 0s 2ms/step - loss: 109.3494 - val_loss: 102.0419\n",
            "Epoch 17/20\n",
            "24/24 [==============================] - 0s 2ms/step - loss: 108.5568 - val_loss: 101.9479\n",
            "Epoch 18/20\n",
            "24/24 [==============================] - 0s 2ms/step - loss: 107.0772 - val_loss: 103.9658\n",
            "Epoch 19/20\n",
            "24/24 [==============================] - 0s 2ms/step - loss: 107.7425 - val_loss: 99.0469\n",
            "Epoch 20/20\n",
            "24/24 [==============================] - 0s 2ms/step - loss: 105.9228 - val_loss: 97.7256\n"
          ],
          "name": "stdout"
        }
      ]
    },
    {
      "cell_type": "code",
      "metadata": {
        "colab": {
          "base_uri": "https://localhost:8080/"
        },
        "id": "16HI4FKAYjZg",
        "outputId": "768934c0-b167-447a-ea97-d3f7f174c592"
      },
      "source": [
        "val_error"
      ],
      "execution_count": 39,
      "outputs": [
        {
          "output_type": "execute_result",
          "data": {
            "text/plain": [
              "[475.44512939453125,\n",
              " 99.91510009765625,\n",
              " 99.45921325683594,\n",
              " 99.5958480834961,\n",
              " 100.61415100097656,\n",
              " 96.23016357421875,\n",
              " 96.89258575439453,\n",
              " 100.12346649169922,\n",
              " 99.21905517578125,\n",
              " 97.7255859375]"
            ]
          },
          "metadata": {
            "tags": []
          },
          "execution_count": 39
        }
      ]
    },
    {
      "cell_type": "code",
      "metadata": {
        "colab": {
          "base_uri": "https://localhost:8080/"
        },
        "id": "g5qDEh1_ZtP7",
        "outputId": "1a2f3601-3fa3-4a57-e524-9ff4a159a45c"
      },
      "source": [
        "train_error"
      ],
      "execution_count": 40,
      "outputs": [
        {
          "output_type": "execute_result",
          "data": {
            "text/plain": [
              "[479.7637634277344,\n",
              " 108.73035430908203,\n",
              " 107.48808288574219,\n",
              " 109.78804779052734,\n",
              " 108.7638931274414,\n",
              " 106.0806884765625,\n",
              " 105.17839050292969,\n",
              " 107.30107116699219,\n",
              " 107.65182495117188,\n",
              " 105.92280578613281]"
            ]
          },
          "metadata": {
            "tags": []
          },
          "execution_count": 40
        }
      ]
    },
    {
      "cell_type": "code",
      "metadata": {
        "colab": {
          "base_uri": "https://localhost:8080/",
          "height": 295
        },
        "id": "TSRIKQgMMZXa",
        "outputId": "cb249eaa-f548-440a-9367-3f138c25f34d"
      },
      "source": [
        "  plt.plot(val_error)\n",
        "  plt.plot(train_error)\n",
        "  plt.title('Perdidas del modelo')\n",
        "  plt.ylabel('perdidas')\n",
        "  plt.xlabel('epocas')\n",
        "  plt.legend(['Entrenamiento', 'test'], loc='upper left')\n",
        "  plt.show()"
      ],
      "execution_count": 41,
      "outputs": [
        {
          "output_type": "display_data",
          "data": {
            "image/png": "[encoded data removed]",
            "text/plain": [
              "<Figure size 432x288 with 1 Axes>"
            ]
          },
          "metadata": {
            "tags": [],
            "needs_background": "light"
          }
        }
      ]
    },
    {
      "cell_type": "markdown",
      "metadata": {
        "id": "a4jScrf7wQS5"
      },
      "source": [
        "### 1.f Dropout\n",
        "(3 pts) Como seguramente constataron en la pregunta anterior, un numero demasiado grande de parámetros en el modelo puede llevarnos a observar el fenomeno de _overfitting_. Una aproximación a este fenómeno que ha dado excelente resultado en redes neuronales es el método _dropout_, donde estocásticamente se desactivan una fracción de las neuronas al momento del entrenamiento, así efectivamente reduciendo el tamaño del modelo que se entrena en cada iteración e implicitamente obteniendo modelos más robustos por el simple hecho que al momento de entrenar nunca se entrena el \"mismo\" modelo. \n",
        "\n",
        "Según lo aprendido en el ramo, ¿en qué consiste el fenómeno de _overfitting_? ¿Por qué modelos más grandes suelen presentar el fenómeno? \n",
        "\n",
        "Entrene la mejor red obtenida en la pregunta anterior agregando una capa de _Dropout_ con parámetro $0.5$ inmediatamente luego de la capa oculta. Repita luego el proceso con una red con el doble de neuronas. Note que el agregar una capa _dropout_ hará que la red entrene más lento, por lo cual es recomendable aumentar el numero de _epochs_ para entrenar la red a completitud. \n",
        "\n",
        "¿Qué observa al agregar _dropout_? Comente y compare con sus resultados anteriores. "
      ]
    },
    {
      "cell_type": "code",
      "metadata": {
        "id": "pqzhCYxFwQS5",
        "colab": {
          "base_uri": "https://localhost:8080/",
          "height": 1000
        },
        "outputId": "e1f3843c-3c9e-4f21-cc1b-3b96a7c1f1a6"
      },
      "source": [
        "from keras.layers import Dropout\n",
        "\n",
        "ANN = Sequential()\n",
        "\n",
        "ANN.add(\n",
        "    Dense(\n",
        "        units = 200, \n",
        "        activation = 'relu',\n",
        "        input_dim=8\n",
        "    )\n",
        ")\n",
        "ANN.add(\n",
        "    Dropout(0.5)\n",
        ")\n",
        "ANN.add(\n",
        "    Dense(\n",
        "      units = 1 # dimension of Output... ,\n",
        "        # no need for activation (i.e. linear activation) considering the range of the output... \n",
        "      )\n",
        ")\n",
        "ANN.compile(\n",
        "    optimizer=SGD(learning_rate = 0.005),\n",
        "    loss='mse')\n",
        "# train model \n",
        "history = ANN.fit(x_tr, y_train, epochs=200, validation_data=(x_val,y_val))\n",
        "\n",
        "plt.plot(history.history['loss'])\n",
        "plt.plot(history.history['val_loss'])\n",
        "plt.title('Perdidas del modelo')\n",
        "plt.ylabel('perdidas')\n",
        "plt.xlabel('epocas')\n",
        "plt.legend(['Entrenamiento', 'test'], loc='upper left')\n",
        "plt.show()"
      ],
      "execution_count": 46,
      "outputs": [
        {
          "output_type": "stream",
          "text": [
            "Epoch 1/200\n",
            "24/24 [==============================] - 0s 5ms/step - loss: 476.2319 - val_loss: 140.6153\n",
            "Epoch 2/200\n",
            "24/24 [==============================] - 0s 2ms/step - loss: 156.7857 - val_loss: 167.3796\n",
            "Epoch 3/200\n",
            "24/24 [==============================] - 0s 2ms/step - loss: 150.3182 - val_loss: 125.9403\n",
            "Epoch 4/200\n",
            "24/24 [==============================] - 0s 2ms/step - loss: 141.3364 - val_loss: 178.6447\n",
            "Epoch 5/200\n",
            "24/24 [==============================] - 0s 2ms/step - loss: 143.6731 - val_loss: 179.0911\n",
            "Epoch 6/200\n",
            "24/24 [==============================] - 0s 2ms/step - loss: 147.5160 - val_loss: 108.6381\n",
            "Epoch 7/200\n",
            "24/24 [==============================] - 0s 2ms/step - loss: 126.4964 - val_loss: 171.2718\n",
            "Epoch 8/200\n",
            "24/24 [==============================] - 0s 2ms/step - loss: 127.0343 - val_loss: 100.2357\n",
            "Epoch 9/200\n",
            "24/24 [==============================] - 0s 2ms/step - loss: 119.7888 - val_loss: 89.0248\n",
            "Epoch 10/200\n",
            "24/24 [==============================] - 0s 2ms/step - loss: 117.4510 - val_loss: 106.3788\n",
            "Epoch 11/200\n",
            "24/24 [==============================] - 0s 2ms/step - loss: 111.7260 - val_loss: 77.4290\n",
            "Epoch 12/200\n",
            "24/24 [==============================] - 0s 2ms/step - loss: 102.6722 - val_loss: 60.5452\n",
            "Epoch 13/200\n",
            "24/24 [==============================] - 0s 2ms/step - loss: 99.8219 - val_loss: 113.2402\n",
            "Epoch 14/200\n",
            "24/24 [==============================] - 0s 2ms/step - loss: 95.6535 - val_loss: 60.6048\n",
            "Epoch 15/200\n",
            "24/24 [==============================] - 0s 2ms/step - loss: 93.7411 - val_loss: 54.6619\n",
            "Epoch 16/200\n",
            "24/24 [==============================] - 0s 2ms/step - loss: 94.6567 - val_loss: 140.3429\n",
            "Epoch 17/200\n",
            "24/24 [==============================] - 0s 2ms/step - loss: 95.9389 - val_loss: 136.8266\n",
            "Epoch 18/200\n",
            "24/24 [==============================] - 0s 2ms/step - loss: 92.1468 - val_loss: 53.6182\n",
            "Epoch 19/200\n",
            "24/24 [==============================] - 0s 2ms/step - loss: 84.9092 - val_loss: 164.2837\n",
            "Epoch 20/200\n",
            "24/24 [==============================] - 0s 2ms/step - loss: 103.0214 - val_loss: 80.4386\n",
            "Epoch 21/200\n",
            "24/24 [==============================] - 0s 2ms/step - loss: 96.2946 - val_loss: 319.2871\n",
            "Epoch 22/200\n",
            "24/24 [==============================] - 0s 2ms/step - loss: 91.5942 - val_loss: 50.7353\n",
            "Epoch 23/200\n",
            "24/24 [==============================] - 0s 2ms/step - loss: 80.7111 - val_loss: 100.3689\n",
            "Epoch 24/200\n",
            "24/24 [==============================] - 0s 2ms/step - loss: 77.4849 - val_loss: 50.6158\n",
            "Epoch 25/200\n",
            "24/24 [==============================] - 0s 2ms/step - loss: 76.1210 - val_loss: 90.5229\n",
            "Epoch 26/200\n",
            "24/24 [==============================] - 0s 2ms/step - loss: 79.7474 - val_loss: 70.0417\n",
            "Epoch 27/200\n",
            "24/24 [==============================] - 0s 2ms/step - loss: 84.4902 - val_loss: 42.5454\n",
            "Epoch 28/200\n",
            "24/24 [==============================] - 0s 2ms/step - loss: 78.9436 - val_loss: 78.3739\n",
            "Epoch 29/200\n",
            "24/24 [==============================] - 0s 2ms/step - loss: 76.4658 - val_loss: 165.0421\n",
            "Epoch 30/200\n",
            "24/24 [==============================] - 0s 2ms/step - loss: 84.2971 - val_loss: 38.9000\n",
            "Epoch 31/200\n",
            "24/24 [==============================] - 0s 2ms/step - loss: 77.4858 - val_loss: 44.4062\n",
            "Epoch 32/200\n",
            "24/24 [==============================] - 0s 2ms/step - loss: 73.2632 - val_loss: 111.9705\n",
            "Epoch 33/200\n",
            "24/24 [==============================] - 0s 2ms/step - loss: 69.6899 - val_loss: 38.5548\n",
            "Epoch 34/200\n",
            "24/24 [==============================] - 0s 2ms/step - loss: 65.0384 - val_loss: 50.1216\n",
            "Epoch 35/200\n",
            "24/24 [==============================] - 0s 2ms/step - loss: 73.3872 - val_loss: 42.1998\n",
            "Epoch 36/200\n",
            "24/24 [==============================] - 0s 2ms/step - loss: 66.6736 - val_loss: 108.5597\n",
            "Epoch 37/200\n",
            "24/24 [==============================] - 0s 2ms/step - loss: 80.0471 - val_loss: 58.1997\n",
            "Epoch 38/200\n",
            "24/24 [==============================] - 0s 2ms/step - loss: 83.4017 - val_loss: 108.2153\n",
            "Epoch 39/200\n",
            "24/24 [==============================] - 0s 2ms/step - loss: 70.2178 - val_loss: 120.5343\n",
            "Epoch 40/200\n",
            "24/24 [==============================] - 0s 2ms/step - loss: 72.8701 - val_loss: 45.3675\n",
            "Epoch 41/200\n",
            "24/24 [==============================] - 0s 2ms/step - loss: 67.9831 - val_loss: 64.3488\n",
            "Epoch 42/200\n",
            "24/24 [==============================] - 0s 2ms/step - loss: 72.3689 - val_loss: 39.0099\n",
            "Epoch 43/200\n",
            "24/24 [==============================] - 0s 2ms/step - loss: 69.6048 - val_loss: 52.7312\n",
            "Epoch 44/200\n",
            "24/24 [==============================] - 0s 2ms/step - loss: 69.8357 - val_loss: 79.7385\n",
            "Epoch 45/200\n",
            "24/24 [==============================] - 0s 2ms/step - loss: 81.5195 - val_loss: 107.0098\n",
            "Epoch 46/200\n",
            "24/24 [==============================] - 0s 2ms/step - loss: 70.2159 - val_loss: 46.6786\n",
            "Epoch 47/200\n",
            "24/24 [==============================] - 0s 2ms/step - loss: 71.5113 - val_loss: 67.4053\n",
            "Epoch 48/200\n",
            "24/24 [==============================] - 0s 2ms/step - loss: 65.7472 - val_loss: 48.3700\n",
            "Epoch 49/200\n",
            "24/24 [==============================] - 0s 2ms/step - loss: 73.6474 - val_loss: 60.5310\n",
            "Epoch 50/200\n",
            "24/24 [==============================] - 0s 2ms/step - loss: 63.7191 - val_loss: 38.3257\n",
            "Epoch 51/200\n",
            "24/24 [==============================] - 0s 2ms/step - loss: 62.7505 - val_loss: 61.2883\n",
            "Epoch 52/200\n",
            "24/24 [==============================] - 0s 2ms/step - loss: 67.6154 - val_loss: 84.6039\n",
            "Epoch 53/200\n",
            "24/24 [==============================] - 0s 2ms/step - loss: 66.1795 - val_loss: 84.7112\n",
            "Epoch 54/200\n",
            "24/24 [==============================] - 0s 2ms/step - loss: 73.4999 - val_loss: 39.2174\n",
            "Epoch 55/200\n",
            "24/24 [==============================] - 0s 2ms/step - loss: 63.0719 - val_loss: 47.6851\n",
            "Epoch 56/200\n",
            "24/24 [==============================] - 0s 2ms/step - loss: 65.0097 - val_loss: 46.9544\n",
            "Epoch 57/200\n",
            "24/24 [==============================] - 0s 2ms/step - loss: 60.1216 - val_loss: 34.5260\n",
            "Epoch 58/200\n",
            "24/24 [==============================] - 0s 2ms/step - loss: 63.7194 - val_loss: 54.8147\n",
            "Epoch 59/200\n",
            "24/24 [==============================] - 0s 2ms/step - loss: 69.4257 - val_loss: 53.9538\n",
            "Epoch 60/200\n",
            "24/24 [==============================] - 0s 2ms/step - loss: 72.8475 - val_loss: 94.5647\n",
            "Epoch 61/200\n",
            "24/24 [==============================] - 0s 2ms/step - loss: 65.4637 - val_loss: 57.2908\n",
            "Epoch 62/200\n",
            "24/24 [==============================] - 0s 2ms/step - loss: 64.1715 - val_loss: 55.3417\n",
            "Epoch 63/200\n",
            "24/24 [==============================] - 0s 2ms/step - loss: 59.0792 - val_loss: 37.6171\n",
            "Epoch 64/200\n",
            "24/24 [==============================] - 0s 2ms/step - loss: 66.2979 - val_loss: 43.3539\n",
            "Epoch 65/200\n",
            "24/24 [==============================] - 0s 2ms/step - loss: 60.7428 - val_loss: 41.9088\n",
            "Epoch 66/200\n",
            "24/24 [==============================] - 0s 2ms/step - loss: 68.7110 - val_loss: 52.1860\n",
            "Epoch 67/200\n",
            "24/24 [==============================] - 0s 2ms/step - loss: 64.9013 - val_loss: 34.7554\n",
            "Epoch 68/200\n",
            "24/24 [==============================] - 0s 2ms/step - loss: 72.6449 - val_loss: 79.8465\n",
            "Epoch 69/200\n",
            "24/24 [==============================] - 0s 2ms/step - loss: 66.6769 - val_loss: 64.8432\n",
            "Epoch 70/200\n",
            "24/24 [==============================] - 0s 2ms/step - loss: 69.6627 - val_loss: 40.5550\n",
            "Epoch 71/200\n",
            "24/24 [==============================] - 0s 2ms/step - loss: 68.4645 - val_loss: 52.5297\n",
            "Epoch 72/200\n",
            "24/24 [==============================] - 0s 2ms/step - loss: 62.0456 - val_loss: 48.3979\n",
            "Epoch 73/200\n",
            "24/24 [==============================] - 0s 2ms/step - loss: 61.8552 - val_loss: 35.4752\n",
            "Epoch 74/200\n",
            "24/24 [==============================] - 0s 2ms/step - loss: 58.5434 - val_loss: 44.9719\n",
            "Epoch 75/200\n",
            "24/24 [==============================] - 0s 2ms/step - loss: 68.0854 - val_loss: 53.0533\n",
            "Epoch 76/200\n",
            "24/24 [==============================] - 0s 2ms/step - loss: 57.7112 - val_loss: 98.8839\n",
            "Epoch 77/200\n",
            "24/24 [==============================] - 0s 2ms/step - loss: 65.3428 - val_loss: 89.4673\n",
            "Epoch 78/200\n",
            "24/24 [==============================] - 0s 2ms/step - loss: 61.0539 - val_loss: 85.1113\n",
            "Epoch 79/200\n",
            "24/24 [==============================] - 0s 2ms/step - loss: 59.3645 - val_loss: 35.2033\n",
            "Epoch 80/200\n",
            "24/24 [==============================] - 0s 2ms/step - loss: 61.6659 - val_loss: 41.1940\n",
            "Epoch 81/200\n",
            "24/24 [==============================] - 0s 2ms/step - loss: 60.8620 - val_loss: 33.6697\n",
            "Epoch 82/200\n",
            "24/24 [==============================] - 0s 2ms/step - loss: 56.0210 - val_loss: 34.0971\n",
            "Epoch 83/200\n",
            "24/24 [==============================] - 0s 2ms/step - loss: 65.6687 - val_loss: 178.8225\n",
            "Epoch 84/200\n",
            "24/24 [==============================] - 0s 2ms/step - loss: 74.1043 - val_loss: 42.7285\n",
            "Epoch 85/200\n",
            "24/24 [==============================] - 0s 2ms/step - loss: 63.8411 - val_loss: 36.1363\n",
            "Epoch 86/200\n",
            "24/24 [==============================] - 0s 2ms/step - loss: 60.1596 - val_loss: 53.1314\n",
            "Epoch 87/200\n",
            "24/24 [==============================] - 0s 2ms/step - loss: 62.3527 - val_loss: 52.1027\n",
            "Epoch 88/200\n",
            "24/24 [==============================] - 0s 2ms/step - loss: 59.5662 - val_loss: 121.1540\n",
            "Epoch 89/200\n",
            "24/24 [==============================] - 0s 2ms/step - loss: 65.9550 - val_loss: 55.7183\n",
            "Epoch 90/200\n",
            "24/24 [==============================] - 0s 2ms/step - loss: 64.7394 - val_loss: 53.8898\n",
            "Epoch 91/200\n",
            "24/24 [==============================] - 0s 2ms/step - loss: 65.1010 - val_loss: 40.7680\n",
            "Epoch 92/200\n",
            "24/24 [==============================] - 0s 2ms/step - loss: 58.0647 - val_loss: 40.3541\n",
            "Epoch 93/200\n",
            "24/24 [==============================] - 0s 2ms/step - loss: 62.1896 - val_loss: 57.2305\n",
            "Epoch 94/200\n",
            "24/24 [==============================] - 0s 2ms/step - loss: 61.0887 - val_loss: 79.2257\n",
            "Epoch 95/200\n",
            "24/24 [==============================] - 0s 2ms/step - loss: 62.3736 - val_loss: 118.3907\n",
            "Epoch 96/200\n",
            "24/24 [==============================] - 0s 2ms/step - loss: 64.1658 - val_loss: 181.0308\n",
            "Epoch 97/200\n",
            "24/24 [==============================] - 0s 2ms/step - loss: 68.4938 - val_loss: 35.7746\n",
            "Epoch 98/200\n",
            "24/24 [==============================] - 0s 2ms/step - loss: 66.2999 - val_loss: 276.8572\n",
            "Epoch 99/200\n",
            "24/24 [==============================] - 0s 2ms/step - loss: 83.1282 - val_loss: 62.0406\n",
            "Epoch 100/200\n",
            "24/24 [==============================] - 0s 2ms/step - loss: 72.5193 - val_loss: 63.7244\n",
            "Epoch 101/200\n",
            "24/24 [==============================] - 0s 2ms/step - loss: 60.7624 - val_loss: 40.6023\n",
            "Epoch 102/200\n",
            "24/24 [==============================] - 0s 2ms/step - loss: 62.8678 - val_loss: 39.8032\n",
            "Epoch 103/200\n",
            "24/24 [==============================] - 0s 2ms/step - loss: 62.7471 - val_loss: 41.3085\n",
            "Epoch 104/200\n",
            "24/24 [==============================] - 0s 2ms/step - loss: 61.6015 - val_loss: 37.6526\n",
            "Epoch 105/200\n",
            "24/24 [==============================] - 0s 2ms/step - loss: 56.0628 - val_loss: 34.5257\n",
            "Epoch 106/200\n",
            "24/24 [==============================] - 0s 2ms/step - loss: 52.5346 - val_loss: 39.2721\n",
            "Epoch 107/200\n",
            "24/24 [==============================] - 0s 2ms/step - loss: 52.6341 - val_loss: 35.7788\n",
            "Epoch 108/200\n",
            "24/24 [==============================] - 0s 2ms/step - loss: 62.3786 - val_loss: 43.9820\n",
            "Epoch 109/200\n",
            "24/24 [==============================] - 0s 2ms/step - loss: 65.6768 - val_loss: 60.5006\n",
            "Epoch 110/200\n",
            "24/24 [==============================] - 0s 2ms/step - loss: 61.4090 - val_loss: 51.7958\n",
            "Epoch 111/200\n",
            "24/24 [==============================] - 0s 2ms/step - loss: 61.8396 - val_loss: 44.0503\n",
            "Epoch 112/200\n",
            "24/24 [==============================] - 0s 2ms/step - loss: 56.6079 - val_loss: 35.7862\n",
            "Epoch 113/200\n",
            "24/24 [==============================] - 0s 2ms/step - loss: 53.4664 - val_loss: 61.3686\n",
            "Epoch 114/200\n",
            "24/24 [==============================] - 0s 2ms/step - loss: 60.8279 - val_loss: 37.5859\n",
            "Epoch 115/200\n",
            "24/24 [==============================] - 0s 2ms/step - loss: 52.6915 - val_loss: 53.6459\n",
            "Epoch 116/200\n",
            "24/24 [==============================] - 0s 2ms/step - loss: 58.3425 - val_loss: 36.5632\n",
            "Epoch 117/200\n",
            "24/24 [==============================] - 0s 2ms/step - loss: 53.8752 - val_loss: 110.6870\n",
            "Epoch 118/200\n",
            "24/24 [==============================] - 0s 2ms/step - loss: 58.2941 - val_loss: 41.6612\n",
            "Epoch 119/200\n",
            "24/24 [==============================] - 0s 2ms/step - loss: 60.9312 - val_loss: 53.5040\n",
            "Epoch 120/200\n",
            "24/24 [==============================] - 0s 2ms/step - loss: 51.9142 - val_loss: 44.1754\n",
            "Epoch 121/200\n",
            "24/24 [==============================] - 0s 2ms/step - loss: 55.1530 - val_loss: 32.4781\n",
            "Epoch 122/200\n",
            "24/24 [==============================] - 0s 2ms/step - loss: 58.5581 - val_loss: 64.7584\n",
            "Epoch 123/200\n",
            "24/24 [==============================] - 0s 2ms/step - loss: 58.8606 - val_loss: 95.9997\n",
            "Epoch 124/200\n",
            "24/24 [==============================] - 0s 2ms/step - loss: 58.0223 - val_loss: 41.4994\n",
            "Epoch 125/200\n",
            "24/24 [==============================] - 0s 2ms/step - loss: 60.7519 - val_loss: 43.1127\n",
            "Epoch 126/200\n",
            "24/24 [==============================] - 0s 2ms/step - loss: 62.5977 - val_loss: 46.8507\n",
            "Epoch 127/200\n",
            "24/24 [==============================] - 0s 2ms/step - loss: 56.0033 - val_loss: 51.0603\n",
            "Epoch 128/200\n",
            "24/24 [==============================] - 0s 2ms/step - loss: 60.8951 - val_loss: 31.3989\n",
            "Epoch 129/200\n",
            "24/24 [==============================] - 0s 2ms/step - loss: 58.8293 - val_loss: 43.6017\n",
            "Epoch 130/200\n",
            "24/24 [==============================] - 0s 2ms/step - loss: 55.5071 - val_loss: 34.7468\n",
            "Epoch 131/200\n",
            "24/24 [==============================] - 0s 2ms/step - loss: 61.1206 - val_loss: 50.3477\n",
            "Epoch 132/200\n",
            "24/24 [==============================] - 0s 2ms/step - loss: 62.1908 - val_loss: 32.9908\n",
            "Epoch 133/200\n",
            "24/24 [==============================] - 0s 3ms/step - loss: 61.6841 - val_loss: 30.5444\n",
            "Epoch 134/200\n",
            "24/24 [==============================] - 0s 3ms/step - loss: 58.7541 - val_loss: 35.0902\n",
            "Epoch 135/200\n",
            "24/24 [==============================] - 0s 2ms/step - loss: 51.4662 - val_loss: 31.2203\n",
            "Epoch 136/200\n",
            "24/24 [==============================] - 0s 2ms/step - loss: 57.1263 - val_loss: 51.0055\n",
            "Epoch 137/200\n",
            "24/24 [==============================] - 0s 2ms/step - loss: 54.6408 - val_loss: 73.6233\n",
            "Epoch 138/200\n",
            "24/24 [==============================] - 0s 2ms/step - loss: 59.9309 - val_loss: 70.8471\n",
            "Epoch 139/200\n",
            "24/24 [==============================] - 0s 2ms/step - loss: 55.2583 - val_loss: 35.4626\n",
            "Epoch 140/200\n",
            "24/24 [==============================] - 0s 2ms/step - loss: 53.9796 - val_loss: 50.1533\n",
            "Epoch 141/200\n",
            "24/24 [==============================] - 0s 2ms/step - loss: 52.5260 - val_loss: 42.6186\n",
            "Epoch 142/200\n",
            "24/24 [==============================] - 0s 2ms/step - loss: 59.6629 - val_loss: 50.6667\n",
            "Epoch 143/200\n",
            "24/24 [==============================] - 0s 2ms/step - loss: 58.8105 - val_loss: 37.5162\n",
            "Epoch 144/200\n",
            "24/24 [==============================] - 0s 2ms/step - loss: 55.1041 - val_loss: 35.0514\n",
            "Epoch 145/200\n",
            "24/24 [==============================] - 0s 2ms/step - loss: 59.0375 - val_loss: 68.3218\n",
            "Epoch 146/200\n",
            "24/24 [==============================] - 0s 2ms/step - loss: 52.1638 - val_loss: 32.0503\n",
            "Epoch 147/200\n",
            "24/24 [==============================] - 0s 2ms/step - loss: 53.5644 - val_loss: 87.4358\n",
            "Epoch 148/200\n",
            "24/24 [==============================] - 0s 2ms/step - loss: 54.8370 - val_loss: 84.8121\n",
            "Epoch 149/200\n",
            "24/24 [==============================] - 0s 2ms/step - loss: 55.4753 - val_loss: 30.6596\n",
            "Epoch 150/200\n",
            "24/24 [==============================] - 0s 2ms/step - loss: 57.7468 - val_loss: 33.7180\n",
            "Epoch 151/200\n",
            "24/24 [==============================] - 0s 2ms/step - loss: 53.4429 - val_loss: 33.3037\n",
            "Epoch 152/200\n",
            "24/24 [==============================] - 0s 2ms/step - loss: 55.3009 - val_loss: 38.1070\n",
            "Epoch 153/200\n",
            "24/24 [==============================] - 0s 2ms/step - loss: 56.0417 - val_loss: 33.2609\n",
            "Epoch 154/200\n",
            "24/24 [==============================] - 0s 2ms/step - loss: 53.9575 - val_loss: 33.1514\n",
            "Epoch 155/200\n",
            "24/24 [==============================] - 0s 2ms/step - loss: 55.7635 - val_loss: 34.3644\n",
            "Epoch 156/200\n",
            "24/24 [==============================] - 0s 2ms/step - loss: 58.6500 - val_loss: 47.8043\n",
            "Epoch 157/200\n",
            "24/24 [==============================] - 0s 2ms/step - loss: 53.3994 - val_loss: 30.4055\n",
            "Epoch 158/200\n",
            "24/24 [==============================] - 0s 2ms/step - loss: 55.2691 - val_loss: 34.1559\n",
            "Epoch 159/200\n",
            "24/24 [==============================] - 0s 2ms/step - loss: 52.3603 - val_loss: 60.3085\n",
            "Epoch 160/200\n",
            "24/24 [==============================] - 0s 2ms/step - loss: 56.0087 - val_loss: 36.3643\n",
            "Epoch 161/200\n",
            "24/24 [==============================] - 0s 2ms/step - loss: 53.8188 - val_loss: 36.9461\n",
            "Epoch 162/200\n",
            "24/24 [==============================] - 0s 2ms/step - loss: 50.8422 - val_loss: 32.2042\n",
            "Epoch 163/200\n",
            "24/24 [==============================] - 0s 2ms/step - loss: 50.6154 - val_loss: 37.4260\n",
            "Epoch 164/200\n",
            "24/24 [==============================] - 0s 2ms/step - loss: 55.3933 - val_loss: 30.7991\n",
            "Epoch 165/200\n",
            "24/24 [==============================] - 0s 2ms/step - loss: 51.6881 - val_loss: 74.4686\n",
            "Epoch 166/200\n",
            "24/24 [==============================] - 0s 2ms/step - loss: 61.1351 - val_loss: 34.5567\n",
            "Epoch 167/200\n",
            "24/24 [==============================] - 0s 2ms/step - loss: 53.5886 - val_loss: 30.7895\n",
            "Epoch 168/200\n",
            "24/24 [==============================] - 0s 2ms/step - loss: 53.8574 - val_loss: 109.7285\n",
            "Epoch 169/200\n",
            "24/24 [==============================] - 0s 2ms/step - loss: 58.9793 - val_loss: 46.4199\n",
            "Epoch 170/200\n",
            "24/24 [==============================] - 0s 2ms/step - loss: 59.8764 - val_loss: 35.2724\n",
            "Epoch 171/200\n",
            "24/24 [==============================] - 0s 2ms/step - loss: 49.1007 - val_loss: 31.9308\n",
            "Epoch 172/200\n",
            "24/24 [==============================] - 0s 2ms/step - loss: 56.7739 - val_loss: 33.1854\n",
            "Epoch 173/200\n",
            "24/24 [==============================] - 0s 2ms/step - loss: 55.7820 - val_loss: 34.3931\n",
            "Epoch 174/200\n",
            "24/24 [==============================] - 0s 2ms/step - loss: 55.0141 - val_loss: 92.7021\n",
            "Epoch 175/200\n",
            "24/24 [==============================] - 0s 2ms/step - loss: 56.6151 - val_loss: 51.8631\n",
            "Epoch 176/200\n",
            "24/24 [==============================] - 0s 2ms/step - loss: 58.2041 - val_loss: 33.8352\n",
            "Epoch 177/200\n",
            "24/24 [==============================] - 0s 2ms/step - loss: 58.0665 - val_loss: 118.8627\n",
            "Epoch 178/200\n",
            "24/24 [==============================] - 0s 2ms/step - loss: 53.5355 - val_loss: 69.7043\n",
            "Epoch 179/200\n",
            "24/24 [==============================] - 0s 2ms/step - loss: 58.1681 - val_loss: 32.4626\n",
            "Epoch 180/200\n",
            "24/24 [==============================] - 0s 2ms/step - loss: 52.0968 - val_loss: 39.2551\n",
            "Epoch 181/200\n",
            "24/24 [==============================] - 0s 2ms/step - loss: 50.3424 - val_loss: 147.8129\n",
            "Epoch 182/200\n",
            "24/24 [==============================] - 0s 2ms/step - loss: 57.2728 - val_loss: 35.1463\n",
            "Epoch 183/200\n",
            "24/24 [==============================] - 0s 2ms/step - loss: 51.1767 - val_loss: 62.3208\n",
            "Epoch 184/200\n",
            "24/24 [==============================] - 0s 2ms/step - loss: 59.3581 - val_loss: 55.4110\n",
            "Epoch 185/200\n",
            "24/24 [==============================] - 0s 2ms/step - loss: 52.6009 - val_loss: 33.4664\n",
            "Epoch 186/200\n",
            "24/24 [==============================] - 0s 2ms/step - loss: 53.6497 - val_loss: 35.2856\n",
            "Epoch 187/200\n",
            "24/24 [==============================] - 0s 3ms/step - loss: 49.6202 - val_loss: 34.6731\n",
            "Epoch 188/200\n",
            "24/24 [==============================] - 0s 2ms/step - loss: 48.7227 - val_loss: 49.7849\n",
            "Epoch 189/200\n",
            "24/24 [==============================] - 0s 2ms/step - loss: 57.4460 - val_loss: 32.1494\n",
            "Epoch 190/200\n",
            "24/24 [==============================] - 0s 2ms/step - loss: 58.1157 - val_loss: 30.5153\n",
            "Epoch 191/200\n",
            "24/24 [==============================] - 0s 2ms/step - loss: 55.2453 - val_loss: 48.8079\n",
            "Epoch 192/200\n",
            "24/24 [==============================] - 0s 2ms/step - loss: 50.4960 - val_loss: 101.4769\n",
            "Epoch 193/200\n",
            "24/24 [==============================] - 0s 2ms/step - loss: 58.4774 - val_loss: 35.5946\n",
            "Epoch 194/200\n",
            "24/24 [==============================] - 0s 2ms/step - loss: 53.3900 - val_loss: 37.5422\n",
            "Epoch 195/200\n",
            "24/24 [==============================] - 0s 2ms/step - loss: 56.5708 - val_loss: 35.1196\n",
            "Epoch 196/200\n",
            "24/24 [==============================] - 0s 2ms/step - loss: 53.2859 - val_loss: 38.6299\n",
            "Epoch 197/200\n",
            "24/24 [==============================] - 0s 2ms/step - loss: 54.5405 - val_loss: 139.5907\n",
            "Epoch 198/200\n",
            "24/24 [==============================] - 0s 2ms/step - loss: 57.1655 - val_loss: 32.1459\n",
            "Epoch 199/200\n",
            "24/24 [==============================] - 0s 2ms/step - loss: 52.9117 - val_loss: 35.0318\n",
            "Epoch 200/200\n",
            "24/24 [==============================] - 0s 2ms/step - loss: 50.0548 - val_loss: 50.2293\n"
          ],
          "name": "stdout"
        },
        {
          "output_type": "display_data",
          "data": {
            "image/png": "[encoded data removed]",
            "text/plain": [
              "<Figure size 432x288 with 1 Axes>"
            ]
          },
          "metadata": {
            "tags": [],
            "needs_background": "light"
          }
        }
      ]
    },
    {
      "cell_type": "markdown",
      "metadata": {
        "id": "84vwZQaYwQS5"
      },
      "source": [
        "### 1.g Extreme Learning Machine\n",
        "\n",
        "(2 pts) Otra aproximación para obtener modelos grandes que no sobreajustan es la implementada por _ELM_. Explique en qué consiste la idea de _ELM_ y porqué esto podría evitar sobreajuste a pesar de utilizar modelos con gran número de parámetros. \n",
        "\n",
        "Entrene una _ELM_ de una capa fija y una capa oculta, la primera con un número relativamente grande y la segunda con un número relativamente pequeño. Puede utilizar los valores propuestos en el código u otros que le parezcan convenientes. \n",
        "\n",
        "Comente sobre el número total de parámetros y el número de parametros entrenables con respecto a los modelos anteriores. ¿Cómo se desempeña la red? ¿El número elevado de parámetros totales implica necesariamente _overfitting_?"
      ]
    },
    {
      "cell_type": "code",
      "metadata": {
        "id": "qmJONKQnwQS5"
      },
      "source": [
        "# . . . \n",
        "ANN = Sequential()\n",
        "ANN.add(\n",
        "    Dense(units=5000,\n",
        "          activation='relu',\n",
        "          input_dim=8\n",
        "        )\n",
        ")\n",
        "\n",
        "ANN.add(\n",
        "    Dense(units=32, \n",
        "          activation='relu'\n",
        "        )\n",
        ")\n",
        "\n",
        "ANN.add(Dense(1))\n",
        "\n",
        "ANN.layers[0].trainable = False\n",
        "\n",
        "ANN.compile(\n",
        "    optimizer=SGD(learning_rate = 0.002),\n",
        "    loss='mse')\n",
        "# . . . "
      ],
      "execution_count": 47,
      "outputs": []
    },
    {
      "cell_type": "code",
      "metadata": {
        "colab": {
          "base_uri": "https://localhost:8080/"
        },
        "id": "xpOusJGQObXn",
        "outputId": "8bf623fb-60ca-4a82-b8b8-bab469377554"
      },
      "source": [
        "ANN.fit(x_tr, y_train, epochs=0)\n",
        "ANN.summary()"
      ],
      "execution_count": 48,
      "outputs": [
        {
          "output_type": "stream",
          "text": [
            "Model: \"sequential_24\"\n",
            "_________________________________________________________________\n",
            "Layer (type)                 Output Shape              Param #   \n",
            "=================================================================\n",
            "dense_48 (Dense)             (None, 5000)              45000     \n",
            "_________________________________________________________________\n",
            "dense_49 (Dense)             (None, 32)                160032    \n",
            "_________________________________________________________________\n",
            "dense_50 (Dense)             (None, 1)                 33        \n",
            "=================================================================\n",
            "Total params: 205,065\n",
            "Trainable params: 160,065\n",
            "Non-trainable params: 45,000\n",
            "_________________________________________________________________\n"
          ],
          "name": "stdout"
        }
      ]
    },
    {
      "cell_type": "markdown",
      "metadata": {
        "id": "PbHf7cvHwQS5"
      },
      "source": [
        "### 1.h Learning Rate Decay\n",
        "(3 pts) Ahora entrenaremos un modelo manejando manualmente el _learn rate_. Para esto utilizaremos el _callback_ `LearningRateScheduler`. Este _callback_ nos permitirá implementar una función que maneje el _learn rate_ de nuestro modelo. \n",
        "\n",
        "Escriba una función que reciba la epoca actual y retorne un _learn rate_ lr. El lr inicial debe ser igual o mayor a alguno que haya dado buenos resultados en las preguntas anteriores. La función debe dividir por 2 el lr cada 10 _epochs_. Además ponga como restricción que el lr no debe ser menor a $5\\times 10^{-5}$, es decir si el valor obtenido es menor a  $5\\times 10^{-5}$, la función retorna  $5\\times 10^{-5}$.\n",
        "\n",
        "Entrene su red preferida de las preguntas anteriores con esta modificación, grafique los errores a lo largo del entrenamiento y comente. Según lo visto en el ramo, ¿por qué podría ser util disminuir el _learn rate_ a medida se avanza en el aprendizaje de la red?"
      ]
    },
    {
      "cell_type": "code",
      "metadata": {
        "id": "FAas0GI0wQS5",
        "colab": {
          "base_uri": "https://localhost:8080/",
          "height": 975
        },
        "outputId": "0045a631-eb33-43fb-e210-50d3129c1cee"
      },
      "source": [
        "from keras.callbacks import LearningRateScheduler\n",
        "import math\n",
        "\n",
        "def step_decay(epoch):\n",
        "  initial_lrate = 0.002\n",
        "  drop = 0.5\n",
        "  epochs_drop = 10.0\n",
        "  lr = initial_lrate * math.pow(drop, math.floor((1+epoch)/epochs_drop))\n",
        "\n",
        "  if lr > (5 * math.pow(10, -5)):\n",
        "    return lr\n",
        "  else:\n",
        "    lr = 5 * math.pow(10, -5)\n",
        "    return lr\n",
        "\n",
        "schedule = LearningRateScheduler(step_decay)\n",
        "\n",
        "# model. # . . . \n",
        "ANN = Sequential()\n",
        "ANN.add(\n",
        "    Dense(units=256,\n",
        "          activation='relu',\n",
        "          input_dim=8\n",
        "        )\n",
        ")\n",
        "\n",
        "ANN.add(\n",
        "    Dense(units=1\n",
        "          )\n",
        ")\n",
        "\n",
        "ANN.compile(\n",
        "    optimizer=SGD(learning_rate = 0.002),\n",
        "    loss='mse')\n",
        "\n",
        "history = ANN.fit(x_tr, y_train, epochs=20, validation_data=(x_val,y_val), callbacks=[schedule])\n",
        "\n",
        "plt.plot(history.history['loss'])\n",
        "plt.plot(history.history['val_loss'])\n",
        "plt.title('Perdidas del modelo')\n",
        "plt.ylabel('perdidas')\n",
        "plt.xlabel('epocas')\n",
        "plt.legend(['Entrenamiento', 'test'], loc='upper left')\n",
        "plt.show()"
      ],
      "execution_count": 50,
      "outputs": [
        {
          "output_type": "stream",
          "text": [
            "Epoch 1/20\n",
            "24/24 [==============================] - 0s 5ms/step - loss: 876.6251 - val_loss: 156.5644\n",
            "Epoch 2/20\n",
            "24/24 [==============================] - 0s 2ms/step - loss: 153.9709 - val_loss: 130.4206\n",
            "Epoch 3/20\n",
            "24/24 [==============================] - 0s 2ms/step - loss: 130.1732 - val_loss: 129.0718\n",
            "Epoch 4/20\n",
            "24/24 [==============================] - 0s 2ms/step - loss: 127.1062 - val_loss: 108.7168\n",
            "Epoch 5/20\n",
            "24/24 [==============================] - 0s 2ms/step - loss: 119.2870 - val_loss: 114.5179\n",
            "Epoch 6/20\n",
            "24/24 [==============================] - 0s 2ms/step - loss: 118.3887 - val_loss: 113.0534\n",
            "Epoch 7/20\n",
            "24/24 [==============================] - 0s 2ms/step - loss: 114.2506 - val_loss: 117.7376\n",
            "Epoch 8/20\n",
            "24/24 [==============================] - 0s 2ms/step - loss: 112.2136 - val_loss: 104.4356\n",
            "Epoch 9/20\n",
            "24/24 [==============================] - 0s 2ms/step - loss: 110.2422 - val_loss: 103.4257\n",
            "Epoch 10/20\n",
            "24/24 [==============================] - 0s 2ms/step - loss: 107.1469 - val_loss: 102.1281\n",
            "Epoch 11/20\n",
            "24/24 [==============================] - 0s 2ms/step - loss: 105.7071 - val_loss: 100.8113\n",
            "Epoch 12/20\n",
            "24/24 [==============================] - 0s 2ms/step - loss: 104.5190 - val_loss: 98.7483\n",
            "Epoch 13/20\n",
            "24/24 [==============================] - 0s 2ms/step - loss: 103.8275 - val_loss: 98.0082\n",
            "Epoch 14/20\n",
            "24/24 [==============================] - 0s 2ms/step - loss: 104.2577 - val_loss: 95.6938\n",
            "Epoch 15/20\n",
            "24/24 [==============================] - 0s 2ms/step - loss: 101.7518 - val_loss: 94.2679\n",
            "Epoch 16/20\n",
            "24/24 [==============================] - 0s 2ms/step - loss: 99.3018 - val_loss: 92.7597\n",
            "Epoch 17/20\n",
            "24/24 [==============================] - 0s 2ms/step - loss: 99.2612 - val_loss: 90.2889\n",
            "Epoch 18/20\n",
            "24/24 [==============================] - 0s 2ms/step - loss: 97.6968 - val_loss: 91.1077\n",
            "Epoch 19/20\n",
            "24/24 [==============================] - 0s 2ms/step - loss: 96.0149 - val_loss: 88.4751\n",
            "Epoch 20/20\n",
            "24/24 [==============================] - 0s 2ms/step - loss: 93.0178 - val_loss: 86.4960\n"
          ],
          "name": "stdout"
        },
        {
          "output_type": "display_data",
          "data": {
            "image/png": "[encoded data removed]",
            "text/plain": [
              "<Figure size 432x288 with 1 Axes>"
            ]
          },
          "metadata": {
            "tags": [],
            "needs_background": "light"
          }
        }
      ]
    },
    {
      "cell_type": "markdown",
      "metadata": {
        "id": "zTRHBBBXwQS5"
      },
      "source": [
        "### 1.i Vanishing Gradient\n",
        "\n",
        "(4 pts) El fenómeno del _vanishing gradient_ es el rápido decaimiento del paso de _Backpropagation_ al avanzar por las capas. A lo largo de la tarea solo hemos entrenado capas con una red oculta, de igual forma que la comunidad cientifica realizo por largo tiempo, por el problema del _vanishing gradient_ y por el teorema de aproximación universal que resumidamente demuestra que una red de una sola capa puede aproximar una amplia familia de funciones. \n",
        "\n",
        "En esta pregunta entrenaremos una red neuronal profunda sin implementar ninguno de los dispositivos que permiten hoy en día sortear el problema del _vanishing gradient_, para ponerlo en evidencia. Para esto construya una red con 6 capas ocultas, con la siguiente lista de numero de neuronas: $256$ $256$ $128$ $128$ $32$ y $32$, o con valores similares. De tal manera obtendrá un valor de parámetros relativamente comparable a los valores utilizados en las primeras redes. \n",
        "\n",
        "Grafique un histograma con los pesos de las 6 capas densas de la red sin entrenar, entrenela a completitud con el método que estime conveniente y luego grafique nuevamente los histogramas para las 6 capas. Comente lo que observa. \n",
        "\n",
        "Luego, pruebe cambiar la inizialización de los pesos de la capa densa, puede revisar la documentación de keras para ver las opciones existentes a parte de `glorot_uniform` por defecto. ¿Se logra solucionar el problema? \n",
        "\n",
        "Por último, pruebe aumentar la tasa de aprendizaje para ver si logra hacer que el paso de _backpropagation_ alcance las capas que anteriormente no se entrenaban. ¿Qué observa en este caso? "
      ]
    },
    {
      "cell_type": "code",
      "metadata": {
        "id": "bHuLEnqowQS5"
      },
      "source": [
        "ANN = Sequential()\n",
        "\n",
        "# Hidden Layer\n",
        "ANN.add(Dense(units = 256, activation = 'relu',input_dim=8))\n",
        "ANN.add(Dense(units = 256, activation = 'relu',))\n",
        "ANN.add(Dense(units = 128, activation = 'relu',))\n",
        "ANN.add(Dense(units = 128, activation = 'relu',))\n",
        "ANN.add(Dense(units = 32, activation = 'relu',))\n",
        "ANN.add(Dense(units = 32, activation = 'relu',))\n",
        "# Output Layer\n",
        "ANN.add(Dense(units = 1))\n",
        "ANN.compile(optimizer=SGD(learning_rate = 0.00005),loss='mse')"
      ],
      "execution_count": 191,
      "outputs": []
    },
    {
      "cell_type": "code",
      "metadata": {
        "id": "RkwUNe3MWWlD"
      },
      "source": [
        "def pesos(text):\r\n",
        "  for i in range(len(ANN.layers)):\r\n",
        "    layer_kernel_weights = ANN.get_layer(index=i).get_weights()[0]\r\n",
        "    layer_bias_weight = ANN.get_layer(index=i).get_weights()[1]\r\n",
        "\r\n",
        "  plt.title(text)\r\n",
        "  plt.hist(layer_kernel_weights, bins = 10, alpha=1, edgecolor = 'black',  linewidth=1)\r\n",
        "  plt.show()"
      ],
      "execution_count": 192,
      "outputs": []
    },
    {
      "cell_type": "code",
      "metadata": {
        "colab": {
          "base_uri": "https://localhost:8080/",
          "height": 281
        },
        "id": "ErCatkINWclz",
        "outputId": "453e3695-bd88-4a1b-af98-6376f494ed03"
      },
      "source": [
        "pesos('SIN ENTRENAR')"
      ],
      "execution_count": 193,
      "outputs": [
        {
          "output_type": "display_data",
          "data": {
            "image/png": "[encoded data removed]",
            "text/plain": [
              "<Figure size 432x288 with 1 Axes>"
            ]
          },
          "metadata": {
            "tags": [],
            "needs_background": "light"
          }
        }
      ]
    },
    {
      "cell_type": "code",
      "metadata": {
        "colab": {
          "base_uri": "https://localhost:8080/"
        },
        "id": "Wu81ECYoQyiQ",
        "outputId": "99605191-cca0-4feb-d098-ba311820a86a"
      },
      "source": [
        "history = ANN.fit(x_tr, y_train, epochs=20, validation_data=(x_val,y_val))"
      ],
      "execution_count": 194,
      "outputs": [
        {
          "output_type": "stream",
          "text": [
            "Epoch 1/20\n",
            "24/24 [==============================] - 0s 8ms/step - loss: 1564.7548 - val_loss: 1568.3767\n",
            "Epoch 2/20\n",
            "24/24 [==============================] - 0s 3ms/step - loss: 1546.4164 - val_loss: 1550.1984\n",
            "Epoch 3/20\n",
            "24/24 [==============================] - 0s 3ms/step - loss: 1527.0023 - val_loss: 1527.3125\n",
            "Epoch 4/20\n",
            "24/24 [==============================] - 0s 3ms/step - loss: 1500.5083 - val_loss: 1493.0697\n",
            "Epoch 5/20\n",
            "24/24 [==============================] - 0s 3ms/step - loss: 1455.8485 - val_loss: 1425.4220\n",
            "Epoch 6/20\n",
            "24/24 [==============================] - 0s 4ms/step - loss: 1345.1022 - val_loss: 1207.2026\n",
            "Epoch 7/20\n",
            "24/24 [==============================] - 0s 4ms/step - loss: 834.5618 - val_loss: 267.1009\n",
            "Epoch 8/20\n",
            "24/24 [==============================] - 0s 3ms/step - loss: 227.1824 - val_loss: 184.7032\n",
            "Epoch 9/20\n",
            "24/24 [==============================] - 0s 3ms/step - loss: 196.5905 - val_loss: 196.3597\n",
            "Epoch 10/20\n",
            "24/24 [==============================] - 0s 3ms/step - loss: 186.7757 - val_loss: 158.1632\n",
            "Epoch 11/20\n",
            "24/24 [==============================] - 0s 4ms/step - loss: 170.7050 - val_loss: 155.3761\n",
            "Epoch 12/20\n",
            "24/24 [==============================] - 0s 3ms/step - loss: 163.7394 - val_loss: 146.5589\n",
            "Epoch 13/20\n",
            "24/24 [==============================] - 0s 3ms/step - loss: 155.4417 - val_loss: 139.6900\n",
            "Epoch 14/20\n",
            "24/24 [==============================] - 0s 3ms/step - loss: 147.6031 - val_loss: 133.3817\n",
            "Epoch 15/20\n",
            "24/24 [==============================] - 0s 3ms/step - loss: 141.5168 - val_loss: 132.0152\n",
            "Epoch 16/20\n",
            "24/24 [==============================] - 0s 4ms/step - loss: 135.3660 - val_loss: 125.5320\n",
            "Epoch 17/20\n",
            "24/24 [==============================] - 0s 3ms/step - loss: 129.9838 - val_loss: 118.9297\n",
            "Epoch 18/20\n",
            "24/24 [==============================] - 0s 3ms/step - loss: 124.9241 - val_loss: 118.4056\n",
            "Epoch 19/20\n",
            "24/24 [==============================] - 0s 3ms/step - loss: 119.5132 - val_loss: 113.2371\n",
            "Epoch 20/20\n",
            "24/24 [==============================] - 0s 3ms/step - loss: 113.3329 - val_loss: 121.3749\n"
          ],
          "name": "stdout"
        }
      ]
    },
    {
      "cell_type": "code",
      "metadata": {
        "colab": {
          "base_uri": "https://localhost:8080/",
          "height": 281
        },
        "id": "1K051bzKQwlg",
        "outputId": "1dfc25fc-d321-4050-e0bf-89d7052e4702"
      },
      "source": [
        "pesos('ENTRENADOS')"
      ],
      "execution_count": 195,
      "outputs": [
        {
          "output_type": "display_data",
          "data": {
            "image/png": "[encoded data removed]",
            "text/plain": [
              "<Figure size 432x288 with 1 Axes>"
            ]
          },
          "metadata": {
            "tags": [],
            "needs_background": "light"
          }
        }
      ]
    },
    {
      "cell_type": "code",
      "metadata": {
        "id": "By3E2NRFVPzR"
      },
      "source": [
        "from keras.initializers import glorot_uniform\r\n",
        "ANN = Sequential()\r\n",
        "\r\n",
        "initializer = glorot_uniform()\r\n",
        "# Hidden Layer\r\n",
        "ANN.add(Dense(units = 256, activation = 'relu',input_dim=8, kernel_initializer=initializer))\r\n",
        "ANN.add(Dense(units = 256, activation = 'relu',))\r\n",
        "ANN.add(Dense(units = 128, activation = 'relu',))\r\n",
        "ANN.add(Dense(units = 128, activation = 'relu',))\r\n",
        "ANN.add(Dense(units = 32, activation = 'relu',))\r\n",
        "ANN.add(Dense(units = 32, activation = 'relu',))\r\n",
        "# Output Layer\r\n",
        "ANN.add(Dense(units = 1))\r\n",
        "ANN.compile(optimizer=SGD(learning_rate = 0.0001),loss='mse')"
      ],
      "execution_count": 196,
      "outputs": []
    },
    {
      "cell_type": "code",
      "metadata": {
        "colab": {
          "base_uri": "https://localhost:8080/",
          "height": 281
        },
        "id": "ltTlPHeHW29g",
        "outputId": "53d16ec9-d17a-4c03-b4fa-0b81675e08ab"
      },
      "source": [
        "pesos('SIN ENTRENAR')"
      ],
      "execution_count": 197,
      "outputs": [
        {
          "output_type": "display_data",
          "data": {
            "image/png": "[encoded data removed]",
            "text/plain": [
              "<Figure size 432x288 with 1 Axes>"
            ]
          },
          "metadata": {
            "tags": [],
            "needs_background": "light"
          }
        }
      ]
    },
    {
      "cell_type": "code",
      "metadata": {
        "colab": {
          "base_uri": "https://localhost:8080/"
        },
        "id": "57iuMbPyW794",
        "outputId": "ce943d85-a3a9-47fc-ca98-c7adb8b8dc43"
      },
      "source": [
        "history = ANN.fit(x_tr, y_train, epochs=20, validation_data=(x_val,y_val))"
      ],
      "execution_count": 198,
      "outputs": [
        {
          "output_type": "stream",
          "text": [
            "Epoch 1/20\n",
            "24/24 [==============================] - 0s 7ms/step - loss: 1563.1300 - val_loss: 1562.1514\n",
            "Epoch 2/20\n",
            "24/24 [==============================] - 0s 3ms/step - loss: 1533.1365 - val_loss: 1527.7970\n",
            "Epoch 3/20\n",
            "24/24 [==============================] - 0s 3ms/step - loss: 1488.2769 - val_loss: 1458.7695\n",
            "Epoch 4/20\n",
            "24/24 [==============================] - 0s 3ms/step - loss: 1317.6561 - val_loss: 879.6107\n",
            "Epoch 5/20\n",
            "24/24 [==============================] - 0s 3ms/step - loss: 329.1838 - val_loss: 195.4535\n",
            "Epoch 6/20\n",
            "24/24 [==============================] - 0s 3ms/step - loss: 193.2125 - val_loss: 163.3926\n",
            "Epoch 7/20\n",
            "24/24 [==============================] - 0s 3ms/step - loss: 172.2008 - val_loss: 150.1010\n",
            "Epoch 8/20\n",
            "24/24 [==============================] - 0s 3ms/step - loss: 152.1728 - val_loss: 138.0159\n",
            "Epoch 9/20\n",
            "24/24 [==============================] - 0s 3ms/step - loss: 137.6567 - val_loss: 128.3350\n",
            "Epoch 10/20\n",
            "24/24 [==============================] - 0s 3ms/step - loss: 120.8331 - val_loss: 123.5747\n",
            "Epoch 11/20\n",
            "24/24 [==============================] - 0s 4ms/step - loss: 112.9481 - val_loss: 129.0427\n",
            "Epoch 12/20\n",
            "24/24 [==============================] - 0s 4ms/step - loss: 100.9830 - val_loss: 102.4460\n",
            "Epoch 13/20\n",
            "24/24 [==============================] - 0s 3ms/step - loss: 91.7930 - val_loss: 81.8617\n",
            "Epoch 14/20\n",
            "24/24 [==============================] - 0s 3ms/step - loss: 82.7547 - val_loss: 74.5408\n",
            "Epoch 15/20\n",
            "24/24 [==============================] - 0s 3ms/step - loss: 75.6576 - val_loss: 68.4030\n",
            "Epoch 16/20\n",
            "24/24 [==============================] - 0s 3ms/step - loss: 66.8646 - val_loss: 62.9339\n",
            "Epoch 17/20\n",
            "24/24 [==============================] - 0s 3ms/step - loss: 62.5882 - val_loss: 63.5527\n",
            "Epoch 18/20\n",
            "24/24 [==============================] - 0s 3ms/step - loss: 58.9192 - val_loss: 82.2374\n",
            "Epoch 19/20\n",
            "24/24 [==============================] - 0s 3ms/step - loss: 55.1032 - val_loss: 53.5498\n",
            "Epoch 20/20\n",
            "24/24 [==============================] - 0s 3ms/step - loss: 51.0180 - val_loss: 48.5535\n"
          ],
          "name": "stdout"
        }
      ]
    },
    {
      "cell_type": "code",
      "metadata": {
        "colab": {
          "base_uri": "https://localhost:8080/",
          "height": 281
        },
        "id": "oG30N3C3W_5-",
        "outputId": "03eb7d9b-02c7-4d4c-9223-42637d76a487"
      },
      "source": [
        "pesos('ENTRENADOS')"
      ],
      "execution_count": 199,
      "outputs": [
        {
          "output_type": "display_data",
          "data": {
            "image/png": "[encoded data removed]",
            "text/plain": [
              "<Figure size 432x288 with 1 Axes>"
            ]
          },
          "metadata": {
            "tags": [],
            "needs_background": "light"
          }
        }
      ]
    },
    {
      "cell_type": "markdown",
      "metadata": {
        "id": "mi_F0IeFwQS5"
      },
      "source": [
        "### 1.j Otros Optimizadores\n",
        "\n",
        "(3 pts) Finalmente, utilizando la estructura de red que mejor se haya desempeñado a lo largo de la tarea, entrene esta red utilizando un optimizador distinto al gradiente descendente vainilla. Pruebe al menos 2 optimizadores implementados en keras (puede utilizar Adam, AdaGrad, AdaDelta, RMSprop, entre otros) o modificar los parámetros que no hemos utilizado del gradiente descendente (momentum, momentum de Nesterov...).\n",
        "\n",
        "Note que por las inicializaciones por defecto de los pesos de las capas y la naturaleza de los datos en cuestión, puede ocurrir que para los valores defecto de algunos optimizadores la red diverga en las primeras iteraciones. Para fijar los parámeros de los optimizadores debe importarlos desde `keras.optimizers` y pasar el objeto con los parámetros deseados al método `.compile` de su modelo. En cambio si con los valores usuales basta, algunos optimizadores pueden pasarse como `string` a `.compile`.\n",
        "\n",
        "Compare como se desempeñan estos optimizadores con la versión utilizada anteriormente, considerando los tiempos de entrenamiento, la velocidad de convergencia y el desempeño final alcanzado. Apoyese de gráficos. "
      ]
    },
    {
      "cell_type": "code",
      "metadata": {
        "id": "bYyL0vuxwQS5"
      },
      "source": [
        "ANN = Sequential()\r\n",
        "\r\n",
        "# Hidden Layer\r\n",
        "ANN.add(Dense(units = 256, activation = 'relu', input_dim=8))\r\n",
        "# Output Layer\r\n",
        "ANN.add(Dense(units = 1))"
      ],
      "execution_count": 211,
      "outputs": []
    },
    {
      "cell_type": "code",
      "metadata": {
        "colab": {
          "base_uri": "https://localhost:8080/",
          "height": 975
        },
        "id": "SKqtJS5PcFgj",
        "outputId": "78ac8dfd-f401-4f5a-ac72-5ee59e9abfbc"
      },
      "source": [
        "from keras.optimizers import SGD\r\n",
        "ANN.compile(optimizer=SGD(learning_rate = 0.002), loss='mse')\r\n",
        "\r\n",
        "history = ANN.fit(x_tr, y_train, epochs=20, validation_data=(x_val,y_val), callbacks=[schedule])\r\n",
        "\r\n",
        "plt.plot(history.history['loss'])\r\n",
        "plt.plot(history.history['val_loss'])\r\n",
        "plt.title('Perdidas del modelo')\r\n",
        "plt.ylabel('perdidas')\r\n",
        "plt.xlabel('epocas')\r\n",
        "plt.legend(['Entrenamiento', 'test'], loc='upper left')\r\n",
        "plt.show()"
      ],
      "execution_count": 217,
      "outputs": [
        {
          "output_type": "stream",
          "text": [
            "Epoch 1/20\n",
            "24/24 [==============================] - 0s 5ms/step - loss: 36.3764 - val_loss: 41.8290\n",
            "Epoch 2/20\n",
            "24/24 [==============================] - 0s 2ms/step - loss: 36.3749 - val_loss: 35.1303\n",
            "Epoch 3/20\n",
            "24/24 [==============================] - 0s 2ms/step - loss: 35.6973 - val_loss: 44.6468\n",
            "Epoch 4/20\n",
            "24/24 [==============================] - 0s 2ms/step - loss: 34.9155 - val_loss: 37.2622\n",
            "Epoch 5/20\n",
            "24/24 [==============================] - 0s 2ms/step - loss: 34.1820 - val_loss: 35.4887\n",
            "Epoch 6/20\n",
            "24/24 [==============================] - 0s 2ms/step - loss: 35.3923 - val_loss: 39.0790\n",
            "Epoch 7/20\n",
            "24/24 [==============================] - 0s 2ms/step - loss: 34.8261 - val_loss: 37.1792\n",
            "Epoch 8/20\n",
            "24/24 [==============================] - 0s 2ms/step - loss: 36.0070 - val_loss: 46.1527\n",
            "Epoch 9/20\n",
            "24/24 [==============================] - 0s 2ms/step - loss: 34.4943 - val_loss: 36.1244\n",
            "Epoch 10/20\n",
            "24/24 [==============================] - 0s 2ms/step - loss: 33.2678 - val_loss: 35.5725\n",
            "Epoch 11/20\n",
            "24/24 [==============================] - 0s 2ms/step - loss: 32.5147 - val_loss: 34.9325\n",
            "Epoch 12/20\n",
            "24/24 [==============================] - 0s 2ms/step - loss: 32.0913 - val_loss: 35.1049\n",
            "Epoch 13/20\n",
            "24/24 [==============================] - 0s 2ms/step - loss: 32.8928 - val_loss: 33.4246\n",
            "Epoch 14/20\n",
            "24/24 [==============================] - 0s 2ms/step - loss: 32.3406 - val_loss: 33.5793\n",
            "Epoch 15/20\n",
            "24/24 [==============================] - 0s 2ms/step - loss: 32.0872 - val_loss: 32.4142\n",
            "Epoch 16/20\n",
            "24/24 [==============================] - 0s 2ms/step - loss: 32.2730 - val_loss: 32.7764\n",
            "Epoch 17/20\n",
            "24/24 [==============================] - 0s 2ms/step - loss: 31.5968 - val_loss: 33.3678\n",
            "Epoch 18/20\n",
            "24/24 [==============================] - 0s 2ms/step - loss: 31.8511 - val_loss: 34.3211\n",
            "Epoch 19/20\n",
            "24/24 [==============================] - 0s 2ms/step - loss: 31.4930 - val_loss: 34.7023\n",
            "Epoch 20/20\n",
            "24/24 [==============================] - 0s 2ms/step - loss: 31.2196 - val_loss: 33.3285\n"
          ],
          "name": "stdout"
        },
        {
          "output_type": "display_data",
          "data": {
            "image/png": "[encoded data removed]",
            "text/plain": [
              "<Figure size 432x288 with 1 Axes>"
            ]
          },
          "metadata": {
            "tags": [],
            "needs_background": "light"
          }
        }
      ]
    },
    {
      "cell_type": "code",
      "metadata": {
        "colab": {
          "base_uri": "https://localhost:8080/",
          "height": 975
        },
        "id": "Z6aUwbKRahNp",
        "outputId": "b6a8b597-6baf-45d3-b857-6c42975a3251"
      },
      "source": [
        "from keras.optimizers import RMSprop\r\n",
        "ANN.compile(optimizer=RMSprop(learning_rate = 0.002), loss='mse')\r\n",
        "\r\n",
        "history = ANN.fit(x_tr, y_train, epochs=20, validation_data=(x_val,y_val), callbacks=[schedule])\r\n",
        "\r\n",
        "plt.plot(history.history['loss'])\r\n",
        "plt.plot(history.history['val_loss'])\r\n",
        "plt.title('Perdidas del modelo')\r\n",
        "plt.ylabel('perdidas')\r\n",
        "plt.xlabel('epocas')\r\n",
        "plt.legend(['Entrenamiento', 'test'], loc='upper left')\r\n",
        "plt.show()"
      ],
      "execution_count": 218,
      "outputs": [
        {
          "output_type": "stream",
          "text": [
            "Epoch 1/20\n",
            "24/24 [==============================] - 0s 5ms/step - loss: 32.7168 - val_loss: 34.7745\n",
            "Epoch 2/20\n",
            "24/24 [==============================] - 0s 2ms/step - loss: 31.4486 - val_loss: 32.6098\n",
            "Epoch 3/20\n",
            "24/24 [==============================] - 0s 3ms/step - loss: 31.7854 - val_loss: 34.5725\n",
            "Epoch 4/20\n",
            "24/24 [==============================] - 0s 2ms/step - loss: 31.4957 - val_loss: 36.3172\n",
            "Epoch 5/20\n",
            "24/24 [==============================] - 0s 2ms/step - loss: 31.5849 - val_loss: 32.5645\n",
            "Epoch 6/20\n",
            "24/24 [==============================] - 0s 2ms/step - loss: 31.2302 - val_loss: 32.3530\n",
            "Epoch 7/20\n",
            "24/24 [==============================] - 0s 2ms/step - loss: 30.9611 - val_loss: 32.2036\n",
            "Epoch 8/20\n",
            "24/24 [==============================] - 0s 2ms/step - loss: 30.8279 - val_loss: 33.1376\n",
            "Epoch 9/20\n",
            "24/24 [==============================] - 0s 2ms/step - loss: 30.7391 - val_loss: 31.7204\n",
            "Epoch 10/20\n",
            "24/24 [==============================] - 0s 2ms/step - loss: 30.0183 - val_loss: 32.4994\n",
            "Epoch 11/20\n",
            "24/24 [==============================] - 0s 2ms/step - loss: 29.9473 - val_loss: 31.4210\n",
            "Epoch 12/20\n",
            "24/24 [==============================] - 0s 2ms/step - loss: 30.0030 - val_loss: 33.5945\n",
            "Epoch 13/20\n",
            "24/24 [==============================] - 0s 2ms/step - loss: 29.8795 - val_loss: 31.9645\n",
            "Epoch 14/20\n",
            "24/24 [==============================] - 0s 2ms/step - loss: 29.7387 - val_loss: 31.4507\n",
            "Epoch 15/20\n",
            "24/24 [==============================] - 0s 2ms/step - loss: 29.7370 - val_loss: 31.9226\n",
            "Epoch 16/20\n",
            "24/24 [==============================] - 0s 2ms/step - loss: 29.6692 - val_loss: 34.9131\n",
            "Epoch 17/20\n",
            "24/24 [==============================] - 0s 2ms/step - loss: 29.8002 - val_loss: 33.3510\n",
            "Epoch 18/20\n",
            "24/24 [==============================] - 0s 2ms/step - loss: 29.8192 - val_loss: 32.7945\n",
            "Epoch 19/20\n",
            "24/24 [==============================] - 0s 2ms/step - loss: 29.3748 - val_loss: 32.2164\n",
            "Epoch 20/20\n",
            "24/24 [==============================] - 0s 2ms/step - loss: 29.3884 - val_loss: 31.9247\n"
          ],
          "name": "stdout"
        },
        {
          "output_type": "display_data",
          "data": {
            "image/png": "[encoded data removed]",
            "text/plain": [
              "<Figure size 432x288 with 1 Axes>"
            ]
          },
          "metadata": {
            "tags": [],
            "needs_background": "light"
          }
        }
      ]
    },
    {
      "cell_type": "code",
      "metadata": {
        "colab": {
          "base_uri": "https://localhost:8080/",
          "height": 975
        },
        "id": "u4_X0AzWaiCk",
        "outputId": "759ff4c9-74ed-4978-da00-199b1e5a9b56"
      },
      "source": [
        "from keras.optimizers import Adam\r\n",
        "ANN.compile(optimizer=Adam(learning_rate=0.002), loss='mse')\r\n",
        "\r\n",
        "history = ANN.fit(x_tr, y_train, epochs=20, validation_data=(x_val,y_val), callbacks=[schedule])\r\n",
        "\r\n",
        "plt.plot(history.history['loss'])\r\n",
        "plt.plot(history.history['val_loss'])\r\n",
        "plt.title('Perdidas del modelo')\r\n",
        "plt.ylabel('perdidas')\r\n",
        "plt.xlabel('epocas')\r\n",
        "plt.legend(['Entrenamiento', 'test'], loc='upper left')\r\n",
        "plt.show()"
      ],
      "execution_count": 220,
      "outputs": [
        {
          "output_type": "stream",
          "text": [
            "Epoch 1/20\n",
            "24/24 [==============================] - 0s 6ms/step - loss: 28.9909 - val_loss: 30.3994\n",
            "Epoch 2/20\n",
            "24/24 [==============================] - 0s 2ms/step - loss: 28.0401 - val_loss: 31.7996\n",
            "Epoch 3/20\n",
            "24/24 [==============================] - 0s 2ms/step - loss: 27.7175 - val_loss: 30.7963\n",
            "Epoch 4/20\n",
            "24/24 [==============================] - 0s 2ms/step - loss: 27.7841 - val_loss: 31.2439\n",
            "Epoch 5/20\n",
            "24/24 [==============================] - 0s 2ms/step - loss: 28.3051 - val_loss: 30.5085\n",
            "Epoch 6/20\n",
            "24/24 [==============================] - 0s 2ms/step - loss: 27.9627 - val_loss: 30.6439\n",
            "Epoch 7/20\n",
            "24/24 [==============================] - 0s 2ms/step - loss: 27.7601 - val_loss: 30.0236\n",
            "Epoch 8/20\n",
            "24/24 [==============================] - 0s 2ms/step - loss: 27.5839 - val_loss: 30.4581\n",
            "Epoch 9/20\n",
            "24/24 [==============================] - 0s 2ms/step - loss: 27.4341 - val_loss: 30.2000\n",
            "Epoch 10/20\n",
            "24/24 [==============================] - 0s 2ms/step - loss: 26.9604 - val_loss: 29.5801\n",
            "Epoch 11/20\n",
            "24/24 [==============================] - 0s 2ms/step - loss: 27.2697 - val_loss: 30.0028\n",
            "Epoch 12/20\n",
            "24/24 [==============================] - 0s 2ms/step - loss: 26.8084 - val_loss: 29.3168\n",
            "Epoch 13/20\n",
            "24/24 [==============================] - 0s 3ms/step - loss: 26.9049 - val_loss: 29.9103\n",
            "Epoch 14/20\n",
            "24/24 [==============================] - 0s 2ms/step - loss: 26.6928 - val_loss: 30.1331\n",
            "Epoch 15/20\n",
            "24/24 [==============================] - 0s 2ms/step - loss: 26.6682 - val_loss: 29.5161\n",
            "Epoch 16/20\n",
            "24/24 [==============================] - 0s 2ms/step - loss: 26.6448 - val_loss: 29.3374\n",
            "Epoch 17/20\n",
            "24/24 [==============================] - 0s 2ms/step - loss: 26.9413 - val_loss: 29.9826\n",
            "Epoch 18/20\n",
            "24/24 [==============================] - 0s 2ms/step - loss: 26.6055 - val_loss: 30.0027\n",
            "Epoch 19/20\n",
            "24/24 [==============================] - 0s 2ms/step - loss: 26.6717 - val_loss: 29.6290\n",
            "Epoch 20/20\n",
            "24/24 [==============================] - 0s 2ms/step - loss: 26.4548 - val_loss: 29.5656\n"
          ],
          "name": "stdout"
        },
        {
          "output_type": "display_data",
          "data": {
            "image/png": "[encoded data removed]",
            "text/plain": [
              "<Figure size 432x288 with 1 Axes>"
            ]
          },
          "metadata": {
            "tags": [],
            "needs_background": "light"
          }
        }
      ]
    },
    {
      "cell_type": "markdown",
      "metadata": {
        "id": "yW76HuWewQS5"
      },
      "source": [
        "### 1.k Testing \n",
        "\n",
        "(4 pts) Finalmente, luego de entrenar todos estos modelos estamos en condiciones de probar que tan bien fue nuestro desempeño. Para esto utilice el modelo en el cual obtuvo el mejor desempeño en validación y calcule el error cuadrático medio de la predicción realizada sobre el _Test set_. Para puede utilizar el metodo `.predict` de su modelo. \n",
        "\n",
        "¿Qué tan bien se desempeñaría su modelo en un caso real en vista de lo anterior? Si su curiosidad es suficiente, puede calcular el error real de su modelo transformando nuevamente el _target_ y su predicción a la escala original (utilizando su `scaler`) y tranformando a precio aplicando exponenciación (pues Y estaba espresado en escala logaritmica)."
      ]
    },
    {
      "cell_type": "code",
      "metadata": {
        "id": "7aQJT9aIcc0n"
      },
      "source": [
        "prediccion = ANN.predict(x_test)"
      ],
      "execution_count": 225,
      "outputs": []
    },
    {
      "cell_type": "code",
      "metadata": {
        "colab": {
          "base_uri": "https://localhost:8080/"
        },
        "id": "wqyrmX5ChuBq",
        "outputId": "c33d1a80-5fea-417f-977a-0e5976cbdcee"
      },
      "source": [
        "np.argmax(prediccion)"
      ],
      "execution_count": 231,
      "outputs": [
        {
          "output_type": "execute_result",
          "data": {
            "text/plain": [
              "91"
            ]
          },
          "metadata": {
            "tags": []
          },
          "execution_count": 231
        }
      ]
    },
    {
      "cell_type": "code",
      "metadata": {
        "colab": {
          "base_uri": "https://localhost:8080/"
        },
        "id": "GKsY_BAliDtH",
        "outputId": "78632dd6-6cda-430c-e865-36f90c756736"
      },
      "source": [
        "print(prediccion[91])"
      ],
      "execution_count": 232,
      "outputs": [
        {
          "output_type": "stream",
          "text": [
            "[17141.979]\n"
          ],
          "name": "stdout"
        }
      ]
    },
    {
      "cell_type": "markdown",
      "metadata": {
        "id": "B2k3IdTJwQS5"
      },
      "source": [
        " <a id=\"segundo\"></a>\n",
        "# 2. Clasificando granos de trigo usando Aprendizaje No Supervisado\n",
        "\n",
        "En esta sección utilizaremos el dataset Seeds que contiene información de mediciones de propiedades geométricas de granos de trigo pertenecientes a tres variedades: Kama, Rosa y Canadian. Para estudiar la estructura interna del grano se utilizó una técnica de rayos X de baja energía. Para ver en detalle la descripción de la semántica asociada a los atributos de este problema, puede consultar https://archive.ics.uci.edu/ml/datasets/seeds.\n",
        "\n",
        "\n",
        "<img src=\"https://i2.wp.com/pakchinanews.pk/wp-content/uploads/2017/11/Wheat-e1511163298450.png?fit=560%2C315\" title=\"Title text\" width=\"40%\"/>"
      ]
    },
    {
      "cell_type": "markdown",
      "metadata": {
        "id": "FMl0o61pwQS5"
      },
      "source": [
        "### 2.a) Carga de Datos\n",
        "\n",
        "(1 pto) Construya un dataframe con los datos a analizar. \n",
        "\n",
        "```python\n",
        "import pandas as pd\n",
        "\n",
        "url = 'seeds_dataset.csv'\n",
        "df = pd.read_csv(url, sep=',',header=None, names=['AREA', 'PER', 'COMP', 'LEN', 'WID', 'ASYM', 'LGR','CLASS'])\n",
        "\n",
        "```\n",
        "\n",
        "Describa brevemente el dataset utilizar.\n",
        "\n",
        "```python\n",
        "df.info()\n",
        "df.describe()\n",
        "```"
      ]
    },
    {
      "cell_type": "code",
      "metadata": {
        "id": "dHPPNAgjjpdl"
      },
      "source": [
        "import pandas as pd\r\n",
        " \r\n",
        "url = '/seeds_dataset.csv'\r\n",
        "df = pd.read_csv(url, sep=',',header=None, names=['AREA', 'PER', 'COMP', 'LEN', 'WID', 'ASYM', 'LGR','CLASS']) "
      ],
      "execution_count": 257,
      "outputs": []
    },
    {
      "cell_type": "code",
      "metadata": {
        "colab": {
          "base_uri": "https://localhost:8080/",
          "height": 419
        },
        "id": "GGvlQU7epyEF",
        "outputId": "8ea6506f-353f-45cc-d309-25a58177e831"
      },
      "source": [
        "df"
      ],
      "execution_count": 258,
      "outputs": [
        {
          "output_type": "execute_result",
          "data": {
            "text/html": [
              "<div>\n",
              "<style scoped>\n",
              "    .dataframe tbody tr th:only-of-type {\n",
              "        vertical-align: middle;\n",
              "    }\n",
              "\n",
              "    .dataframe tbody tr th {\n",
              "        vertical-align: top;\n",
              "    }\n",
              "\n",
              "    .dataframe thead th {\n",
              "        text-align: right;\n",
              "    }\n",
              "</style>\n",
              "<table border=\"1\" class=\"dataframe\">\n",
              "  <thead>\n",
              "    <tr style=\"text-align: right;\">\n",
              "      <th></th>\n",
              "      <th></th>\n",
              "      <th>AREA</th>\n",
              "      <th>PER</th>\n",
              "      <th>COMP</th>\n",
              "      <th>LEN</th>\n",
              "      <th>WID</th>\n",
              "      <th>ASYM</th>\n",
              "      <th>LGR</th>\n",
              "      <th>CLASS</th>\n",
              "    </tr>\n",
              "  </thead>\n",
              "  <tbody>\n",
              "    <tr>\n",
              "      <th>15.26</th>\n",
              "      <th>14.84</th>\n",
              "      <td>0.8710</td>\n",
              "      <td>5.763</td>\n",
              "      <td>3.312</td>\n",
              "      <td>2.221</td>\n",
              "      <td>5.220</td>\n",
              "      <td>1.0</td>\n",
              "      <td>NaN</td>\n",
              "      <td>NaN</td>\n",
              "    </tr>\n",
              "    <tr>\n",
              "      <th>14.88</th>\n",
              "      <th>14.57</th>\n",
              "      <td>0.8811</td>\n",
              "      <td>5.554</td>\n",
              "      <td>3.333</td>\n",
              "      <td>1.018</td>\n",
              "      <td>4.956</td>\n",
              "      <td>1.0</td>\n",
              "      <td>NaN</td>\n",
              "      <td>NaN</td>\n",
              "    </tr>\n",
              "    <tr>\n",
              "      <th>14.29</th>\n",
              "      <th>14.09</th>\n",
              "      <td>0.9050</td>\n",
              "      <td>5.291</td>\n",
              "      <td>3.337</td>\n",
              "      <td>2.699</td>\n",
              "      <td>4.825</td>\n",
              "      <td>1.0</td>\n",
              "      <td>NaN</td>\n",
              "      <td>NaN</td>\n",
              "    </tr>\n",
              "    <tr>\n",
              "      <th>13.84</th>\n",
              "      <th>13.94</th>\n",
              "      <td>0.8955</td>\n",
              "      <td>5.324</td>\n",
              "      <td>3.379</td>\n",
              "      <td>2.259</td>\n",
              "      <td>4.805</td>\n",
              "      <td>1.0</td>\n",
              "      <td>NaN</td>\n",
              "      <td>NaN</td>\n",
              "    </tr>\n",
              "    <tr>\n",
              "      <th>16.14</th>\n",
              "      <th>14.99</th>\n",
              "      <td>0.9034</td>\n",
              "      <td>5.658</td>\n",
              "      <td>3.562</td>\n",
              "      <td>1.355</td>\n",
              "      <td>5.175</td>\n",
              "      <td>1.0</td>\n",
              "      <td>NaN</td>\n",
              "      <td>NaN</td>\n",
              "    </tr>\n",
              "    <tr>\n",
              "      <th>...</th>\n",
              "      <th>...</th>\n",
              "      <td>...</td>\n",
              "      <td>...</td>\n",
              "      <td>...</td>\n",
              "      <td>...</td>\n",
              "      <td>...</td>\n",
              "      <td>...</td>\n",
              "      <td>...</td>\n",
              "      <td>...</td>\n",
              "    </tr>\n",
              "    <tr>\n",
              "      <th>12.19</th>\n",
              "      <th>13.20</th>\n",
              "      <td>0.8783</td>\n",
              "      <td>5.137</td>\n",
              "      <td>2.981</td>\n",
              "      <td>3.631</td>\n",
              "      <td>4.870</td>\n",
              "      <td>3.0</td>\n",
              "      <td>NaN</td>\n",
              "      <td>NaN</td>\n",
              "    </tr>\n",
              "    <tr>\n",
              "      <th>11.23</th>\n",
              "      <th>12.88</th>\n",
              "      <td>0.8511</td>\n",
              "      <td>5.140</td>\n",
              "      <td>2.795</td>\n",
              "      <td>4.325</td>\n",
              "      <td>5.003</td>\n",
              "      <td>3.0</td>\n",
              "      <td>NaN</td>\n",
              "      <td>NaN</td>\n",
              "    </tr>\n",
              "    <tr>\n",
              "      <th>13.20</th>\n",
              "      <th>13.66</th>\n",
              "      <td>0.8883</td>\n",
              "      <td>5.236</td>\n",
              "      <td>3.232</td>\n",
              "      <td>8.315</td>\n",
              "      <td>5.056</td>\n",
              "      <td>3.0</td>\n",
              "      <td>NaN</td>\n",
              "      <td>NaN</td>\n",
              "    </tr>\n",
              "    <tr>\n",
              "      <th>11.84</th>\n",
              "      <th>13.21</th>\n",
              "      <td>0.8521</td>\n",
              "      <td>5.175</td>\n",
              "      <td>2.836</td>\n",
              "      <td>3.598</td>\n",
              "      <td>5.044</td>\n",
              "      <td>3.0</td>\n",
              "      <td>NaN</td>\n",
              "      <td>NaN</td>\n",
              "    </tr>\n",
              "    <tr>\n",
              "      <th>12.30</th>\n",
              "      <th>13.34</th>\n",
              "      <td>0.8684</td>\n",
              "      <td>5.243</td>\n",
              "      <td>2.974</td>\n",
              "      <td>5.637</td>\n",
              "      <td>5.063</td>\n",
              "      <td>3.0</td>\n",
              "      <td>NaN</td>\n",
              "      <td>NaN</td>\n",
              "    </tr>\n",
              "  </tbody>\n",
              "</table>\n",
              "<p>210 rows × 8 columns</p>\n",
              "</div>"
            ],
            "text/plain": [
              "               AREA    PER   COMP    LEN    WID  ASYM  LGR  CLASS\n",
              "15.26 14.84  0.8710  5.763  3.312  2.221  5.220   1.0  NaN    NaN\n",
              "14.88 14.57  0.8811  5.554  3.333  1.018  4.956   1.0  NaN    NaN\n",
              "14.29 14.09  0.9050  5.291  3.337  2.699  4.825   1.0  NaN    NaN\n",
              "13.84 13.94  0.8955  5.324  3.379  2.259  4.805   1.0  NaN    NaN\n",
              "16.14 14.99  0.9034  5.658  3.562  1.355  5.175   1.0  NaN    NaN\n",
              "...             ...    ...    ...    ...    ...   ...  ...    ...\n",
              "12.19 13.20  0.8783  5.137  2.981  3.631  4.870   3.0  NaN    NaN\n",
              "11.23 12.88  0.8511  5.140  2.795  4.325  5.003   3.0  NaN    NaN\n",
              "13.20 13.66  0.8883  5.236  3.232  8.315  5.056   3.0  NaN    NaN\n",
              "11.84 13.21  0.8521  5.175  2.836  3.598  5.044   3.0  NaN    NaN\n",
              "12.30 13.34  0.8684  5.243  2.974  5.637  5.063   3.0  NaN    NaN\n",
              "\n",
              "[210 rows x 8 columns]"
            ]
          },
          "metadata": {
            "tags": []
          },
          "execution_count": 258
        }
      ]
    },
    {
      "cell_type": "markdown",
      "metadata": {
        "id": "fw06-fKbwQS5"
      },
      "source": [
        "### 2.b) Preprocesamiento\n",
        "\n",
        "(2 pts) Normalice los datos antes de trabajar. ¿Es necesario separar  los datos en entrenamiento y test?\n",
        "\n",
        "```python\n",
        "from sklearn.preprocessing import StandardScaler\n",
        "targets = df.pop('CLASS')\n",
        "scaler = StandardScaler().fit_transform(df)\n",
        "df_scaled = pd.DataFrame(scaler, columns=df.columns)\n",
        "```"
      ]
    },
    {
      "cell_type": "code",
      "metadata": {
        "id": "KYunw_knlNIY"
      },
      "source": [
        "from sklearn.preprocessing import StandardScaler\r\n",
        "targets = df.pop('CLASS')\r\n",
        "scaler = StandardScaler().fit_transform(df)\r\n",
        "df_scaled = pd.DataFrame(scaler, columns=df.columns)\r\n",
        "df_scaled = df_scaled.fillna(0)"
      ],
      "execution_count": 259,
      "outputs": []
    },
    {
      "cell_type": "code",
      "metadata": {
        "colab": {
          "base_uri": "https://localhost:8080/",
          "height": 419
        },
        "id": "GZWyC113pizK",
        "outputId": "5e22bf4e-0d48-4238-ce90-f7ef85069769"
      },
      "source": [
        "df_scaled"
      ],
      "execution_count": 260,
      "outputs": [
        {
          "output_type": "execute_result",
          "data": {
            "text/html": [
              "<div>\n",
              "<style scoped>\n",
              "    .dataframe tbody tr th:only-of-type {\n",
              "        vertical-align: middle;\n",
              "    }\n",
              "\n",
              "    .dataframe tbody tr th {\n",
              "        vertical-align: top;\n",
              "    }\n",
              "\n",
              "    .dataframe thead th {\n",
              "        text-align: right;\n",
              "    }\n",
              "</style>\n",
              "<table border=\"1\" class=\"dataframe\">\n",
              "  <thead>\n",
              "    <tr style=\"text-align: right;\">\n",
              "      <th></th>\n",
              "      <th>AREA</th>\n",
              "      <th>PER</th>\n",
              "      <th>COMP</th>\n",
              "      <th>LEN</th>\n",
              "      <th>WID</th>\n",
              "      <th>ASYM</th>\n",
              "      <th>LGR</th>\n",
              "    </tr>\n",
              "  </thead>\n",
              "  <tbody>\n",
              "    <tr>\n",
              "      <th>0</th>\n",
              "      <td>-0.012031</td>\n",
              "      <td>0.277320</td>\n",
              "      <td>0.072952</td>\n",
              "      <td>-0.987249</td>\n",
              "      <td>-0.353138</td>\n",
              "      <td>-1.146031</td>\n",
              "      <td>0.0</td>\n",
              "    </tr>\n",
              "    <tr>\n",
              "      <th>1</th>\n",
              "      <td>0.422388</td>\n",
              "      <td>-0.013816</td>\n",
              "      <td>0.123083</td>\n",
              "      <td>-1.793794</td>\n",
              "      <td>-0.850279</td>\n",
              "      <td>-1.146031</td>\n",
              "      <td>0.0</td>\n",
              "    </tr>\n",
              "    <tr>\n",
              "      <th>2</th>\n",
              "      <td>1.450368</td>\n",
              "      <td>-0.380173</td>\n",
              "      <td>0.132632</td>\n",
              "      <td>-0.666777</td>\n",
              "      <td>-1.096966</td>\n",
              "      <td>-1.146031</td>\n",
              "      <td>0.0</td>\n",
              "    </tr>\n",
              "    <tr>\n",
              "      <th>3</th>\n",
              "      <td>1.041756</td>\n",
              "      <td>-0.334204</td>\n",
              "      <td>0.232894</td>\n",
              "      <td>-0.961772</td>\n",
              "      <td>-1.134629</td>\n",
              "      <td>-1.146031</td>\n",
              "      <td>0.0</td>\n",
              "    </tr>\n",
              "    <tr>\n",
              "      <th>4</th>\n",
              "      <td>1.381549</td>\n",
              "      <td>0.131056</td>\n",
              "      <td>0.669751</td>\n",
              "      <td>-1.567854</td>\n",
              "      <td>-0.437878</td>\n",
              "      <td>-1.146031</td>\n",
              "      <td>0.0</td>\n",
              "    </tr>\n",
              "    <tr>\n",
              "      <th>...</th>\n",
              "      <td>...</td>\n",
              "      <td>...</td>\n",
              "      <td>...</td>\n",
              "      <td>...</td>\n",
              "      <td>...</td>\n",
              "      <td>...</td>\n",
              "      <td>...</td>\n",
              "    </tr>\n",
              "    <tr>\n",
              "      <th>205</th>\n",
              "      <td>0.301955</td>\n",
              "      <td>-0.594694</td>\n",
              "      <td>-0.717210</td>\n",
              "      <td>-0.041923</td>\n",
              "      <td>-1.012227</td>\n",
              "      <td>0.968341</td>\n",
              "      <td>0.0</td>\n",
              "    </tr>\n",
              "    <tr>\n",
              "      <th>206</th>\n",
              "      <td>-0.867964</td>\n",
              "      <td>-0.590515</td>\n",
              "      <td>-1.161228</td>\n",
              "      <td>0.423366</td>\n",
              "      <td>-0.761773</td>\n",
              "      <td>0.968341</td>\n",
              "      <td>0.0</td>\n",
              "    </tr>\n",
              "    <tr>\n",
              "      <th>207</th>\n",
              "      <td>0.732072</td>\n",
              "      <td>-0.456788</td>\n",
              "      <td>-0.118023</td>\n",
              "      <td>3.098439</td>\n",
              "      <td>-0.661968</td>\n",
              "      <td>0.968341</td>\n",
              "      <td>0.0</td>\n",
              "    </tr>\n",
              "    <tr>\n",
              "      <th>208</th>\n",
              "      <td>-0.824952</td>\n",
              "      <td>-0.541761</td>\n",
              "      <td>-1.063353</td>\n",
              "      <td>-0.064047</td>\n",
              "      <td>-0.684565</td>\n",
              "      <td>0.968341</td>\n",
              "      <td>0.0</td>\n",
              "    </tr>\n",
              "    <tr>\n",
              "      <th>209</th>\n",
              "      <td>-0.123861</td>\n",
              "      <td>-0.447037</td>\n",
              "      <td>-0.733920</td>\n",
              "      <td>1.302989</td>\n",
              "      <td>-0.648786</td>\n",
              "      <td>0.968341</td>\n",
              "      <td>0.0</td>\n",
              "    </tr>\n",
              "  </tbody>\n",
              "</table>\n",
              "<p>210 rows × 7 columns</p>\n",
              "</div>"
            ],
            "text/plain": [
              "         AREA       PER      COMP       LEN       WID      ASYM  LGR\n",
              "0   -0.012031  0.277320  0.072952 -0.987249 -0.353138 -1.146031  0.0\n",
              "1    0.422388 -0.013816  0.123083 -1.793794 -0.850279 -1.146031  0.0\n",
              "2    1.450368 -0.380173  0.132632 -0.666777 -1.096966 -1.146031  0.0\n",
              "3    1.041756 -0.334204  0.232894 -0.961772 -1.134629 -1.146031  0.0\n",
              "4    1.381549  0.131056  0.669751 -1.567854 -0.437878 -1.146031  0.0\n",
              "..        ...       ...       ...       ...       ...       ...  ...\n",
              "205  0.301955 -0.594694 -0.717210 -0.041923 -1.012227  0.968341  0.0\n",
              "206 -0.867964 -0.590515 -1.161228  0.423366 -0.761773  0.968341  0.0\n",
              "207  0.732072 -0.456788 -0.118023  3.098439 -0.661968  0.968341  0.0\n",
              "208 -0.824952 -0.541761 -1.063353 -0.064047 -0.684565  0.968341  0.0\n",
              "209 -0.123861 -0.447037 -0.733920  1.302989 -0.648786  0.968341  0.0\n",
              "\n",
              "[210 rows x 7 columns]"
            ]
          },
          "metadata": {
            "tags": []
          },
          "execution_count": 260
        }
      ]
    },
    {
      "cell_type": "markdown",
      "metadata": {
        "id": "D62dYNG9wQS5"
      },
      "source": [
        "### 2.c) Clustering\n",
        "\n",
        "(2 pts) Clusterice los datos usando K-means, con el objetivo de clasificar el tipo de grano.\n",
        "\n",
        "```python\n",
        "from sklearn.cluster import KMeans\n",
        "kmeans = KMeans(n_clusters=, random_state=0)\n",
        "clusters = kmeans.fit_predict()\n",
        "```"
      ]
    },
    {
      "cell_type": "code",
      "metadata": {
        "id": "CVqoRqTrlSlE"
      },
      "source": [
        "from sklearn.cluster import KMeans\r\n",
        "kmeans = KMeans(n_clusters=1, random_state=0)\r\n",
        "clusters = kmeans.fit_predict(df_scaled)"
      ],
      "execution_count": 261,
      "outputs": []
    },
    {
      "cell_type": "code",
      "metadata": {
        "colab": {
          "base_uri": "https://localhost:8080/"
        },
        "id": "H0j4Jlz_rH61",
        "outputId": "cfe6f76b-f3b5-4b63-e226-e5e10a2cfdee"
      },
      "source": [
        "clusters"
      ],
      "execution_count": 262,
      "outputs": [
        {
          "output_type": "execute_result",
          "data": {
            "text/plain": [
              "array([0, 0, 0, 0, 0, 0, 0, 0, 0, 0, 0, 0, 0, 0, 0, 0, 0, 0, 0, 0, 0, 0,\n",
              "       0, 0, 0, 0, 0, 0, 0, 0, 0, 0, 0, 0, 0, 0, 0, 0, 0, 0, 0, 0, 0, 0,\n",
              "       0, 0, 0, 0, 0, 0, 0, 0, 0, 0, 0, 0, 0, 0, 0, 0, 0, 0, 0, 0, 0, 0,\n",
              "       0, 0, 0, 0, 0, 0, 0, 0, 0, 0, 0, 0, 0, 0, 0, 0, 0, 0, 0, 0, 0, 0,\n",
              "       0, 0, 0, 0, 0, 0, 0, 0, 0, 0, 0, 0, 0, 0, 0, 0, 0, 0, 0, 0, 0, 0,\n",
              "       0, 0, 0, 0, 0, 0, 0, 0, 0, 0, 0, 0, 0, 0, 0, 0, 0, 0, 0, 0, 0, 0,\n",
              "       0, 0, 0, 0, 0, 0, 0, 0, 0, 0, 0, 0, 0, 0, 0, 0, 0, 0, 0, 0, 0, 0,\n",
              "       0, 0, 0, 0, 0, 0, 0, 0, 0, 0, 0, 0, 0, 0, 0, 0, 0, 0, 0, 0, 0, 0,\n",
              "       0, 0, 0, 0, 0, 0, 0, 0, 0, 0, 0, 0, 0, 0, 0, 0, 0, 0, 0, 0, 0, 0,\n",
              "       0, 0, 0, 0, 0, 0, 0, 0, 0, 0, 0, 0], dtype=int32)"
            ]
          },
          "metadata": {
            "tags": []
          },
          "execution_count": 262
        }
      ]
    },
    {
      "cell_type": "markdown",
      "metadata": {
        "id": "Q4VUkhPNwQS5"
      },
      "source": [
        "### 2.d) Etiquetados vía clustering\n",
        "\n",
        "(2 pts) Etiquete cada cluster con la etiqueta correspondiente. Explique que hace el siguiente código.\n",
        "\n",
        "```python\n",
        "from scipy.stats import mode\n",
        "\n",
        "labels = np.zeros_like(clusters)\n",
        "for i in range(3):\n",
        "    mask = (clusters == i)\n",
        "    labels[mask] = mode(targets[mask])[0]\n",
        "```"
      ]
    },
    {
      "cell_type": "markdown",
      "metadata": {
        "id": "gzkvS_cNwQS5"
      },
      "source": [
        "### 2.e) Cálculo del desempeño\n",
        "\n",
        "(2 pts) Calcule el accuracy de la clasificación"
      ]
    },
    {
      "cell_type": "markdown",
      "metadata": {
        "id": "WHPRuvykwQS5"
      },
      "source": [
        "### 2.f) Matriz de confusión\n",
        "\n",
        "(2 pts) Muestre la matriz de confusión. Comente\n",
        "\n",
        "```python\n",
        "from sklearn.metrics import confusion_matrix\n",
        "\n",
        "mat = confusion_matrix(targets, labels)\n",
        "sns.heatmap(mat.T, square=True, annot=True, cbar=False)\n",
        "```"
      ]
    },
    {
      "cell_type": "markdown",
      "metadata": {
        "id": "QuNt5BIGwQS5"
      },
      "source": [
        "### 2.g) Mezcla de Gaussianas\n",
        "\n",
        "(2 pts) Clusterice los datos usando Mezcla de gaussianas, con el objetivo de clasificar el tipo de grano. Repita los pasos d) al g) usando este algoritmo. Compare con k-means y comente.\n",
        "\n",
        "```python\n",
        "from sklearn.mixture import GaussianMixture\n",
        "gmm = GaussianMixture(n_components=3).fit(df_scaled)\n",
        "clusters = gmm.predict(df_scaled)\n",
        "```"
      ]
    },
    {
      "cell_type": "markdown",
      "metadata": {
        "id": "4wptHBNYwQS5"
      },
      "source": [
        "### 2.i) Manifold\n",
        "\n",
        "(2 pts) Proyecte los datos usando el método de manifold TSNE. Compare k-means y mezcla de gaussianas usando esta proyección. ¿La proyección mejora los resultados?\n",
        "Comente.\n",
        "\n",
        "```python\n",
        "from sklearn.manifold import TSNE\n",
        "\n",
        "# Project the data: this step will take several seconds\n",
        "tsne = TSNE(n_components=2, init='random', random_state=0)\n",
        "data_proj = tsne.fit_transform(df_scaled)\n",
        "```"
      ]
    },
    {
      "cell_type": "code",
      "metadata": {
        "id": "iEP3ejFewQS5"
      },
      "source": [
        ""
      ],
      "execution_count": 232,
      "outputs": []
    }
  ]
}